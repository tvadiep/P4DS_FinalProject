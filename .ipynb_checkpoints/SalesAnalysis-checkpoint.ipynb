{
 "cells": [
  {
   "cell_type": "markdown",
   "id": "51733bb1",
   "metadata": {},
   "source": [
    "## Import các thư viện cần thiết"
   ]
  },
  {
   "cell_type": "code",
   "execution_count": 1,
   "id": "ce5e205a",
   "metadata": {},
   "outputs": [],
   "source": [
    "import pandas as pd\n",
    "import matplotlib.pyplot as plt\n",
    "import numpy as np"
   ]
  },
  {
   "cell_type": "markdown",
   "id": "1180583f",
   "metadata": {},
   "source": [
    "---"
   ]
  },
  {
   "cell_type": "markdown",
   "id": "28bb07a3",
   "metadata": {},
   "source": [
    "## Thu thập dữ liệu"
   ]
  },
  {
   "cell_type": "markdown",
   "id": "5f66e7f5",
   "metadata": {},
   "source": [
    "Trong bài này, ta sẽ dùng dữ liệu đã được thu thập sẵn là file \"Adidas Vs Nike.csv\" đính kèm; Adidas vs Nike là một cuộc cạnh tranh không ngừng trong ngành công nghiệp thể thao. Tập dữ liệu này bao gồm thông tin sản phẩm của hai công ty khổng lồ này với những thông tin quan trọng. Dữ liệu này được lấy từ trang Kaggle, và gốc của dữ liệu là [ở đây](https://data.world/data-hut/product-data-from-nike) (Nike) và\n",
    "[ở đây](https://data.world/data-hut/product-data-from-adidas) (Adidas).\n"
   ]
  },
  {
   "cell_type": "markdown",
   "id": "fbb4d405",
   "metadata": {},
   "source": [
    "---"
   ]
  },
  {
   "cell_type": "markdown",
   "id": "53cd73ec",
   "metadata": {},
   "source": [
    "## Khám phá dữ liệu"
   ]
  },
  {
   "cell_type": "markdown",
   "id": "6b868444",
   "metadata": {},
   "source": [
    "### Đọc dữ liệu từ file csv vào dataframe"
   ]
  },
  {
   "cell_type": "code",
   "execution_count": 2,
   "id": "30b9d75b",
   "metadata": {},
   "outputs": [
    {
     "data": {
      "text/html": [
       "<div>\n",
       "<style scoped>\n",
       "    .dataframe tbody tr th:only-of-type {\n",
       "        vertical-align: middle;\n",
       "    }\n",
       "\n",
       "    .dataframe tbody tr th {\n",
       "        vertical-align: top;\n",
       "    }\n",
       "\n",
       "    .dataframe thead th {\n",
       "        text-align: right;\n",
       "    }\n",
       "</style>\n",
       "<table border=\"1\" class=\"dataframe\">\n",
       "  <thead>\n",
       "    <tr style=\"text-align: right;\">\n",
       "      <th></th>\n",
       "      <th>Product Name</th>\n",
       "      <th>Product ID</th>\n",
       "      <th>Listing Price</th>\n",
       "      <th>Sale Price</th>\n",
       "      <th>Discount</th>\n",
       "      <th>Brand</th>\n",
       "      <th>Description</th>\n",
       "      <th>Rating</th>\n",
       "      <th>Reviews</th>\n",
       "      <th>Last Visited</th>\n",
       "    </tr>\n",
       "  </thead>\n",
       "  <tbody>\n",
       "    <tr>\n",
       "      <th>0</th>\n",
       "      <td>Women's adidas Originals NMD_Racer Primeknit S...</td>\n",
       "      <td>AH2430</td>\n",
       "      <td>14999</td>\n",
       "      <td>7499</td>\n",
       "      <td>50</td>\n",
       "      <td>Adidas Adidas ORIGINALS</td>\n",
       "      <td>Channeling the streamlined look of an '80s rac...</td>\n",
       "      <td>4.8</td>\n",
       "      <td>41</td>\n",
       "      <td>2020-04-13T15:06:14</td>\n",
       "    </tr>\n",
       "    <tr>\n",
       "      <th>1</th>\n",
       "      <td>Women's adidas Originals Sleek Shoes</td>\n",
       "      <td>G27341</td>\n",
       "      <td>7599</td>\n",
       "      <td>3799</td>\n",
       "      <td>50</td>\n",
       "      <td>Adidas ORIGINALS</td>\n",
       "      <td>A modern take on adidas sport heritage, tailor...</td>\n",
       "      <td>3.3</td>\n",
       "      <td>24</td>\n",
       "      <td>2020-04-13T15:06:15</td>\n",
       "    </tr>\n",
       "    <tr>\n",
       "      <th>2</th>\n",
       "      <td>Women's adidas Swim Puka Slippers</td>\n",
       "      <td>CM0081</td>\n",
       "      <td>999</td>\n",
       "      <td>599</td>\n",
       "      <td>40</td>\n",
       "      <td>Adidas CORE / NEO</td>\n",
       "      <td>These adidas Puka slippers for women's come wi...</td>\n",
       "      <td>2.6</td>\n",
       "      <td>37</td>\n",
       "      <td>2020-04-13T15:06:15</td>\n",
       "    </tr>\n",
       "    <tr>\n",
       "      <th>3</th>\n",
       "      <td>Women's adidas Sport Inspired Questar Ride Shoes</td>\n",
       "      <td>B44832</td>\n",
       "      <td>6999</td>\n",
       "      <td>3499</td>\n",
       "      <td>50</td>\n",
       "      <td>Adidas CORE / NEO</td>\n",
       "      <td>Inspired by modern tech runners, these women's...</td>\n",
       "      <td>4.1</td>\n",
       "      <td>35</td>\n",
       "      <td>2020-04-13T15:06:15</td>\n",
       "    </tr>\n",
       "    <tr>\n",
       "      <th>4</th>\n",
       "      <td>Women's adidas Originals Taekwondo Shoes</td>\n",
       "      <td>D98205</td>\n",
       "      <td>7999</td>\n",
       "      <td>3999</td>\n",
       "      <td>50</td>\n",
       "      <td>Adidas ORIGINALS</td>\n",
       "      <td>This design is inspired by vintage Taekwondo s...</td>\n",
       "      <td>3.5</td>\n",
       "      <td>72</td>\n",
       "      <td>2020-04-13T15:06:15</td>\n",
       "    </tr>\n",
       "    <tr>\n",
       "      <th>...</th>\n",
       "      <td>...</td>\n",
       "      <td>...</td>\n",
       "      <td>...</td>\n",
       "      <td>...</td>\n",
       "      <td>...</td>\n",
       "      <td>...</td>\n",
       "      <td>...</td>\n",
       "      <td>...</td>\n",
       "      <td>...</td>\n",
       "      <td>...</td>\n",
       "    </tr>\n",
       "    <tr>\n",
       "      <th>3263</th>\n",
       "      <td>Air Jordan 8 Retro</td>\n",
       "      <td>CI1236-100</td>\n",
       "      <td>15995</td>\n",
       "      <td>12797</td>\n",
       "      <td>0</td>\n",
       "      <td>Nike</td>\n",
       "      <td>The Air Jordan 8 Retro recaptures the memorabl...</td>\n",
       "      <td>5.0</td>\n",
       "      <td>1</td>\n",
       "      <td>2020-04-13T15:41:01</td>\n",
       "    </tr>\n",
       "    <tr>\n",
       "      <th>3264</th>\n",
       "      <td>Nike Phantom Venom Club IC</td>\n",
       "      <td>AO0578-717</td>\n",
       "      <td>4995</td>\n",
       "      <td>3497</td>\n",
       "      <td>0</td>\n",
       "      <td>Nike</td>\n",
       "      <td>The Nike Phantom Venom Club IC is engineered f...</td>\n",
       "      <td>0.0</td>\n",
       "      <td>0</td>\n",
       "      <td>2020-04-13T15:41:03</td>\n",
       "    </tr>\n",
       "    <tr>\n",
       "      <th>3265</th>\n",
       "      <td>Nike Mercurial Superfly 7 Academy TF</td>\n",
       "      <td>AT7978-414</td>\n",
       "      <td>8495</td>\n",
       "      <td>5947</td>\n",
       "      <td>0</td>\n",
       "      <td>Nike</td>\n",
       "      <td>The soft upper of the Nike Mercurial Superfly ...</td>\n",
       "      <td>5.0</td>\n",
       "      <td>1</td>\n",
       "      <td>2020-04-13T15:41:07</td>\n",
       "    </tr>\n",
       "    <tr>\n",
       "      <th>3266</th>\n",
       "      <td>Nike Air Max 98</td>\n",
       "      <td>AH6799-300</td>\n",
       "      <td>0</td>\n",
       "      <td>16995</td>\n",
       "      <td>0</td>\n",
       "      <td>Nike</td>\n",
       "      <td>The Nike Air Max 98 features the OG design lin...</td>\n",
       "      <td>4.0</td>\n",
       "      <td>4</td>\n",
       "      <td>2020-04-13T15:41:19</td>\n",
       "    </tr>\n",
       "    <tr>\n",
       "      <th>3267</th>\n",
       "      <td>Nike P-6000 SE</td>\n",
       "      <td>CJ9585-600</td>\n",
       "      <td>8995</td>\n",
       "      <td>6297</td>\n",
       "      <td>0</td>\n",
       "      <td>Nike</td>\n",
       "      <td>A mash-up of Pegasus' past, the Nike P-6000 SE...</td>\n",
       "      <td>0.0</td>\n",
       "      <td>0</td>\n",
       "      <td>2020-04-13T15:42:57</td>\n",
       "    </tr>\n",
       "  </tbody>\n",
       "</table>\n",
       "<p>3268 rows × 10 columns</p>\n",
       "</div>"
      ],
      "text/plain": [
       "                                           Product Name  Product ID  \\\n",
       "0     Women's adidas Originals NMD_Racer Primeknit S...      AH2430   \n",
       "1                  Women's adidas Originals Sleek Shoes      G27341   \n",
       "2                     Women's adidas Swim Puka Slippers      CM0081   \n",
       "3      Women's adidas Sport Inspired Questar Ride Shoes      B44832   \n",
       "4              Women's adidas Originals Taekwondo Shoes      D98205   \n",
       "...                                                 ...         ...   \n",
       "3263                                 Air Jordan 8 Retro  CI1236-100   \n",
       "3264                         Nike Phantom Venom Club IC  AO0578-717   \n",
       "3265               Nike Mercurial Superfly 7 Academy TF  AT7978-414   \n",
       "3266                                    Nike Air Max 98  AH6799-300   \n",
       "3267                                     Nike P-6000 SE  CJ9585-600   \n",
       "\n",
       "      Listing Price  Sale Price  Discount                    Brand  \\\n",
       "0             14999        7499        50  Adidas Adidas ORIGINALS   \n",
       "1              7599        3799        50         Adidas ORIGINALS   \n",
       "2               999         599        40        Adidas CORE / NEO   \n",
       "3              6999        3499        50        Adidas CORE / NEO   \n",
       "4              7999        3999        50         Adidas ORIGINALS   \n",
       "...             ...         ...       ...                      ...   \n",
       "3263          15995       12797         0                     Nike   \n",
       "3264           4995        3497         0                     Nike   \n",
       "3265           8495        5947         0                     Nike   \n",
       "3266              0       16995         0                     Nike   \n",
       "3267           8995        6297         0                     Nike   \n",
       "\n",
       "                                            Description  Rating  Reviews  \\\n",
       "0     Channeling the streamlined look of an '80s rac...     4.8       41   \n",
       "1     A modern take on adidas sport heritage, tailor...     3.3       24   \n",
       "2     These adidas Puka slippers for women's come wi...     2.6       37   \n",
       "3     Inspired by modern tech runners, these women's...     4.1       35   \n",
       "4     This design is inspired by vintage Taekwondo s...     3.5       72   \n",
       "...                                                 ...     ...      ...   \n",
       "3263  The Air Jordan 8 Retro recaptures the memorabl...     5.0        1   \n",
       "3264  The Nike Phantom Venom Club IC is engineered f...     0.0        0   \n",
       "3265  The soft upper of the Nike Mercurial Superfly ...     5.0        1   \n",
       "3266  The Nike Air Max 98 features the OG design lin...     4.0        4   \n",
       "3267  A mash-up of Pegasus' past, the Nike P-6000 SE...     0.0        0   \n",
       "\n",
       "             Last Visited  \n",
       "0     2020-04-13T15:06:14  \n",
       "1     2020-04-13T15:06:15  \n",
       "2     2020-04-13T15:06:15  \n",
       "3     2020-04-13T15:06:15  \n",
       "4     2020-04-13T15:06:15  \n",
       "...                   ...  \n",
       "3263  2020-04-13T15:41:01  \n",
       "3264  2020-04-13T15:41:03  \n",
       "3265  2020-04-13T15:41:07  \n",
       "3266  2020-04-13T15:41:19  \n",
       "3267  2020-04-13T15:42:57  \n",
       "\n",
       "[3268 rows x 10 columns]"
      ]
     },
     "execution_count": 2,
     "metadata": {},
     "output_type": "execute_result"
    }
   ],
   "source": [
<<<<<<< HEAD
    "df = pd.read_csv(\"Adidas_Nike.csv\")\n",
=======
    "df = pd.read_csv(\"Adidas Vs Nike.csv\")\n",
>>>>>>> Diep
    "df"
   ]
  },
  {
   "cell_type": "markdown",
   "id": "0d1021a4",
   "metadata": {},
   "source": [
    "### Dữ liệu gồm có bao nhiêu dòng và bao nhiêu cột?"
   ]
  },
  {
   "cell_type": "code",
   "execution_count": 3,
   "id": "8aa71035",
   "metadata": {},
   "outputs": [
    {
     "name": "stdout",
     "output_type": "stream",
     "text": [
      "Số dòng:  3268\n",
      "Số cột:  10\n"
     ]
    }
   ],
   "source": [
    "print('Số dòng: ',df.shape[0])\n",
    "print('Số cột: ',df.shape[1])"
   ]
  },
  {
   "cell_type": "markdown",
   "id": "42f8e16a",
   "metadata": {},
   "source": [
    "### Mỗi dòng có ý nghĩa gì? Có vấn đề các dòng có ý nghĩa khác nhau không?"
   ]
  },
  {
   "cell_type": "markdown",
   "id": "c7ee8e27",
   "metadata": {},
   "source": [
    "Theo quan sát sơ bộ về dữ liệu thì mỗi dòng là thông tin của một sản phẩm. Có vẻ không có dòng nào bị \"lạc loài\"."
   ]
  },
  {
   "cell_type": "markdown",
   "id": "61f5e8a4",
   "metadata": {},
   "source": [
    "### Dữ liệu có các dòng bị lặp không?"
   ]
  },
  {
   "cell_type": "code",
   "execution_count": 4,
   "id": "932e667a",
   "metadata": {},
   "outputs": [
    {
     "name": "stdout",
     "output_type": "stream",
     "text": [
      "Không có dòng nào bị lặp\n"
     ]
    }
   ],
   "source": [
    "num_duplicated_rows = df.duplicated().sum()\n",
    "if num_duplicated_rows == 0:\n",
    "    print('Không có dòng nào bị lặp')\n",
    "else:\n",
    "    print('Có {} dòng bị lặp'.format(num_duplicated_rows))"
   ]
  },
  {
   "cell_type": "markdown",
   "id": "a5eab855",
   "metadata": {},
   "source": [
    "### Mỗi cột có ý nghĩa gì?"
   ]
  },
  {
   "cell_type": "markdown",
   "id": "0a31b7c6",
   "metadata": {},
   "source": [
    "- **Product Name**: Tên sản phẩm.\n",
    "- **Product ID**: Id sản phẩm.\n",
    "- **Listing Price**: Giá niêm yết.\n",
    "- **Sale Price**: Giá bán.\n",
    "- **Discount**: Giảm giá.\n",
    "- **Brand**: Nhãn hiệu.\n",
    "- **Description**: Mô tả.\n",
    "- **Rating**: Đánh giá.\n",
    "- **Reviews**: Số lượt nhận xét\n",
    "- **Last Visited**: Thời điểm ghi nhận dữ liệu."
   ]
  },
  {
   "cell_type": "markdown",
   "id": "a713f68a",
   "metadata": {},
   "source": [
    "### Mỗi cột hiện đang có kiểu dữ liệu gì? Có cột nào có kiểu dữ liệu chưa phù hợp để có thể xử lý tiếp không?"
   ]
  },
  {
   "cell_type": "code",
   "execution_count": 5,
   "id": "f8518575",
   "metadata": {},
   "outputs": [
    {
     "data": {
      "text/plain": [
       "Product Name      object\n",
       "Product ID        object\n",
       "Listing Price      int64\n",
       "Sale Price         int64\n",
       "Discount           int64\n",
       "Brand             object\n",
       "Description       object\n",
       "Rating           float64\n",
       "Reviews            int64\n",
       "Last Visited      object\n",
       "dtype: object"
      ]
     },
     "execution_count": 5,
     "metadata": {},
     "output_type": "execute_result"
    }
   ],
   "source": [
    "df.dtypes"
   ]
  },
  {
   "cell_type": "markdown",
   "id": "809ca2bd",
   "metadata": {},
   "source": [
    "**Cột có dtype là object nghĩa là sao?**"
   ]
  },
  {
   "cell_type": "code",
   "execution_count": 6,
   "id": "5a3f45bc",
   "metadata": {},
   "outputs": [],
   "source": [
    "def open_object_dtype(s):\n",
    "    dtypes = set(s.apply(type))\n",
    "    return dtypes"
   ]
  },
  {
   "cell_type": "code",
   "execution_count": 7,
   "id": "32b0b4e7",
   "metadata": {},
   "outputs": [
    {
     "data": {
      "text/html": [
       "<div>\n",
       "<style scoped>\n",
       "    .dataframe tbody tr th:only-of-type {\n",
       "        vertical-align: middle;\n",
       "    }\n",
       "\n",
       "    .dataframe tbody tr th {\n",
       "        vertical-align: top;\n",
       "    }\n",
       "\n",
       "    .dataframe thead th {\n",
       "        text-align: right;\n",
       "    }\n",
       "</style>\n",
       "<table border=\"1\" class=\"dataframe\">\n",
       "  <thead>\n",
       "    <tr style=\"text-align: right;\">\n",
       "      <th></th>\n",
       "      <th>Column</th>\n",
       "      <th>Type</th>\n",
       "    </tr>\n",
       "  </thead>\n",
       "  <tbody>\n",
       "    <tr>\n",
       "      <th>0</th>\n",
       "      <td>Product Name</td>\n",
       "      <td>{&lt;class 'str'&gt;}</td>\n",
       "    </tr>\n",
       "    <tr>\n",
       "      <th>1</th>\n",
       "      <td>Product ID</td>\n",
       "      <td>{&lt;class 'str'&gt;}</td>\n",
       "    </tr>\n",
       "    <tr>\n",
       "      <th>2</th>\n",
       "      <td>Brand</td>\n",
       "      <td>{&lt;class 'str'&gt;}</td>\n",
       "    </tr>\n",
       "    <tr>\n",
       "      <th>3</th>\n",
       "      <td>Description</td>\n",
       "      <td>{&lt;class 'str'&gt;}</td>\n",
       "    </tr>\n",
       "    <tr>\n",
       "      <th>4</th>\n",
       "      <td>Last Visited</td>\n",
       "      <td>{&lt;class 'str'&gt;}</td>\n",
       "    </tr>\n",
       "  </tbody>\n",
       "</table>\n",
       "</div>"
      ],
      "text/plain": [
       "         Column             Type\n",
       "0  Product Name  {<class 'str'>}\n",
       "1    Product ID  {<class 'str'>}\n",
       "2         Brand  {<class 'str'>}\n",
       "3   Description  {<class 'str'>}\n",
       "4  Last Visited  {<class 'str'>}"
      ]
     },
     "execution_count": 7,
     "metadata": {},
     "output_type": "execute_result"
    }
   ],
   "source": [
    "cate_col_df = df.select_dtypes(include='object').columns\n",
    "type_col = []\n",
    "for col in cate_col_df:\n",
    "    type_col.append(open_object_dtype(df['Product Name']))\n",
    "pd.DataFrame({'Column':cate_col_df, 'Type':type_col})"
   ]
  },
  {
   "cell_type": "markdown",
   "id": "b63888ac",
   "metadata": {},
   "source": [
    "Các cột có vẻ như đã có kiểu dữ liệu hợp lý. Riêng cột Last Visited nên ở dạng datetime. Để có thể tiếp tục khám phá thêm về cột này, ta sẽ thực hiện bước tiền xử lý là chuyển sang dạng `datetime`."
   ]
  },
  {
   "cell_type": "markdown",
   "id": "cedbc5eb",
   "metadata": {},
   "source": [
    "## Tiền xử lý"
   ]
  },
  {
   "cell_type": "markdown",
   "id": "e4a40a20",
   "metadata": {},
   "source": [
    "### Chuyển dtype của cột \"Last Visited\" sang datetime"
   ]
  },
  {
   "cell_type": "code",
   "execution_count": 8,
   "id": "15b0ade9",
   "metadata": {},
   "outputs": [],
   "source": [
    "df['Last Visited'] = pd.to_datetime(df['Last Visited'])"
   ]
  },
  {
   "cell_type": "markdown",
   "id": "52265d81",
   "metadata": {},
   "source": [
    "## Khám phá dữ liệu (tiếp tục)"
   ]
  },
  {
   "cell_type": "markdown",
   "id": "87d09d42",
   "metadata": {},
   "source": [
    "### Với mỗi cột có kiểu dữ liệu dạng numeric, các giá trị được phân bố như thế nào?"
   ]
  },
  {
   "cell_type": "markdown",
   "id": "255cbdac",
   "metadata": {},
   "source": [
    "Hiện có 6 cột có vẻ là thuộc nhóm numeric: 'Listing Price','Sale Price','Discount','Rating','Reviews','Last Visited'\n",
    "Với các cột này, ta sẽ tính:\n",
    "- Tỉ lệ % (từ 0 đến 100) các giá trị thiếu \n",
    "- Giá trị min\n",
    "- Giá trị lower quartile (phân vị 25)\n",
    "- Giá trị median (phân vị 50)\n",
    "- Giá trị upper quartile (phân vị 75)\n",
    "- Giá trị max"
   ]
  },
  {
   "cell_type": "code",
   "execution_count": 9,
   "id": "572d3aa6",
   "metadata": {},
   "outputs": [
    {
     "data": {
      "text/html": [
       "<div>\n",
       "<style scoped>\n",
       "    .dataframe tbody tr th:only-of-type {\n",
       "        vertical-align: middle;\n",
       "    }\n",
       "\n",
       "    .dataframe tbody tr th {\n",
       "        vertical-align: top;\n",
       "    }\n",
       "\n",
       "    .dataframe thead th {\n",
       "        text-align: right;\n",
       "    }\n",
       "</style>\n",
       "<table border=\"1\" class=\"dataframe\">\n",
       "  <thead>\n",
       "    <tr style=\"text-align: right;\">\n",
       "      <th></th>\n",
       "      <th>Listing Price</th>\n",
       "      <th>Sale Price</th>\n",
       "      <th>Discount</th>\n",
       "      <th>Rating</th>\n",
       "      <th>Reviews</th>\n",
       "      <th>Last Visited</th>\n",
       "    </tr>\n",
       "  </thead>\n",
       "  <tbody>\n",
       "    <tr>\n",
       "      <th>missing_ratio</th>\n",
       "      <td>0.0</td>\n",
       "      <td>0.0</td>\n",
       "      <td>0.0</td>\n",
       "      <td>0.0</td>\n",
       "      <td>0.0</td>\n",
       "      <td>0.0</td>\n",
       "    </tr>\n",
       "    <tr>\n",
       "      <th>min</th>\n",
       "      <td>0.0</td>\n",
       "      <td>449.0</td>\n",
       "      <td>0.0</td>\n",
       "      <td>0.0</td>\n",
       "      <td>0.0</td>\n",
       "      <td>2020-04-13 15:06:14</td>\n",
       "    </tr>\n",
       "    <tr>\n",
       "      <th>lower_quartile</th>\n",
       "      <td>4299.0</td>\n",
       "      <td>2999.0</td>\n",
       "      <td>0.0</td>\n",
       "      <td>2.6</td>\n",
       "      <td>10.0</td>\n",
       "      <td>2020-04-13 15:06:47</td>\n",
       "    </tr>\n",
       "    <tr>\n",
       "      <th>median</th>\n",
       "      <td>5999.0</td>\n",
       "      <td>4799.0</td>\n",
       "      <td>40.0</td>\n",
       "      <td>3.5</td>\n",
       "      <td>37.0</td>\n",
       "      <td>2020-04-13 15:07:20</td>\n",
       "    </tr>\n",
       "    <tr>\n",
       "      <th>upper_quartile</th>\n",
       "      <td>8999.0</td>\n",
       "      <td>7995.0</td>\n",
       "      <td>50.0</td>\n",
       "      <td>4.4</td>\n",
       "      <td>68.0</td>\n",
       "      <td>2020-04-13 15:07:53</td>\n",
       "    </tr>\n",
       "    <tr>\n",
       "      <th>max</th>\n",
       "      <td>29999.0</td>\n",
       "      <td>36500.0</td>\n",
       "      <td>60.0</td>\n",
       "      <td>5.0</td>\n",
       "      <td>223.0</td>\n",
       "      <td>2020-04-13 15:42:57</td>\n",
       "    </tr>\n",
       "  </tbody>\n",
       "</table>\n",
       "</div>"
      ],
      "text/plain": [
       "                Listing Price  Sale Price  Discount  Rating  Reviews  \\\n",
       "missing_ratio             0.0         0.0       0.0     0.0      0.0   \n",
       "min                       0.0       449.0       0.0     0.0      0.0   \n",
       "lower_quartile         4299.0      2999.0       0.0     2.6     10.0   \n",
       "median                 5999.0      4799.0      40.0     3.5     37.0   \n",
       "upper_quartile         8999.0      7995.0      50.0     4.4     68.0   \n",
       "max                   29999.0     36500.0      60.0     5.0    223.0   \n",
       "\n",
       "                       Last Visited  \n",
       "missing_ratio                   0.0  \n",
       "min             2020-04-13 15:06:14  \n",
       "lower_quartile  2020-04-13 15:06:47  \n",
       "median          2020-04-13 15:07:20  \n",
       "upper_quartile  2020-04-13 15:07:53  \n",
       "max             2020-04-13 15:42:57  "
      ]
     },
     "execution_count": 9,
     "metadata": {},
     "output_type": "execute_result"
    }
   ],
   "source": [
    "num_col_df = df.select_dtypes(exclude='object').columns\n",
    "num_df = df[num_col_df]\n",
    "#num_df = df[['Listing Price','Sale Price','Discount','Rating','Reviews']]\n",
    "def missing_ratio(s):\n",
    "    return (s.isna().mean() * 100)\n",
    "def median(df):\n",
    "    return df.quantile(0.5)\n",
    "def lower_quartile(df):\n",
    "    return df.quantile(0.25)\n",
    "def upper_quartile(df):\n",
    "    return df.quantile(0.75)\n",
    "num_col_info_df = num_df.agg([missing_ratio, min, lower_quartile, median, upper_quartile, max])\n",
    "num_col_info_df"
   ]
  },
  {
   "cell_type": "markdown",
   "id": "9422e4f4",
   "metadata": {},
   "source": [
    "Listing Price là giá niêm yết nhưng lại có giá trị bằng 0. Điều này là không hợp lý, do đó ta cần thay đổi các giá trị có Listing Price = 0 thành giá trị của cột Sale Price"
   ]
  },
  {
   "cell_type": "markdown",
   "id": "7bc81c4b",
   "metadata": {},
   "source": [
    "## Tiền xử lý (tiếp tục)"
   ]
  },
  {
   "cell_type": "markdown",
   "id": "00469451",
   "metadata": {},
   "source": [
    "### Replace những giá trị Listing Price = 0 thành giá trị của cột Sale Price"
   ]
  },
  {
   "cell_type": "code",
   "execution_count": 10,
   "id": "87b338e0",
   "metadata": {},
   "outputs": [],
   "source": [
    "df['Listing Price'] = np.where(df['Listing Price'] == 0, df['Sale Price'], df['Listing Price'])"
   ]
  },
  {
   "cell_type": "code",
   "execution_count": 11,
   "id": "5eb1e118",
   "metadata": {},
   "outputs": [
    {
     "data": {
      "text/html": [
       "<div>\n",
       "<style scoped>\n",
       "    .dataframe tbody tr th:only-of-type {\n",
       "        vertical-align: middle;\n",
       "    }\n",
       "\n",
       "    .dataframe tbody tr th {\n",
       "        vertical-align: top;\n",
       "    }\n",
       "\n",
       "    .dataframe thead th {\n",
       "        text-align: right;\n",
       "    }\n",
       "</style>\n",
       "<table border=\"1\" class=\"dataframe\">\n",
       "  <thead>\n",
       "    <tr style=\"text-align: right;\">\n",
       "      <th></th>\n",
       "      <th>Listing Price</th>\n",
       "      <th>Sale Price</th>\n",
       "      <th>Discount</th>\n",
       "      <th>Rating</th>\n",
       "      <th>Reviews</th>\n",
       "      <th>Last Visited</th>\n",
       "    </tr>\n",
       "  </thead>\n",
       "  <tbody>\n",
       "    <tr>\n",
       "      <th>missing_ratio</th>\n",
       "      <td>0.0</td>\n",
       "      <td>0.0</td>\n",
       "      <td>0.0</td>\n",
       "      <td>0.0</td>\n",
       "      <td>0.0</td>\n",
       "      <td>0.0</td>\n",
       "    </tr>\n",
       "    <tr>\n",
       "      <th>min</th>\n",
       "      <td>899.0</td>\n",
       "      <td>449.0</td>\n",
       "      <td>0.0</td>\n",
       "      <td>0.0</td>\n",
       "      <td>0.0</td>\n",
       "      <td>2020-04-13 15:06:14</td>\n",
       "    </tr>\n",
       "    <tr>\n",
       "      <th>lower_quartile</th>\n",
       "      <td>4999.0</td>\n",
       "      <td>2999.0</td>\n",
       "      <td>0.0</td>\n",
       "      <td>2.6</td>\n",
       "      <td>10.0</td>\n",
       "      <td>2020-04-13 15:06:47</td>\n",
       "    </tr>\n",
       "    <tr>\n",
       "      <th>median</th>\n",
       "      <td>7599.0</td>\n",
       "      <td>4799.0</td>\n",
       "      <td>40.0</td>\n",
       "      <td>3.5</td>\n",
       "      <td>37.0</td>\n",
       "      <td>2020-04-13 15:07:20</td>\n",
       "    </tr>\n",
       "    <tr>\n",
       "      <th>upper_quartile</th>\n",
       "      <td>10995.0</td>\n",
       "      <td>7995.0</td>\n",
       "      <td>50.0</td>\n",
       "      <td>4.4</td>\n",
       "      <td>68.0</td>\n",
       "      <td>2020-04-13 15:07:53</td>\n",
       "    </tr>\n",
       "    <tr>\n",
       "      <th>max</th>\n",
       "      <td>36500.0</td>\n",
       "      <td>36500.0</td>\n",
       "      <td>60.0</td>\n",
       "      <td>5.0</td>\n",
       "      <td>223.0</td>\n",
       "      <td>2020-04-13 15:42:57</td>\n",
       "    </tr>\n",
       "  </tbody>\n",
       "</table>\n",
       "</div>"
      ],
      "text/plain": [
       "                Listing Price  Sale Price  Discount  Rating  Reviews  \\\n",
       "missing_ratio             0.0         0.0       0.0     0.0      0.0   \n",
       "min                     899.0       449.0       0.0     0.0      0.0   \n",
       "lower_quartile         4999.0      2999.0       0.0     2.6     10.0   \n",
       "median                 7599.0      4799.0      40.0     3.5     37.0   \n",
       "upper_quartile        10995.0      7995.0      50.0     4.4     68.0   \n",
       "max                   36500.0     36500.0      60.0     5.0    223.0   \n",
       "\n",
       "                       Last Visited  \n",
       "missing_ratio                   0.0  \n",
       "min             2020-04-13 15:06:14  \n",
       "lower_quartile  2020-04-13 15:06:47  \n",
       "median          2020-04-13 15:07:20  \n",
       "upper_quartile  2020-04-13 15:07:53  \n",
       "max             2020-04-13 15:42:57  "
      ]
     },
     "execution_count": 11,
     "metadata": {},
     "output_type": "execute_result"
    }
   ],
   "source": [
    "# Xem lại phân bố\n",
    "num_df = df[num_col_df]\n",
    "num_col_info_df = num_df.agg([missing_ratio, min, lower_quartile, median, upper_quartile, max])\n",
    "num_col_info_df"
   ]
  },
  {
   "cell_type": "markdown",
   "id": "bec40bb3",
   "metadata": {},
   "source": [
    "## Khám phá dữ liệu (tiếp tục)"
   ]
  },
  {
   "cell_type": "markdown",
   "id": "6a4283f3",
   "metadata": {},
   "source": [
    "### Với mỗi cột có kiểu dữ liệu dạng categorical, các giá trị được phân bố như thế nào?"
   ]
  },
  {
   "cell_type": "markdown",
   "id": "bd2d6056",
   "metadata": {},
   "source": [
    "Hiện có 4 cột có vẻ là thuộc nhóm categorical: 'Product Name','Product ID','Brand','Description'. Với các cột này ta sẽ tính:\n",
    "- Tỉ lệ % giá trị thiếu (từ 0 đến 100)\n",
    "- Số lượng giá trị khác nhau\n",
    "- List các giá trị khác nhau"
   ]
  },
  {
   "cell_type": "code",
   "execution_count": 12,
   "id": "18048ef2",
   "metadata": {},
   "outputs": [
    {
     "data": {
      "text/html": [
       "<div>\n",
       "<style scoped>\n",
       "    .dataframe tbody tr th:only-of-type {\n",
       "        vertical-align: middle;\n",
       "    }\n",
       "\n",
       "    .dataframe tbody tr th {\n",
       "        vertical-align: top;\n",
       "    }\n",
       "\n",
       "    .dataframe thead th {\n",
       "        text-align: right;\n",
       "    }\n",
       "</style>\n",
       "<table border=\"1\" class=\"dataframe\">\n",
       "  <thead>\n",
       "    <tr style=\"text-align: right;\">\n",
       "      <th></th>\n",
       "      <th>Product Name</th>\n",
       "      <th>Product ID</th>\n",
       "      <th>Brand</th>\n",
       "      <th>Description</th>\n",
       "    </tr>\n",
       "  </thead>\n",
       "  <tbody>\n",
       "    <tr>\n",
       "      <th>missing_ratio</th>\n",
       "      <td>0.0</td>\n",
       "      <td>0.0</td>\n",
       "      <td>0.0</td>\n",
       "      <td>0.091799</td>\n",
       "    </tr>\n",
       "    <tr>\n",
       "      <th>num_diff_vals</th>\n",
       "      <td>1531</td>\n",
       "      <td>3179</td>\n",
       "      <td>5</td>\n",
       "      <td>1762</td>\n",
       "    </tr>\n",
       "    <tr>\n",
       "      <th>diff_vals</th>\n",
       "      <td>[Women's adidas Originals NMD_Racer Primeknit ...</td>\n",
       "      <td>[AH2430, G27341, CM0081, B44832, D98205, B7558...</td>\n",
       "      <td>[Adidas Adidas ORIGINALS, Adidas ORIGINALS, Ad...</td>\n",
       "      <td>[Channeling the streamlined look of an '80s ra...</td>\n",
       "    </tr>\n",
       "  </tbody>\n",
       "</table>\n",
       "</div>"
      ],
      "text/plain": [
       "                                                    Product Name  \\\n",
       "missing_ratio                                                0.0   \n",
       "num_diff_vals                                               1531   \n",
       "diff_vals      [Women's adidas Originals NMD_Racer Primeknit ...   \n",
       "\n",
       "                                                      Product ID  \\\n",
       "missing_ratio                                                0.0   \n",
       "num_diff_vals                                               3179   \n",
       "diff_vals      [AH2430, G27341, CM0081, B44832, D98205, B7558...   \n",
       "\n",
       "                                                           Brand  \\\n",
       "missing_ratio                                                0.0   \n",
       "num_diff_vals                                                  5   \n",
       "diff_vals      [Adidas Adidas ORIGINALS, Adidas ORIGINALS, Ad...   \n",
       "\n",
       "                                                     Description  \n",
       "missing_ratio                                           0.091799  \n",
       "num_diff_vals                                               1762  \n",
       "diff_vals      [Channeling the streamlined look of an '80s ra...  "
      ]
     },
     "execution_count": 12,
     "metadata": {},
     "output_type": "execute_result"
    }
   ],
   "source": [
    "cate_col_df = df.select_dtypes(include='object').columns\n",
    "cate_df = df[cate_col_df]\n",
    "def missing_ratio(s):\n",
    "    return (s.isna().mean() * 100)\n",
    "def num_diff_vals(s):\n",
    "    return s.nunique()\n",
    "def diff_vals(s):\n",
    "    return s.unique()\n",
    "\n",
    "cate_col_profiles_df = cate_df.agg([missing_ratio, num_diff_vals, diff_vals])\n",
    "#raise NotImplementedError()\n",
    "cate_col_profiles_df"
   ]
  },
  {
   "cell_type": "markdown",
   "id": "6251d0fc",
   "metadata": {},
   "source": [
    "## Đưa ra câu hỏi"
   ]
  },
  {
   "cell_type": "markdown",
   "id": "e03cb0e6",
   "metadata": {},
   "source": [
    "* Viết các hàm để người dùng lựa chọn sản phẩm dựa vào điều kiện cho trước\n",
    "* Với mỗi phân khúc giá khác nhau, Nike hay Adidas được yêu thích hơn (dựa vào Rating)\n",
    "* Top n sản phẩm tốt nhất của từng phân khúc\n",
    "* Với số tiền tầm X thì tôi nên mua sản phẩm nào?"
   ]
  },
  {
   "cell_type": "markdown",
   "id": "b77bc536",
   "metadata": {},
   "source": [
    "### Câu 1: Viết các hàm để người dùng lựa chọn sản phẩm dựa vào điều kiện cho trước\n",
    "* **Hàm 1: Top n Review cao nhất của Brand tùy chọn  có SalePrice <= x (x tùy chọn). Nếu Reviews bằng nhau thì lấy ra sản phẩm có Rating cao hơn. Nếu Rating bằng nhau thì lấy ra sản phẩm được xuất hiện trước trong dữ liệu.**\n",
    "* **Hàm 2: Những sản phẩm có Discount >= d (d tùy chọn), ListingPrice >= x (x tùy chọn) được sắp xếp giảm dần theo Rating và Reviews**"
   ]
  },
  {
   "cell_type": "markdown",
   "id": "a1fb6ee2",
   "metadata": {},
   "source": [
    "Nếu trả lời được câu hỏi này, người dùng có thể lựa chọn sản phẩm như mong muốn của mình "
   ]
  },
  {
   "cell_type": "markdown",
   "id": "3847b494",
   "metadata": {},
   "source": [
    "#### Hàm 1: Top n Review cao nhất của Brand tùy chọn  có SalePrice <= x (x tùy chọn). Nếu Reviews bằng nhau thì lấy ra sản phẩm có Rating cao hơn. Nếu Rating bằng nhau thì lấy ra sản phẩm được xuất hiện trước trong dữ liệu."
   ]
  },
  {
   "cell_type": "code",
   "execution_count": 13,
   "id": "381bd153",
   "metadata": {},
   "outputs": [],
   "source": [
    "def top_reviews(brand, n=5 , max_sale_price = 6000):\n",
    "    # Lấy ra sản phẩm thuộc brand và có sale price thỏa yêu cầu\n",
    "    df_brand = df[(df['Brand']==brand)&(df['Sale Price']<= max_sale_price)]\n",
    "    # Sắp xếp lại giảm dần theo Reviews, Rating\n",
    "    df_sort = df_brand.sort_values(['Reviews','Rating'],ascending=False)\n",
    "    # Trả về tối đa n sản phẩm đầu tiên của df_sort\n",
    "    return df_sort.iloc[:n,:]"
   ]
  },
  {
   "cell_type": "code",
   "execution_count": 14,
   "id": "54066b94",
   "metadata": {},
   "outputs": [
    {
     "data": {
      "text/html": [
       "<div>\n",
       "<style scoped>\n",
       "    .dataframe tbody tr th:only-of-type {\n",
       "        vertical-align: middle;\n",
       "    }\n",
       "\n",
       "    .dataframe tbody tr th {\n",
       "        vertical-align: top;\n",
       "    }\n",
       "\n",
       "    .dataframe thead th {\n",
       "        text-align: right;\n",
       "    }\n",
       "</style>\n",
       "<table border=\"1\" class=\"dataframe\">\n",
       "  <thead>\n",
       "    <tr style=\"text-align: right;\">\n",
       "      <th></th>\n",
       "      <th>Product Name</th>\n",
       "      <th>Product ID</th>\n",
       "      <th>Listing Price</th>\n",
       "      <th>Sale Price</th>\n",
       "      <th>Discount</th>\n",
       "      <th>Brand</th>\n",
       "      <th>Description</th>\n",
       "      <th>Rating</th>\n",
       "      <th>Reviews</th>\n",
       "      <th>Last Visited</th>\n",
       "    </tr>\n",
       "  </thead>\n",
       "  <tbody>\n",
       "    <tr>\n",
       "      <th>267</th>\n",
       "      <td>Men's adidas Toe Side II Slippers</td>\n",
       "      <td>CM0070</td>\n",
       "      <td>1299</td>\n",
       "      <td>779</td>\n",
       "      <td>40</td>\n",
       "      <td>Adidas CORE / NEO</td>\n",
       "      <td>The adidas casual slippers for men with a stri...</td>\n",
       "      <td>5.0</td>\n",
       "      <td>99</td>\n",
       "      <td>2020-04-13 15:06:28</td>\n",
       "    </tr>\n",
       "    <tr>\n",
       "      <th>1800</th>\n",
       "      <td>Men's adidas Running Asweego Shoes</td>\n",
       "      <td>F35560</td>\n",
       "      <td>7999</td>\n",
       "      <td>3999</td>\n",
       "      <td>50</td>\n",
       "      <td>Adidas CORE / NEO</td>\n",
       "      <td>Shoes with flexibility and responsiveness for ...</td>\n",
       "      <td>5.0</td>\n",
       "      <td>99</td>\n",
       "      <td>2020-04-13 15:07:28</td>\n",
       "    </tr>\n",
       "    <tr>\n",
       "      <th>723</th>\n",
       "      <td>Women's adidas Sport Inspired Farm Rio Advanta...</td>\n",
       "      <td>EF0133</td>\n",
       "      <td>5999</td>\n",
       "      <td>3599</td>\n",
       "      <td>40</td>\n",
       "      <td>Adidas CORE / NEO</td>\n",
       "      <td>Court-inspired style with a tropical twist. Th...</td>\n",
       "      <td>4.6</td>\n",
       "      <td>99</td>\n",
       "      <td>2020-04-13 15:06:44</td>\n",
       "    </tr>\n",
       "    <tr>\n",
       "      <th>1073</th>\n",
       "      <td>Men's adidas Sport Inspired Questar BYD Shoes</td>\n",
       "      <td>F35040</td>\n",
       "      <td>6999</td>\n",
       "      <td>4199</td>\n",
       "      <td>40</td>\n",
       "      <td>Adidas CORE / NEO</td>\n",
       "      <td>Shoes that respond to your movements. These ba...</td>\n",
       "      <td>4.1</td>\n",
       "      <td>99</td>\n",
       "      <td>2020-04-13 15:06:57</td>\n",
       "    </tr>\n",
       "    <tr>\n",
       "      <th>1385</th>\n",
       "      <td>WOMEN'S ADIDAS SWIM EEZAY DOTS FLIP-FLOPS</td>\n",
       "      <td>CG3552</td>\n",
       "      <td>1999</td>\n",
       "      <td>999</td>\n",
       "      <td>50</td>\n",
       "      <td>Adidas CORE / NEO</td>\n",
       "      <td>Slip into the soft-stepping comfort of these w...</td>\n",
       "      <td>3.7</td>\n",
       "      <td>99</td>\n",
       "      <td>2020-04-13 15:07:09</td>\n",
       "    </tr>\n",
       "  </tbody>\n",
       "</table>\n",
       "</div>"
      ],
      "text/plain": [
       "                                           Product Name Product ID  \\\n",
       "267                   Men's adidas Toe Side II Slippers     CM0070   \n",
       "1800                 Men's adidas Running Asweego Shoes     F35560   \n",
       "723   Women's adidas Sport Inspired Farm Rio Advanta...     EF0133   \n",
       "1073      Men's adidas Sport Inspired Questar BYD Shoes     F35040   \n",
       "1385          WOMEN'S ADIDAS SWIM EEZAY DOTS FLIP-FLOPS     CG3552   \n",
       "\n",
       "      Listing Price  Sale Price  Discount              Brand  \\\n",
       "267            1299         779        40  Adidas CORE / NEO   \n",
       "1800           7999        3999        50  Adidas CORE / NEO   \n",
       "723            5999        3599        40  Adidas CORE / NEO   \n",
       "1073           6999        4199        40  Adidas CORE / NEO   \n",
       "1385           1999         999        50  Adidas CORE / NEO   \n",
       "\n",
       "                                            Description  Rating  Reviews  \\\n",
       "267   The adidas casual slippers for men with a stri...     5.0       99   \n",
       "1800  Shoes with flexibility and responsiveness for ...     5.0       99   \n",
       "723   Court-inspired style with a tropical twist. Th...     4.6       99   \n",
       "1073  Shoes that respond to your movements. These ba...     4.1       99   \n",
       "1385  Slip into the soft-stepping comfort of these w...     3.7       99   \n",
       "\n",
       "            Last Visited  \n",
       "267  2020-04-13 15:06:28  \n",
       "1800 2020-04-13 15:07:28  \n",
       "723  2020-04-13 15:06:44  \n",
       "1073 2020-04-13 15:06:57  \n",
       "1385 2020-04-13 15:07:09  "
      ]
     },
     "execution_count": 14,
     "metadata": {},
     "output_type": "execute_result"
    }
   ],
   "source": [
    "top_reviews('Adidas CORE / NEO')"
   ]
  },
  {
   "cell_type": "markdown",
   "id": "9830fa31",
   "metadata": {},
   "source": [
    "Giả sử như ta muốn lựa chọn một sản phẩm của Adidas CORE / NEO nhưng vì ngân sách có hạn nên ta chỉ muốn lựa sản phẩm tốt mà có giá bán thấp hơn 6000. Thực hiên thao tác trên. Ta phát hiện hai sản phẩm **Men's adidas Toe Side II Slippers** và **Men's adidas Running Asweego Shoes** có đến 99 lượt Reviews mà rating đạt 5.0. Ta sẽ cân nhắc chọn các sản phẩm này."
   ]
  },
  {
   "cell_type": "markdown",
   "id": "7ef1c2e5",
   "metadata": {},
   "source": [
    "#### Hàm 2: Những sản phẩm có Discount >= d (d tùy chọn), ListingPrice >= x (x tùy chọn) được sắp xếp giảm dần theo Rating và Reviews"
   ]
  },
  {
   "cell_type": "code",
   "execution_count": 15,
   "id": "ec8ee0a3",
   "metadata": {},
   "outputs": [],
   "source": [
    "def find_product_sale(d=40 , min_listing_price = 15000):\n",
    "    # Lấy ra sản phẩm có Discount và Listing Price thỏa yêu cầu\n",
    "    sale_df = df[(df['Discount']>=d)&(df['Listing Price']>=min_listing_price)]\n",
    "    # Sắp xếp lại giảm dần theo Reviews, Rating và reset index\n",
    "    sort_df = sale_df.sort_values(['Rating','Reviews'], ascending= False).reset_index()\n",
    "    # Các cột muốn hiển thị\n",
    "    columns_view = ['Product Name','Listing Price','Sale Price','Discount','Brand','Rating','Reviews']\n",
    "    return sort_df.loc[:,columns_view]"
   ]
  },
  {
   "cell_type": "code",
   "execution_count": 16,
   "id": "f159e03e",
   "metadata": {},
   "outputs": [
    {
     "data": {
      "text/html": [
       "<div>\n",
       "<style scoped>\n",
       "    .dataframe tbody tr th:only-of-type {\n",
       "        vertical-align: middle;\n",
       "    }\n",
       "\n",
       "    .dataframe tbody tr th {\n",
       "        vertical-align: top;\n",
       "    }\n",
       "\n",
       "    .dataframe thead th {\n",
       "        text-align: right;\n",
       "    }\n",
       "</style>\n",
       "<table border=\"1\" class=\"dataframe\">\n",
       "  <thead>\n",
       "    <tr style=\"text-align: right;\">\n",
       "      <th></th>\n",
       "      <th>Product Name</th>\n",
       "      <th>Listing Price</th>\n",
       "      <th>Sale Price</th>\n",
       "      <th>Discount</th>\n",
       "      <th>Brand</th>\n",
       "      <th>Rating</th>\n",
       "      <th>Reviews</th>\n",
       "    </tr>\n",
       "  </thead>\n",
       "  <tbody>\n",
       "    <tr>\n",
       "      <th>0</th>\n",
       "      <td>Men's adidas Originals by Alexander Wang Futureshell Shoes</td>\n",
       "      <td>21999</td>\n",
       "      <td>13199</td>\n",
       "      <td>40</td>\n",
       "      <td>Adidas ORIGINALS</td>\n",
       "      <td>4.9</td>\n",
       "      <td>81</td>\n",
       "    </tr>\n",
       "    <tr>\n",
       "      <th>1</th>\n",
       "      <td>Men's adidas Football Predator 19+ Firm Ground Cleats</td>\n",
       "      <td>22999</td>\n",
       "      <td>13799</td>\n",
       "      <td>40</td>\n",
       "      <td>Adidas SPORT PERFORMANCE</td>\n",
       "      <td>4.6</td>\n",
       "      <td>44</td>\n",
       "    </tr>\n",
       "    <tr>\n",
       "      <th>2</th>\n",
       "      <td>Men's adidas Originals by Alexander Wang Futureshell Shoes</td>\n",
       "      <td>21999</td>\n",
       "      <td>13199</td>\n",
       "      <td>40</td>\n",
       "      <td>Adidas ORIGINALS</td>\n",
       "      <td>4.5</td>\n",
       "      <td>9</td>\n",
       "    </tr>\n",
       "    <tr>\n",
       "      <th>3</th>\n",
       "      <td>Men's adidas Originals FuturePacer Shoes</td>\n",
       "      <td>19999</td>\n",
       "      <td>9999</td>\n",
       "      <td>50</td>\n",
       "      <td>Adidas ORIGINALS</td>\n",
       "      <td>4.0</td>\n",
       "      <td>67</td>\n",
       "    </tr>\n",
       "    <tr>\n",
       "      <th>4</th>\n",
       "      <td>Men's adidas Originals By Alexander Wang B-Ball Shoes</td>\n",
       "      <td>21999</td>\n",
       "      <td>10999</td>\n",
       "      <td>50</td>\n",
       "      <td>Adidas ORIGINALS</td>\n",
       "      <td>4.0</td>\n",
       "      <td>19</td>\n",
       "    </tr>\n",
       "    <tr>\n",
       "      <th>5</th>\n",
       "      <td>Men's adidas Originals Crazy BYW LVL X Pharrell Williams Shoes</td>\n",
       "      <td>21999</td>\n",
       "      <td>10999</td>\n",
       "      <td>50</td>\n",
       "      <td>Adidas ORIGINALS</td>\n",
       "      <td>4.0</td>\n",
       "      <td>10</td>\n",
       "    </tr>\n",
       "    <tr>\n",
       "      <th>6</th>\n",
       "      <td>Men's adidas Originals Pharrell Williams X BYW CNY Shoes</td>\n",
       "      <td>21999</td>\n",
       "      <td>10999</td>\n",
       "      <td>50</td>\n",
       "      <td>Adidas ORIGINALS</td>\n",
       "      <td>3.9</td>\n",
       "      <td>30</td>\n",
       "    </tr>\n",
       "    <tr>\n",
       "      <th>7</th>\n",
       "      <td>Men's adidas Football X 18+ Firm Ground Cleats</td>\n",
       "      <td>22999</td>\n",
       "      <td>11499</td>\n",
       "      <td>50</td>\n",
       "      <td>Adidas SPORT PERFORMANCE</td>\n",
       "      <td>3.8</td>\n",
       "      <td>37</td>\n",
       "    </tr>\n",
       "    <tr>\n",
       "      <th>8</th>\n",
       "      <td>Men's adidas Football Predator 19+ Firm Ground Cleats</td>\n",
       "      <td>22999</td>\n",
       "      <td>13799</td>\n",
       "      <td>40</td>\n",
       "      <td>Adidas SPORT PERFORMANCE</td>\n",
       "      <td>3.5</td>\n",
       "      <td>68</td>\n",
       "    </tr>\n",
       "    <tr>\n",
       "      <th>9</th>\n",
       "      <td>Men's adidas Originals FuturePacer Shoes</td>\n",
       "      <td>19999</td>\n",
       "      <td>9999</td>\n",
       "      <td>50</td>\n",
       "      <td>Adidas ORIGINALS</td>\n",
       "      <td>3.5</td>\n",
       "      <td>1</td>\n",
       "    </tr>\n",
       "    <tr>\n",
       "      <th>10</th>\n",
       "      <td>MEN'S ADIDAS FOOTBALL NEMEZIZ 18+ FIRM GROUND BOOTS</td>\n",
       "      <td>21999</td>\n",
       "      <td>10999</td>\n",
       "      <td>50</td>\n",
       "      <td>Adidas SPORT PERFORMANCE</td>\n",
       "      <td>3.1</td>\n",
       "      <td>90</td>\n",
       "    </tr>\n",
       "    <tr>\n",
       "      <th>11</th>\n",
       "      <td>Men's adidas Football Copa 19+ Firm Ground Cleats</td>\n",
       "      <td>22999</td>\n",
       "      <td>13799</td>\n",
       "      <td>40</td>\n",
       "      <td>Adidas SPORT PERFORMANCE</td>\n",
       "      <td>3.1</td>\n",
       "      <td>34</td>\n",
       "    </tr>\n",
       "    <tr>\n",
       "      <th>12</th>\n",
       "      <td>Men's s adidas Football Nemeziz 18+ Firm Ground Boots</td>\n",
       "      <td>22999</td>\n",
       "      <td>11499</td>\n",
       "      <td>50</td>\n",
       "      <td>Adidas SPORT PERFORMANCE</td>\n",
       "      <td>3.0</td>\n",
       "      <td>7</td>\n",
       "    </tr>\n",
       "    <tr>\n",
       "      <th>13</th>\n",
       "      <td>Unisex adidas Originals By Alexander Wang B-Ball Soccer Shoes</td>\n",
       "      <td>21999</td>\n",
       "      <td>10999</td>\n",
       "      <td>50</td>\n",
       "      <td>Adidas ORIGINALS</td>\n",
       "      <td>2.7</td>\n",
       "      <td>73</td>\n",
       "    </tr>\n",
       "    <tr>\n",
       "      <th>14</th>\n",
       "      <td>Men's adidas Football Copa 19+ Firm Ground Cleats</td>\n",
       "      <td>22999</td>\n",
       "      <td>13799</td>\n",
       "      <td>40</td>\n",
       "      <td>Adidas SPORT PERFORMANCE</td>\n",
       "      <td>2.2</td>\n",
       "      <td>79</td>\n",
       "    </tr>\n",
       "    <tr>\n",
       "      <th>15</th>\n",
       "      <td>Men's adidas Football Nemeziz 19+ Firm Ground Cleats</td>\n",
       "      <td>22999</td>\n",
       "      <td>13799</td>\n",
       "      <td>40</td>\n",
       "      <td>Adidas SPORT PERFORMANCE</td>\n",
       "      <td>1.0</td>\n",
       "      <td>62</td>\n",
       "    </tr>\n",
       "  </tbody>\n",
       "</table>\n",
       "</div>"
      ],
      "text/plain": [
       "                                                      Product Name  \\\n",
       "0       Men's adidas Originals by Alexander Wang Futureshell Shoes   \n",
       "1            Men's adidas Football Predator 19+ Firm Ground Cleats   \n",
       "2       Men's adidas Originals by Alexander Wang Futureshell Shoes   \n",
       "3                         Men's adidas Originals FuturePacer Shoes   \n",
       "4            Men's adidas Originals By Alexander Wang B-Ball Shoes   \n",
       "5   Men's adidas Originals Crazy BYW LVL X Pharrell Williams Shoes   \n",
       "6         Men's adidas Originals Pharrell Williams X BYW CNY Shoes   \n",
       "7                   Men's adidas Football X 18+ Firm Ground Cleats   \n",
       "8            Men's adidas Football Predator 19+ Firm Ground Cleats   \n",
       "9                         Men's adidas Originals FuturePacer Shoes   \n",
       "10             MEN'S ADIDAS FOOTBALL NEMEZIZ 18+ FIRM GROUND BOOTS   \n",
       "11               Men's adidas Football Copa 19+ Firm Ground Cleats   \n",
       "12           Men's s adidas Football Nemeziz 18+ Firm Ground Boots   \n",
       "13   Unisex adidas Originals By Alexander Wang B-Ball Soccer Shoes   \n",
       "14               Men's adidas Football Copa 19+ Firm Ground Cleats   \n",
       "15            Men's adidas Football Nemeziz 19+ Firm Ground Cleats   \n",
       "\n",
       "    Listing Price  Sale Price  Discount                     Brand  Rating  \\\n",
       "0           21999       13199        40          Adidas ORIGINALS     4.9   \n",
       "1           22999       13799        40  Adidas SPORT PERFORMANCE     4.6   \n",
       "2           21999       13199        40          Adidas ORIGINALS     4.5   \n",
       "3           19999        9999        50          Adidas ORIGINALS     4.0   \n",
       "4           21999       10999        50          Adidas ORIGINALS     4.0   \n",
       "5           21999       10999        50          Adidas ORIGINALS     4.0   \n",
       "6           21999       10999        50          Adidas ORIGINALS     3.9   \n",
       "7           22999       11499        50  Adidas SPORT PERFORMANCE     3.8   \n",
       "8           22999       13799        40  Adidas SPORT PERFORMANCE     3.5   \n",
       "9           19999        9999        50          Adidas ORIGINALS     3.5   \n",
       "10          21999       10999        50  Adidas SPORT PERFORMANCE     3.1   \n",
       "11          22999       13799        40  Adidas SPORT PERFORMANCE     3.1   \n",
       "12          22999       11499        50  Adidas SPORT PERFORMANCE     3.0   \n",
       "13          21999       10999        50          Adidas ORIGINALS     2.7   \n",
       "14          22999       13799        40  Adidas SPORT PERFORMANCE     2.2   \n",
       "15          22999       13799        40  Adidas SPORT PERFORMANCE     1.0   \n",
       "\n",
       "    Reviews  \n",
       "0        81  \n",
       "1        44  \n",
       "2         9  \n",
       "3        67  \n",
       "4        19  \n",
       "5        10  \n",
       "6        30  \n",
       "7        37  \n",
       "8        68  \n",
       "9         1  \n",
       "10       90  \n",
       "11       34  \n",
       "12        7  \n",
       "13       73  \n",
       "14       79  \n",
       "15       62  "
      ]
     },
     "execution_count": 16,
     "metadata": {},
     "output_type": "execute_result"
    }
   ],
   "source": [
    "pd.set_option('display.max_colwidth', None) # Hiển thị full chuỗi dài (cột Product Name)\n",
    "find_product_sale(min_listing_price = 19000)"
   ]
  },
  {
   "cell_type": "markdown",
   "id": "6cea3d0d",
   "metadata": {},
   "source": [
    "Giả sử như ta muốn sở hữu một sản phẩm có giá niêm yết cao hơn 19000 để khoe với bạn bè nhưng lại muốn mua vào lúc đang được giảm giá mạnh với discount >=40. Thực hiên thao tác trên. Ta phát hiện sản phẩm **Men's adidas Originals by Alexander Wang Futureshell Shoes** có đến 81 lượt Reviews mà rating đạt 4.9. Ta sẽ cân nhắc chọn sản phẩm này."
   ]
  },
  {
   "cell_type": "markdown",
   "id": "86918002",
   "metadata": {},
   "source": [
    "### Câu 2: Với mỗi phân khúc giá khác nhau, Nike hay Adidas được yêu thích hơn (dựa vào Rating)"
   ]
  },
  {
   "cell_type": "markdown",
   "id": "6c4be9a8",
   "metadata": {},
   "source": [
    "Một mẫu câu hỏi mà chúng ta thường xuyên thấy trên diễn đàn, forum của các trang MXH là: \"Với số tiền X thì nên mua sản phẩm của hãng nào?\"\n",
    "\n",
    "Do đó sẽ rất có ý nghĩa nếu chúng ta đặt ra câu hỏi rằng ở các phân khúc giá khác nhau thì Nike hay Adidas được đánh giá cao hơn? Để trả lời được câu hỏi này, ta cần thực hiến các bước sau\n",
    "* Bước 1: Tạo cột là `Company` cho biết sản phẩm thuộc công ty nào\n",
    "* Bước 2: Tạo cột `Segmentation` cho biết sản phẩm thuộc phân khúc giá nào. Ở đây có chúng ta sẽ chia ra làm 4 phân khúc như sau `[0,1000)`,  `[1000,10000)`, `[10000,20000)`, `[20000,36500]`\n",
    "* Bước 3: Đánh giá mức độ yêu thích dựa vào nhiều tiêu chí khác nhau sau đó thể hiện lại bằng biểu đồ.\n",
    "    + Tiêu chí 1: Dựa vào trung bình ratings của từng phân khúc (tiền xử lý cần xóa đi các sản phẩm không có review)\n",
    "    + Tiêu chí 2: Dựa vào tỉ lệ số lượng sản phẩm có Rating >= 4.5 và số lượng sản phẩm\n",
    "    \n",
    "Trả lời được câu hỏi này, ta có thể lựa chọn cho mình một thương hiệu đáng tin tưởng tùy theo điều kiện của mỗi người."
   ]
  },
  {
   "cell_type": "markdown",
   "id": "13b6be5f",
   "metadata": {},
   "source": [
    "#### Tạo cột Company"
   ]
  },
  {
   "cell_type": "code",
   "execution_count": 17,
   "id": "2f5a9785",
   "metadata": {},
   "outputs": [
    {
     "data": {
      "text/plain": [
       "array(['Adidas Adidas ORIGINALS', 'Adidas ORIGINALS', 'Adidas CORE / NEO',\n",
       "       'Adidas SPORT PERFORMANCE', 'Nike'], dtype=object)"
      ]
     },
     "execution_count": 17,
     "metadata": {},
     "output_type": "execute_result"
    }
   ],
   "source": [
    "# Xem lại cột Brand\n",
    "df['Brand'].unique()"
   ]
  },
  {
   "cell_type": "markdown",
   "id": "612e8c3a",
   "metadata": {},
   "source": [
    "Ở đây chỉ có hai hãng là Adidas và Nike tuy nhiên cột Brand có nhiều giá trị khác nhau. Lý do là hãng Adidas lại chia nhỏ ra nhiều giá trị khác nhau. Để thống nhất lại chỉ còn đúng 2 nhãn hiệu, ta làm như sau:"
   ]
  },
  {
   "cell_type": "code",
   "execution_count": 18,
   "id": "bf9ee304",
   "metadata": {},
   "outputs": [],
   "source": [
    "# Tạo thêm cột 'Company' vào df với tất cả giá trị đều là Adidas\n",
    "df['Company']='Adidas'\n",
    "# Thay đổi các giá trị Adidas lại thành Nike cho đúng với những vị trí thật sự là Nike\n",
    "df.loc[df.Brand == 'Nike', 'Company'] = 'Nike'"
   ]
  },
  {
   "cell_type": "markdown",
   "id": "a41739d0",
   "metadata": {},
   "source": [
    "#### Tạo cột Segmentation"
   ]
  },
  {
   "cell_type": "markdown",
   "id": "c94fb7fc",
   "metadata": {},
   "source": [
    "Thêm cột 'Segmentation' với các giá trị 1, 2, 3, 4 tương ứng với các phân khúc giá [0,3000), [3000,10000), [10000,20000), [20000,...]"
   ]
  },
  {
   "cell_type": "code",
   "execution_count": 19,
   "id": "a6a894e2",
   "metadata": {},
   "outputs": [],
   "source": [
    "df.loc[(df['Sale Price']<3000) , 'Segmentation'] = '1'\n",
    "df.loc[(df['Sale Price']>=3000)&(df['Sale Price']<10000), 'Segmentation'] = '2'\n",
    "df.loc[(df['Sale Price']>=10000)&(df['Sale Price']<20000), 'Segmentation'] = '3'\n",
    "df.loc[(df['Sale Price']>=20000), 'Segmentation'] = '4'"
   ]
  },
  {
   "cell_type": "markdown",
   "id": "b750bf91",
   "metadata": {},
   "source": [
    "#### Đánh giá bằng tiêu chí 1: Dựa vào trung bình ratings của từng phân khúc (tiền xử lý cần xóa đi các sản phẩm không có review)"
   ]
  },
  {
   "cell_type": "code",
   "execution_count": 20,
   "id": "dc4a8e54",
   "metadata": {},
   "outputs": [
    {
     "data": {
      "text/html": [
       "<div>\n",
       "<style scoped>\n",
       "    .dataframe tbody tr th:only-of-type {\n",
       "        vertical-align: middle;\n",
       "    }\n",
       "\n",
       "    .dataframe tbody tr th {\n",
       "        vertical-align: top;\n",
       "    }\n",
       "\n",
       "    .dataframe thead th {\n",
       "        text-align: right;\n",
       "    }\n",
       "</style>\n",
       "<table border=\"1\" class=\"dataframe\">\n",
       "  <thead>\n",
       "    <tr style=\"text-align: right;\">\n",
       "      <th></th>\n",
       "      <th>Company</th>\n",
       "      <th>Segmentation</th>\n",
       "      <th>Rating</th>\n",
       "    </tr>\n",
       "  </thead>\n",
       "  <tbody>\n",
       "    <tr>\n",
       "      <th>0</th>\n",
       "      <td>Adidas</td>\n",
       "      <td>1</td>\n",
       "      <td>3.460621</td>\n",
       "    </tr>\n",
       "    <tr>\n",
       "      <th>1</th>\n",
       "      <td>Adidas</td>\n",
       "      <td>2</td>\n",
       "      <td>3.441689</td>\n",
       "    </tr>\n",
       "    <tr>\n",
       "      <th>2</th>\n",
       "      <td>Adidas</td>\n",
       "      <td>3</td>\n",
       "      <td>3.644608</td>\n",
       "    </tr>\n",
       "    <tr>\n",
       "      <th>3</th>\n",
       "      <td>Adidas</td>\n",
       "      <td>4</td>\n",
       "      <td>3.333333</td>\n",
       "    </tr>\n",
       "    <tr>\n",
       "      <th>4</th>\n",
       "      <td>Nike</td>\n",
       "      <td>1</td>\n",
       "      <td>4.037500</td>\n",
       "    </tr>\n",
       "    <tr>\n",
       "      <th>5</th>\n",
       "      <td>Nike</td>\n",
       "      <td>2</td>\n",
       "      <td>4.178378</td>\n",
       "    </tr>\n",
       "    <tr>\n",
       "      <th>6</th>\n",
       "      <td>Nike</td>\n",
       "      <td>3</td>\n",
       "      <td>4.349425</td>\n",
       "    </tr>\n",
       "    <tr>\n",
       "      <th>7</th>\n",
       "      <td>Nike</td>\n",
       "      <td>4</td>\n",
       "      <td>4.180000</td>\n",
       "    </tr>\n",
       "  </tbody>\n",
       "</table>\n",
       "</div>"
      ],
      "text/plain": [
       "  Company Segmentation    Rating\n",
       "0  Adidas            1  3.460621\n",
       "1  Adidas            2  3.441689\n",
       "2  Adidas            3  3.644608\n",
       "3  Adidas            4  3.333333\n",
       "4    Nike            1  4.037500\n",
       "5    Nike            2  4.178378\n",
       "6    Nike            3  4.349425\n",
       "7    Nike            4  4.180000"
      ]
     },
     "execution_count": 20,
     "metadata": {},
     "output_type": "execute_result"
    }
   ],
   "source": [
    "companys_df = df.copy()\n",
    "companys_df = companys_df[(companys_df['Reviews'] != 0)&(companys_df['Rating'] >= 1)]\n",
    "# Chia các giá trị của Company thành các cột riêng\n",
    "tmpdf = companys_df[['Company','Segmentation', 'Rating']]\n",
    "comp_seg_rating = tmpdf.groupby(['Company','Segmentation'], as_index = False).mean()\n",
    "comp_seg_rating"
   ]
  },
  {
   "cell_type": "code",
   "execution_count": 21,
   "id": "3569680d",
   "metadata": {},
   "outputs": [
    {
     "data": {
      "text/html": [
       "<div>\n",
       "<style scoped>\n",
       "    .dataframe tbody tr th:only-of-type {\n",
       "        vertical-align: middle;\n",
       "    }\n",
       "\n",
       "    .dataframe tbody tr th {\n",
       "        vertical-align: top;\n",
       "    }\n",
       "\n",
       "    .dataframe thead tr th {\n",
       "        text-align: left;\n",
       "    }\n",
       "\n",
       "    .dataframe thead tr:last-of-type th {\n",
       "        text-align: right;\n",
       "    }\n",
       "</style>\n",
       "<table border=\"1\" class=\"dataframe\">\n",
       "  <thead>\n",
       "    <tr>\n",
       "      <th></th>\n",
       "      <th colspan=\"2\" halign=\"left\">Rating</th>\n",
       "    </tr>\n",
       "    <tr>\n",
       "      <th>Company</th>\n",
       "      <th>Adidas</th>\n",
       "      <th>Nike</th>\n",
       "    </tr>\n",
       "    <tr>\n",
       "      <th>Segmentation</th>\n",
       "      <th></th>\n",
       "      <th></th>\n",
       "    </tr>\n",
       "  </thead>\n",
       "  <tbody>\n",
       "    <tr>\n",
       "      <th>1</th>\n",
       "      <td>3.460621</td>\n",
       "      <td>4.037500</td>\n",
       "    </tr>\n",
       "    <tr>\n",
       "      <th>2</th>\n",
       "      <td>3.441689</td>\n",
       "      <td>4.178378</td>\n",
       "    </tr>\n",
       "    <tr>\n",
       "      <th>3</th>\n",
       "      <td>3.644608</td>\n",
       "      <td>4.349425</td>\n",
       "    </tr>\n",
       "    <tr>\n",
       "      <th>4</th>\n",
       "      <td>3.333333</td>\n",
       "      <td>4.180000</td>\n",
       "    </tr>\n",
       "  </tbody>\n",
       "</table>\n",
       "</div>"
      ],
      "text/plain": [
       "                Rating          \n",
       "Company         Adidas      Nike\n",
       "Segmentation                    \n",
       "1             3.460621  4.037500\n",
       "2             3.441689  4.178378\n",
       "3             3.644608  4.349425\n",
       "4             3.333333  4.180000"
      ]
     },
     "execution_count": 21,
     "metadata": {},
     "output_type": "execute_result"
    }
   ],
   "source": [
    "comp_seg_rating =comp_seg_rating.set_index(['Company','Segmentation']).unstack(level = 0)\n",
    "#comp_seg_rating.columns = comp_seg_rating.columns.droplevel()\n",
    "comp_seg_rating"
   ]
  },
  {
   "cell_type": "code",
   "execution_count": 22,
   "id": "51440135",
   "metadata": {},
   "outputs": [
    {
     "data": {
      "image/png": "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\n",
      "text/plain": [
       "<Figure size 432x288 with 1 Axes>"
      ]
     },
     "metadata": {
      "needs_background": "light"
     },
     "output_type": "display_data"
    }
   ],
   "source": [
    "myplot = comp_seg_rating.plot(kind = 'line', use_index = True, marker = 'o',\\\n",
    "        xlabel = 'Segmentation', ylabel = 'Rating');\n",
    "myplot.set_ylim(1,5);"
   ]
  },
  {
   "cell_type": "markdown",
   "id": "6714cdd1",
   "metadata": {},
   "source": [
    "#### Đánh giá bằng tiêu chí 2: Dựa vào tỉ lệ số lượng sản phẩm có Rating >= 4.5 và số lượng sản phẩm"
   ]
  },
  {
   "cell_type": "code",
   "execution_count": 23,
   "id": "a851d2dc",
   "metadata": {},
   "outputs": [],
   "source": [
    "type_adidas = df[(df['Company']=='Adidas')&(df['Rating']>=4.5)].groupby('Segmentation')['Product ID'].count()\n",
    "type_nike = df[(df['Company']=='Nike')&(df['Rating']>=4.5)].groupby('Segmentation')['Product ID'].count()"
   ]
  },
  {
   "cell_type": "code",
   "execution_count": 24,
   "id": "8fc7fd64",
   "metadata": {},
   "outputs": [],
   "source": [
    "type_count_adidas = df[df['Company']=='Adidas'].groupby('Segmentation')['Product ID'].count()\n",
    "type_count_nike = df[df['Company']=='Nike'].groupby('Segmentation')['Product ID'].count()"
   ]
  },
  {
   "cell_type": "code",
   "execution_count": 25,
   "id": "39f73e0e",
   "metadata": {},
   "outputs": [],
   "source": [
    "per_adidas = type_adidas/type_count_adidas\n",
    "per_nike = type_nike/type_count_nike"
   ]
  },
  {
   "cell_type": "code",
   "execution_count": 26,
   "id": "21823563",
   "metadata": {},
   "outputs": [
    {
     "data": {
      "image/png": "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\n",
      "text/plain": [
       "<Figure size 432x288 with 1 Axes>"
      ]
     },
     "metadata": {
      "needs_background": "light"
     },
     "output_type": "display_data"
    }
   ],
   "source": [
    "group_labels = ['Adidas', 'Nike']\n",
    "# Convert data to pandas DataFrame.\n",
    "df_per = pd.DataFrame([per_adidas,per_nike], index=group_labels).T\n",
    "df_per.plot.bar(rot=0);"
   ]
  },
  {
   "cell_type": "markdown",
   "id": "370b66f9",
   "metadata": {},
   "source": [
    "Nhận xét: Cơ bản thì các sản phẩm của Nike thường được đánh giá cao hơn Adidas. Tuy nhiên những sản phẩm giá thấp thì Adidas lại được đánh giá cao hơn. Dựa vào đây, ta có thể lựa chọn cho mình một nhãn hiệu đáng tin cậy để mua sản phẩm phù hợp với túi tiền của mình."
   ]
  },
  {
   "cell_type": "markdown",
   "id": "d0fce579",
   "metadata": {},
   "source": [
    "### Câu 3: Top n sản phẩm tốt nhất của từng phân khúc"
   ]
  },
  {
   "cell_type": "markdown",
   "id": "9cc853e4",
   "metadata": {},
   "source": [
    "Để trả lời được câu hỏi trên, ta thực hiện các bước sau:\n",
    "* Bước 1: Tạo ra cột Score để đánh giá độ tốt của sản phẩm. Từ dữ liệu ban đầu, ta có thể biết được độ tốt của sản phẩm dựa trên Rating và Reviews. Ta sẽ tính Score dưa theo hai cột này mới mong muốn hai cột này có mức độ đánh giá tương tự nhau nên ta cần:\n",
    "    + Tạo cột 'Scale Reviews' dựa vào các giá trị cột Reviews đã chuẩn hóa về đoạn [0,5] cho tương tự Rating\n",
    "    + Tạo cột 'Score' có giá trị bằng giá trị của hai cột 'Scale Reviews' và 'Rating' cộng lại\n",
    "* Bước 2: Với mỗi Segmentation khác nhau, lấy ra index của top n các sản phẩm có Score cao nhất\n",
    "* Bước 3: Hiển thị các sản phẩm"
   ]
  },
  {
   "cell_type": "code",
   "execution_count": 27,
   "id": "799e69f6",
   "metadata": {},
   "outputs": [],
   "source": [
    "# Bước 1: Tạo cột Score\n",
    "rv_min = df['Reviews'].min()\n",
    "rv_max = df['Reviews'].max()\n",
    "df['Scale Reviews']=5*(df['Reviews']-rv_min)/(rv_max-rv_min)\n",
    "df['Score'] = df['Rating']+df['Scale Reviews']"
   ]
  },
  {
   "cell_type": "markdown",
   "id": "4484ca28",
   "metadata": {},
   "source": [
    "Để trả lời được câu hỏi trên, ta thực hiện các bước sau:\n",
    "* Bước 1: Với mỗi 'Type' khác nhau, tìm ra top 3 Reviews cao nhất và lấy ra index của những dòng này\n",
    "* Bước 2: Lựa chọn những cột cần hiển thị và hiển thị DataFrame được yêu cầu khi đã reset index"
   ]
  },
  {
   "cell_type": "code",
   "execution_count": 28,
   "id": "fe98a8fe",
   "metadata": {},
   "outputs": [
    {
     "data": {
      "text/plain": [
       "MultiIndex([('1',  267),\n",
       "            ('1', 1849),\n",
       "            ('1', 1287),\n",
       "            ('2', 1800),\n",
       "            ('2', 1039),\n",
       "            ('2', 2034),\n",
       "            ('3', 2750),\n",
       "            ('3', 2495),\n",
       "            ('3', 1645),\n",
       "            ('4', 1591),\n",
       "            ('4', 1614),\n",
       "            ('4', 2579)],\n",
       "           names=['Segmentation', None])"
      ]
     },
     "execution_count": 28,
     "metadata": {},
     "output_type": "execute_result"
    }
   ],
   "source": [
    "#Bước 2:\n",
    "#Gom nhóm các các sản phẩm theo Segmentation và lấy ra top n Score cao nhất\n",
    "n = 3\n",
    "X = df.groupby('Segmentation')['Score'].nlargest(n)\n",
    "X.index"
   ]
  },
  {
   "cell_type": "code",
   "execution_count": 29,
   "id": "7dff58c3",
   "metadata": {},
   "outputs": [],
   "source": [
    "# Lấy ra index\n",
    "temp, idx = zip(*X.index)"
   ]
  },
  {
   "cell_type": "code",
   "execution_count": 30,
   "id": "1ab83d60",
   "metadata": {},
   "outputs": [
    {
     "data": {
      "text/html": [
       "<div>\n",
       "<style scoped>\n",
       "    .dataframe tbody tr th:only-of-type {\n",
       "        vertical-align: middle;\n",
       "    }\n",
       "\n",
       "    .dataframe tbody tr th {\n",
       "        vertical-align: top;\n",
       "    }\n",
       "\n",
       "    .dataframe thead th {\n",
       "        text-align: right;\n",
       "    }\n",
       "</style>\n",
       "<table border=\"1\" class=\"dataframe\">\n",
       "  <thead>\n",
       "    <tr style=\"text-align: right;\">\n",
       "      <th></th>\n",
       "      <th>Product Name</th>\n",
       "      <th>Listing Price</th>\n",
       "      <th>Sale Price</th>\n",
       "      <th>Discount</th>\n",
       "      <th>Company</th>\n",
       "      <th>Rating</th>\n",
       "      <th>Reviews</th>\n",
       "      <th>Score</th>\n",
       "      <th>Segmentation</th>\n",
       "    </tr>\n",
       "  </thead>\n",
       "  <tbody>\n",
       "    <tr>\n",
       "      <th>0</th>\n",
       "      <td>Men's adidas Toe Side II Slippers</td>\n",
       "      <td>1299</td>\n",
       "      <td>779</td>\n",
       "      <td>40</td>\n",
       "      <td>Adidas</td>\n",
       "      <td>5.0</td>\n",
       "      <td>99</td>\n",
       "      <td>7.219731</td>\n",
       "      <td>1</td>\n",
       "    </tr>\n",
       "    <tr>\n",
       "      <th>1</th>\n",
       "      <td>MEN'S ADIDAS RUNNING NAYO 2.0 SHOES</td>\n",
       "      <td>5299</td>\n",
       "      <td>2649</td>\n",
       "      <td>50</td>\n",
       "      <td>Adidas</td>\n",
       "      <td>5.0</td>\n",
       "      <td>97</td>\n",
       "      <td>7.174888</td>\n",
       "      <td>1</td>\n",
       "    </tr>\n",
       "    <tr>\n",
       "      <th>2</th>\n",
       "      <td>Women's adidas Tennis Courtsmash Shoes</td>\n",
       "      <td>4999</td>\n",
       "      <td>2999</td>\n",
       "      <td>40</td>\n",
       "      <td>Adidas</td>\n",
       "      <td>4.9</td>\n",
       "      <td>98</td>\n",
       "      <td>7.097309</td>\n",
       "      <td>1</td>\n",
       "    </tr>\n",
       "    <tr>\n",
       "      <th>3</th>\n",
       "      <td>Men's adidas Running Asweego Shoes</td>\n",
       "      <td>7999</td>\n",
       "      <td>3999</td>\n",
       "      <td>50</td>\n",
       "      <td>Adidas</td>\n",
       "      <td>5.0</td>\n",
       "      <td>99</td>\n",
       "      <td>7.219731</td>\n",
       "      <td>2</td>\n",
       "    </tr>\n",
       "    <tr>\n",
       "      <th>4</th>\n",
       "      <td>Men's adidas Sport Inspired Court Adapt Shoes</td>\n",
       "      <td>5999</td>\n",
       "      <td>4199</td>\n",
       "      <td>30</td>\n",
       "      <td>Adidas</td>\n",
       "      <td>5.0</td>\n",
       "      <td>96</td>\n",
       "      <td>7.152466</td>\n",
       "      <td>2</td>\n",
       "    </tr>\n",
       "    <tr>\n",
       "      <th>5</th>\n",
       "      <td>MEN'S ADIDAS ORIGINALS CAMPUS SHOES</td>\n",
       "      <td>8599</td>\n",
       "      <td>4299</td>\n",
       "      <td>50</td>\n",
       "      <td>Adidas</td>\n",
       "      <td>4.9</td>\n",
       "      <td>99</td>\n",
       "      <td>7.119731</td>\n",
       "      <td>2</td>\n",
       "    </tr>\n",
       "    <tr>\n",
       "      <th>6</th>\n",
       "      <td>Air Jordan 10 Retro</td>\n",
       "      <td>15995</td>\n",
       "      <td>15995</td>\n",
       "      <td>0</td>\n",
       "      <td>Nike</td>\n",
       "      <td>4.7</td>\n",
       "      <td>223</td>\n",
       "      <td>9.700000</td>\n",
       "      <td>3</td>\n",
       "    </tr>\n",
       "    <tr>\n",
       "      <th>7</th>\n",
       "      <td>Men's Originals Salvapor 032c Shoes</td>\n",
       "      <td>16999</td>\n",
       "      <td>16999</td>\n",
       "      <td>0</td>\n",
       "      <td>Adidas</td>\n",
       "      <td>4.9</td>\n",
       "      <td>94</td>\n",
       "      <td>7.007623</td>\n",
       "      <td>3</td>\n",
       "    </tr>\n",
       "    <tr>\n",
       "      <th>8</th>\n",
       "      <td>Men's adidas Originals 424 SC Premiere Shoes</td>\n",
       "      <td>12999</td>\n",
       "      <td>12999</td>\n",
       "      <td>0</td>\n",
       "      <td>Adidas</td>\n",
       "      <td>4.8</td>\n",
       "      <td>97</td>\n",
       "      <td>6.974888</td>\n",
       "      <td>3</td>\n",
       "    </tr>\n",
       "    <tr>\n",
       "      <th>9</th>\n",
       "      <td>Unisex Originals CRAIG GREEN KONTUUR I SHOES</td>\n",
       "      <td>23999</td>\n",
       "      <td>23999</td>\n",
       "      <td>0</td>\n",
       "      <td>Adidas</td>\n",
       "      <td>4.1</td>\n",
       "      <td>81</td>\n",
       "      <td>5.916143</td>\n",
       "      <td>4</td>\n",
       "    </tr>\n",
       "    <tr>\n",
       "      <th>10</th>\n",
       "      <td>Unisex adidas Originals by Alexander Wang Puff Trainer Shoes</td>\n",
       "      <td>23999</td>\n",
       "      <td>23999</td>\n",
       "      <td>0</td>\n",
       "      <td>Adidas</td>\n",
       "      <td>4.9</td>\n",
       "      <td>19</td>\n",
       "      <td>5.326009</td>\n",
       "      <td>4</td>\n",
       "    </tr>\n",
       "    <tr>\n",
       "      <th>11</th>\n",
       "      <td>Men's adidas Originals ZX 4000 4D Shoes</td>\n",
       "      <td>29999</td>\n",
       "      <td>29999</td>\n",
       "      <td>0</td>\n",
       "      <td>Adidas</td>\n",
       "      <td>4.0</td>\n",
       "      <td>53</td>\n",
       "      <td>5.188341</td>\n",
       "      <td>4</td>\n",
       "    </tr>\n",
       "  </tbody>\n",
       "</table>\n",
       "</div>"
      ],
      "text/plain": [
       "                                                    Product Name  \\\n",
       "0                              Men's adidas Toe Side II Slippers   \n",
       "1                            MEN'S ADIDAS RUNNING NAYO 2.0 SHOES   \n",
       "2                         Women's adidas Tennis Courtsmash Shoes   \n",
       "3                             Men's adidas Running Asweego Shoes   \n",
       "4                  Men's adidas Sport Inspired Court Adapt Shoes   \n",
       "5                            MEN'S ADIDAS ORIGINALS CAMPUS SHOES   \n",
       "6                                            Air Jordan 10 Retro   \n",
       "7                            Men's Originals Salvapor 032c Shoes   \n",
       "8                   Men's adidas Originals 424 SC Premiere Shoes   \n",
       "9                   Unisex Originals CRAIG GREEN KONTUUR I SHOES   \n",
       "10  Unisex adidas Originals by Alexander Wang Puff Trainer Shoes   \n",
       "11                       Men's adidas Originals ZX 4000 4D Shoes   \n",
       "\n",
       "    Listing Price  Sale Price  Discount Company  Rating  Reviews     Score  \\\n",
       "0            1299         779        40  Adidas     5.0       99  7.219731   \n",
       "1            5299        2649        50  Adidas     5.0       97  7.174888   \n",
       "2            4999        2999        40  Adidas     4.9       98  7.097309   \n",
       "3            7999        3999        50  Adidas     5.0       99  7.219731   \n",
       "4            5999        4199        30  Adidas     5.0       96  7.152466   \n",
       "5            8599        4299        50  Adidas     4.9       99  7.119731   \n",
       "6           15995       15995         0    Nike     4.7      223  9.700000   \n",
       "7           16999       16999         0  Adidas     4.9       94  7.007623   \n",
       "8           12999       12999         0  Adidas     4.8       97  6.974888   \n",
       "9           23999       23999         0  Adidas     4.1       81  5.916143   \n",
       "10          23999       23999         0  Adidas     4.9       19  5.326009   \n",
       "11          29999       29999         0  Adidas     4.0       53  5.188341   \n",
       "\n",
       "   Segmentation  \n",
       "0             1  \n",
       "1             1  \n",
       "2             1  \n",
       "3             2  \n",
       "4             2  \n",
       "5             2  \n",
       "6             3  \n",
       "7             3  \n",
       "8             3  \n",
       "9             4  \n",
       "10            4  \n",
       "11            4  "
      ]
     },
     "execution_count": 30,
     "metadata": {},
     "output_type": "execute_result"
    }
   ],
   "source": [
    "#Bước 3:\n",
    "# Các cột cần xem\n",
    "col_names = ['Product Name','Listing Price','Sale Price','Discount',\n",
    "             'Company','Rating','Reviews','Score','Segmentation']\n",
    "# Hiển thị các sản phẩm\n",
    "df.loc[list(idx)].reset_index()[col_names]"
   ]
  },
  {
   "cell_type": "markdown",
   "id": "b839f0bd",
   "metadata": {},
   "source": [
    "Ta thấy top Score các sản phẩm đa số đều thuộc về hãng Adidas. Tuy nhiên có một sản phẩm của Nike chiếm top 1 trong Segmentation 3 với Score rất ấn tượng. Nhờ vào bảng trên, ta có thể lựa chọn cho mình một sản phẩm tốt tùy theo điều kiện của mỗi người."
   ]
  },
  {
   "cell_type": "markdown",
   "id": "562e1e88",
   "metadata": {},
   "source": [
    "Đến đây, ta đã trả lời được câu hỏi đã đặt ra. Tuy nhiên bảng trên chỉ cho ta thấy được Score của các sản phẩm top. Để hiểu thêm về dữ liệu, ta cần vẽ histogram Score và Rating của hai nhãn hiệu này"
   ]
  },
  {
   "cell_type": "code",
   "execution_count": 31,
   "id": "abdc50d6",
   "metadata": {},
   "outputs": [],
   "source": [
    "bins = 10\n",
    "adidas_score = df[df['Company']=='Adidas']['Score']\n",
    "nike_score = df[df['Company']=='Nike']['Score']"
   ]
  },
  {
   "cell_type": "code",
   "execution_count": 32,
   "id": "708b4756",
   "metadata": {
    "scrolled": true
   },
   "outputs": [
    {
     "data": {
      "image/png": "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\n",
      "text/plain": [
       "<Figure size 1080x360 with 2 Axes>"
      ]
     },
     "metadata": {
      "needs_background": "light"
     },
     "output_type": "display_data"
    }
   ],
   "source": [
    "fig, (ax1, ax2) = plt.subplots(1, 2, figsize = (15,5))\n",
    "fig.suptitle('Score Adidas vs Nike')\n",
    "arr1 = ax1.hist(adidas_score, edgecolor='black', bins = bins)\n",
    "ax1.set_xticks(arr1[1].round(2))\n",
    "ax1.set_title('Adidas')\n",
    "for i in range(bins):\n",
    "    ax1.text(arr1[1][i]+0.1,arr1[0][i]+10,str(arr1[0][i]))\n",
    "\n",
    "arr2 = ax2.hist(nike_score, edgecolor='black', bins = bins)\n",
    "ax2.set_xticks(arr2[1].round(2))\n",
    "ax2.set_title('Nike')\n",
    "for i in range(bins):\n",
    "    ax2.text(arr2[1][i]+0.1,arr2[0][i]+5,str(arr2[0][i]))"
   ]
  },
  {
   "cell_type": "code",
   "execution_count": 33,
   "id": "358bbd88",
   "metadata": {},
   "outputs": [],
   "source": [
    "adidas_rating = df[df['Company']=='Adidas']['Rating']\n",
    "nike_rating = df[df['Company']=='Nike']['Rating']"
   ]
  },
  {
   "cell_type": "code",
   "execution_count": 34,
   "id": "b1c5a27f",
   "metadata": {},
   "outputs": [
    {
     "data": {
      "image/png": "iVBORw0KGgoAAAANSUhEUgAAA20AAAFTCAYAAACqHeQ+AAAAOXRFWHRTb2Z0d2FyZQBNYXRwbG90bGliIHZlcnNpb24zLjQuMSwgaHR0cHM6Ly9tYXRwbG90bGliLm9yZy/Z1A+gAAAACXBIWXMAAAsTAAALEwEAmpwYAABD1klEQVR4nO3de3xV1Z3w/88XETt4qaKAgQNSJMO1GDVoLz4Wh4ko+oMqrYViS4u0o4Mdq72Y1vbR1vEp9jKjU+zTWrVSx4LaqmEYpGSw1NZXlaKmVqEOVKgEIqDi421UiOv3Rw5pIAkJkJzsJJ/363Ve2Wfttdb57k3Iyjdr77UjpYQkSZIkKZt6dHQAkiRJkqTmmbRJkiRJUoaZtEmSJElShpm0SZIkSVKGmbRJkiRJUoaZtEmSJElShpm0SZL2KiJ+GBFf7+g4ACJiQ0T8fX77qxFxS2vqdjYNjy0ihkREioieHR2XJKljmLRJUheTT1b+JyJei4jnI+L2iDislW0/FRG/bViWUro4pXRt+0QLEXFoPtYl+9IupfR/Ukqz2yuu9pI/xykivrRHeXVEjIfOe2ySpPZh0iZJXdP/l1I6DCgBTgS+0rHh7NVHgLeAMyOiqKODKZCXgCsj4oiODkSSlH0mbZLUhaWUngd+SV3yBkBElEfEnyPi1YhYHRHn5ctHAj8E3p+f+Xo5X357RPxzfnt8fkboCxGxNSJqIuLTDfo+OiL+IyJeiYjfR8Q/7zlz14SZ+c99EpjRcEdEfCIi/hIRL0bEVXvsuyYi/r2VdU+JiN9FxMv5mOdFRK/8voiIf80fz/+LiCcjYsyeQUbEtIhYtUfZ5RGxKL89KX8+X42ITRHxxb0c8xrgd8DlTe3c89j22Dc1P5s6JiJ6NPj3fDEi7o6IPnv5XElSJ2TSJkldWETkgLOBdQ2K/wz8L+DdwDeAf4+IopTSGuBi4HcppcNSSkc20+2x+bYDgYuAmyLiqPy+m4DX83Vm5l97i28wMB64M//6ZIN9o4D/C3wCGAAcDeSa6aelurXUJUjHAO8HJgD/mN93JnA68LfAkcDHgBeb+JhFwPCIKG5Q9nHgZ/ntW4F/SCkdDowBHtzbsQNfBy7flyQrnyBfD/x9Sukp4J+ADwMfou64t1P3byBJ6kJM2iSpa7o/Il4FNgJbgat37Ugp3ZNS2pxSeieldBewFjhlH/reAXwzpbQjpbQEeI26ZOYgYCpwdUrpjZTSamB+C319EngyX3cBMDoiTszv+wiwOKX0UErpLeqSnHea6WevdVNKj6WUHkkp7UwpbQB+RF2is+t4DgdGAJFSWpNSqtnzA1JKbwAVwHSAfPI2grpkblc/oyLiiJTS9pTS43s78JRSFbAMuHJv9Rr4PPAlYHxKaVcS/g/AVSml6vxxXwN8xEVLJKlrMWmTpK7pw/kZn/HUJRbH7NoREZ+MiKr8pYIvUzcrdEyTvTTtxZTSzgbv3wAOA/oCPalLFHdpuN2UT1I3w0ZKaTPwa/46OzegYfuU0us0PQPWYt2I+NuIWJxfmOUV4P+QP+aU0oPAPOpmqLZExM17udfsZ+STNupm2e7PJ3NQl7BOAv4SEb+OiPe3cOwA/xu4JCKObUXdLwE3pZSqG5QdB9zX4N9yDXWziv1b0Z8kqZMwaZOkLiyl9GvgduC7ABFxHPBj4FLg6PwlkE8BsavJAXzcNmAnu1+WOKi5yhHxAaAY+Eo+mXoeOBWYnp8pqmnYPiJ6U3fZY1Naqvt/gT8BxSmlI4Cv8tdjJqX0bymlk4HR1F0mudvKjg0sA46JiBLqkrddl0aSUvp9SmkK0A+4H7i7uWNv0OZPwL35eFpyJvC1iJjaoGwjcHZK6cgGr3ellDa1oj9JUidh0iZJXd8NQFk+0TiUusRsG9TfI9Vw0Y0tQG7XIh37IqVUS10Cck1E9I6IETS4R60JM4FKYBR1C6WU5GPpTd19eD8Hzo2I0/LxfJPmx62W6h4OvAK8lo/rkl07ImJcRJwaEQdTdz/em9TNVjV1jDvzn/UdoE8+fiKiV0TMiIh3p5R25D+ryT6a8A3g09TdT7c3TwNnUXcP4eR82Q+B6/LJOBHRNyKmtPJzJUmdhEmbJHVxKaVtwE+Br+fvHfsedSsXbgHeCzzcoPqD1CUHz0fEC/vxcZdSt0jJ88Ad1N2n9taelSLiXcAFwPdTSs83eK3Pt5uZUnoamEPdbFYNdYtsVO/ZV/4YW6r7ReouZ3yVupnGuxrsOyJfth34C3WXVX53L8f4M+DvgXv2uEz0E8CG/OWXFwMX7qWPhrHvOuZDW1H3D8C5wI8j4mzgRuruqVuWv4fxEepmKyVJXUikdCBXwkiS1LyIuB44NqW011UkJUlS85xpkyS1mYgYERFj888+O4W6RwLc19FxSZLUmbkksCSpLR1O3SWRA6h71MD3qFsmX5Ik7Scvj5QkSZKkDPPySEmSJEnKMJM2SZIkScowkzZJkiRJyjCTNkmSJEnKMJM2SZIkScowkzZJkiRJyjCTNqmdRMTtEfHP+e3/FRHPtKauJEndTUS8FhFD89uOidIeTNqk/RARKyJie0Qc0pr6KaXfpJSGt3dckiRlUURsiIgtEXFog7LZEbECIKV0WErp2Q4LUMo4kzZpH0XEEOB/AQmY3LHRSJLUafQELuvoIKTOyKRN2nefBB4Bbgdm7iqMiBMj4vGIeDUi7gLe1WDf+IiobmXdoyJicURsy8/mLY6IXIP9n4qIZ/Nt10fEjPY9XEmS2sR3gC9GxJF77oiIFBHDmig/PCJ+FRH/FnVGRERlRLwUEc9ExAWFCFzqaCZt0r77JHBn/jUxIvpHRC/gfuAOoA9wDzC1qcatqNsD+AlwHDAY+B9gXr7tocC/AWenlA4HPgBUteXBSZLUTlYBK4AvtqZyRBwNLAceTin9E9AbqAR+BvQDpgM/iIjR7RKtlCEmbdI+iIjTqEum7k4pPQb8Gfg48D7gYOCGlNKOlNLPgd83081e66aUXkwp/SKl9EZK6VXgOuBDDdq/A4yJiL9JKdWklJ5u6+OUJKmd/G/gcxHRt4V6A4BfA/eklL6WLzsX2JBS+klKaWdK6XHgF8BH2i9cKRtM2qR9MxNYllJ6If/+Z/myAcCmlFJqUPcvzfSx17oR0TsifhQRf4mIV4CHgCMj4qCU0uvAx4CLgZqI+M+IGNE2hyZJUvtKKT0FLAbKW6h6DvA3wA8blB0HnBoRL+96ATOAY9sjVilLenZ0AFJnERF/A1wAHBQRz+eLDwGOBGqAgRERDZKxwdTNxO2ppbpfAIYDp6aUno+IEuAJIABSSr8EfpmP55+BH1O3MIokSZ3B1cDjwPf2UufHwFHAkog4K/9Hy43Ar1NKZQWIUcoUZ9qk1vswUAuMAkryr5HAb/L7dgL/FBE9I+J84JRm+vldC3UPp+4+tpcjog91gxsA+fvnJufvbXsLeC0fkyRJnUJKaR1wF/BPLVS9FHgGWJz/Q+Vi4G8j4hMRcXD+NS4iRrZzyFKHM2mTWm8m8JOU0nMpped3vahbJGQ6cD7wKWA7dZcw3ttUJymlt1uoewN1l4S8QN0qlUsb7OtB3UzcZuAl6u51+8c2OTpJkgrnm8Che6uQvxrls9TNsFUAO4AzgWnUjYPPA9dTd9WL1KXF7rfVSJIkSZKyxJk2SZIkScowkzZJkiRJyjCTNkmSJEnKMJM2SZIkScowkzZJkrq5iBgUEb+KiDUR8XREXJYv/05E/CkinoyI+yLiyHx5r4j4SUT8MSL+EBHjm+m3T0RURsTa/NejCnZQktSFZGL1yGOOOSYNGTKko8OQpE7rj3/8Iz169CAiiAhGjhzJ9u3b2bx5M2+++SYjRozg0EPrVtd+5513eO6553j99deJCAYNGsThhx/eqM+dO3fy7LPP8vbbb9OrVy+GDh1Kz549DzjWxx577IWUUt8D7qibKMQYuWPHDnbs2EHv3r2pra1lzZo1HH/88ezYsYPDDz+ciKC6uhqAXC7H1q1beeONNxgyZAg7duxg3bp1jBgxgojYrd/q6mp69uzJsccey/PPP8/OnTvJ5XLteiyS1FntbXw88NG3DQwZMoRVq1Z1dBiS1Gnt+jl6zDHH1JetWbOGHj168A//8A9897vfpbS0FICbbrqJVatW8ZOf/IStW7dy9tlns3LlSnr02P3iiy9/+cv06dOH8vJy5s6dy/bt27n++usPONaI+MsBd9KNdMQYOWXKFC699FLKysrqy+677z5+/vOfc+eddzJnzhze//73c+GFFwIwYcIEvvWtb3HKKafs1s/w4cNZsWIFRUVF1NTUMH78eMd7SWrG3sZHL4+UpC5q5MiRDB8+vFH56tWrmTBhAgD9+vXjyCOPbPIX6YqKCmbOnAnAzJkzuf/++9s1XmXDhg0beOKJJzj11FN3K7/ttts4++yzATjhhBOoqKhg586drF+/nscee4yNGzc26mvLli0UFRUBUFRUxNatW9v/ACSpCzJpk6QuICI488wzOfnkk7n55pv3WtdfuNWc1157jalTp3LDDTdwxBFH1Jdfd9119OzZkxkzZgAwa9YscrkcpaWlfP7zn+cDH/hAm1w6K0lqmj9hJakLePjhhxkwYABbt26lrKyMESNGcPrppzdZd9asWaxZs4bS0lKOO+44f+EWUHdf29SpU5kxYwbnn39+ffn8+fNZvHgxy5cvr79nrWfPnvzrv/5rfZ0PfOADFBcXN+qzf//+1NTU1F8e2a9fv/Y/EEnqgpxpk6QuYMCAAUDd5Y7nnXceK1eubLburl+4q6qqqKio4OWXX97rL9yAv3B3cSklLrroIkaOHMkVV1xRX7506VKuv/56Fi1aRO/evevL33jjDV5//XUAKisr6dmzJ6NGjWrU7+TJk5k/fz5Ql/xNmTKlnY9EkromkzZJ6uRef/11Xn311frtZcuWMWbMmGbr+wu39vTwww9zxx138OCDD1JSUkJJSQlLlizh0ksv5dVXX6WsrIySkhIuvvhiALZu3cpJJ53EyJEjuf7667njjjvq+5o9e3b9PZLl5eVUVlZSXFxMZWUl5eXlHXJ8ktTZZWLJ/9LS0uRqUpK0f5599lnOO+88oG6Z/o9//ONcddVV3HfffXzuc59j27ZtHHnkkZSUlPDLX/6SDRs2MHHiRHr06MHAgQO59dZbOe6444C6X7gvvvhiSktLefHFF7ngggt47rnnGDx4MPfccw99+vQ54Hgj4rGUUukBd9RNOEZKUvewt/HRpE2SVFAmbfvGMVKSuoe9jY9eHilJkiRJGWbSJkmSJEkZZtImSZIkSRlm0iZJkiRJGWbSJkkZV5QbTER0+KsoN7ijT4X2U1a+h/w+kqT907OjA5Ak7d3zmzZy3JWLOzoM/nL9uR0dgvZTVr6HwO8jSdofzrRJkiRJUoaZtEmSJElShpm0SZIkSVKGmbRJkiRJUoa1KmmLiA0R8ceIqIqIVfmyPhFRGRFr81+PalD/KxGxLiKeiYiJ7RW8JEmSJHV1+zLTdkZKqSSlVJp/Xw4sTykVA8vz74mIUcA0YDRwFvCDiDioDWOWJEmSpG7jQC6PnALMz2/PBz7coHxhSumtlNJ6YB1wygF8jiRJkiR1W61N2hKwLCIei4jP5sv6p5RqAPJf++XLBwIbG7StzpftJiI+GxGrImLVtm3b9i96SZIkSeriWvtw7Q+mlDZHRD+gMiL+tJe60URZalSQ0s3AzQClpaWN9kuSJEmSWjnTllLanP+6FbiPussdt0REEUD+69Z89WpgUIPmOWBzWwUsSZIkSd1Ji0lbRBwaEYfv2gbOBJ4CFgEz89VmAhX57UXAtIg4JCLeAxQDK9s6cEmSJElqzsaNGznjjDMYOXIko0eP5sYbbwTgpZdeoqysjOLiYsrKyti+fXt9myeffJL3v//9jB49mve+9728+eabjfrdW/v20pqZtv7AbyPiD9QlX/+ZUloKzAXKImItUJZ/T0rpaeBuYDWwFJiTUqptj+AlSZIkqSk9e/bke9/7HmvWrOGRRx7hpptuYvXq1cydO5cJEyawdu1aJkyYwNy5cwHYuXMnF154IT/84Q95+umnWbFiBQcffHCjfptr367H0lKFlNKzwAlNlL8ITGimzXXAdQccnSRJkiTth6KiIoqKigA4/PDDGTlyJJs2baKiooIVK1YAMHPmTMaPH8/111/PsmXLGDt2LCecUJf6HH300U3221z79nQgS/5LkiRJUuZt2LCBJ554glNPPZUtW7bUJ3NFRUVs3Vq3NMd///d/ExFMnDiRk046iW9/+9tN9tVc+/bU2tUjJUmSJKnTee2115g6dSo33HADRxxxRLP1du7cyW9/+1t+//vf07t3byZMmMDJJ5/MhAlNXlxYUM60SZIkSeqSduzYwdSpU5kxYwbnn38+AP3796empgaAmpoa+vWre9x0LpfjQx/6EMcccwy9e/dm0qRJPP744436bK59ezJpkyRJktTlpJS46KKLGDlyJFdccUV9+eTJk5k/fz4A8+fPZ8qUKQBMnDiRJ598kjfeeIOdO3fy61//mlGjRjXqt7n27cmkTZIkSVKX8/DDD3PHHXfw4IMPUlJSQklJCUuWLKG8vJzKykqKi4uprKykvLwcgKOOOoorrriCcePGUVJSwkknncQ555wDwOzZs1m1ahVAs+3bk/e0SZIkSepyTjvtNFJKTe5bvnx5k+UXXnghF154YaPyW265pX776KOPbrZ9e3GmTZIkSZIyzKRNkiRJkjLMpE2SJEmSMsykTZIkSZIyzKRNkiRJkjLMpE2SJElSp1OUG0xEZOJVlBvcrsfqkv+SJEmSOp3nN23kuCsXd3QYAPzl+nPbtX9n2iRJkiQpw0zaJEnaDxExKCJ+FRFrIuLpiLgsX94nIiojYm3+61EN2nwlItZFxDMRMbHjopckdSYmbZIk7Z+dwBdSSiOB9wFzImIUUA4sTykVA8vz78nvmwaMBs4CfhARB3VI5JKkTsWkTZKk/ZBSqkkpPZ7ffhVYAwwEpgDz89XmAx/Ob08BFqaU3koprQfWAacUNGhJUqdk0iZJB6C2tpYTTzyRc8+tuwH561//OmPHjqWkpIQzzzyTzZs319f91re+xbBhwxg+fDi//OUvm+zvpZdeoqysjOLiYsrKyti+fXtBjkMHJiKGACcCjwL9U0o1UJfYAf3y1QYCGxs0q86XSZK0VyZtknQAbrzxRkaOHFn//ktf+hJPPvkkVVVVnHvuuXzzm98EYPXq1SxcuJCnn36apUuX8o//+I/U1tY26m/u3LlMmDCBtWvXMmHCBObOnVuwY9H+iYjDgF8An08pvbK3qk2UpWb6/GxErIqIVdu2bWuLMCVJnZhJmyTtp+rqav7zP/+T2bNn15cdccQR9duvv/46EXW/p1dUVDBt2jQOOeQQ3vOe9zBs2DBWrlzZqM+KigpmzpwJwMyZM7n//vvb9yB0QCLiYOoStjtTSvfmi7dERFF+fxGwNV9eDQxq0DwHbKYJKaWbU0qlKaXSvn37tk/wkqROw6RNkvbT5z//eb797W/To8fuP0qvuuoqBg0axJ133lk/07Zp0yYGDfrr7+u5XI5NmzY16nPLli0UFRUBUFRUxNatWxvVUTZEXUZ+K7AmpfQvDXYtAmbmt2cCFQ3Kp0XEIRHxHqAYaJy5S5K0B5M2SdoPixcvpl+/fpx88smN9l133XVs3LiRGTNmMG/ePABSanwV3K5ZOHVaHwQ+AfxdRFTlX5OAuUBZRKwFyvLvSSk9DdwNrAaWAnNSSo2vkZUkaQ8mbZK0Hx5++GEWLVrEkCFDmDZtGg8++CAXXnjhbnU+/vGP84tf/AKom1nbuPGva1BUV1czYMCARv3279+fmpoaAGpqaujXr1+jOsqGlNJvU0qRUhqbUirJv5aklF5MKU1IKRXnv77UoM11KaXjU0rDU0oPdGT8kqTOw6RNUqez54qN99xzD6NHj6ZHjx6sWrWqvt6dd95JSUlJ/atHjx5UVVU16m9/Vmz81re+RXV1NRs2bGDhwoX83d/9Hf/+7//O2rVr6+ssWrSIESNGADB58mQWLlzIW2+9xfr161m7di2nnNJ4tffJkyczf37davHz589nypQp+3RuJElS12PSJqnT2XPFxjFjxnDvvfdy+umn71ZvxowZVFVVUVVVxR133MGQIUMoKSlp1F9brthYXl7OmDFjGDt2LMuWLePGG28EYPTo0VxwwQWMGjWKs846i5tuuomDDqp7rvLs2bPrk83y8nIqKyspLi6msrKS8vLy/Y5FkiR1DT07OgBJ2he7Vmy86qqr+Jd/qVv7oWEC15wFCxYwffr0JvdVVFSwYsUKoG7FxvHjx3P99de3Oqbx48czfvx4gPrLIZty1VVXcdVVVzUqv+WWW+q3jz76aJYvX97qz5YkSV2fM22SOpXmVmxsyV133dVs0uaKjZIkKctM2iR1GntbsXFvHn30UXr37s2YMWPaKTJJkqT2Y9ImqdNozYqNTVm4cGGzs2zgio2SJCnbTNokdRrNrdi4N++88w733HMP06ZNa7ZOUys2FuUGExGZeEmSpO7NhUikjKutraW0tJSBAweyePFiXnrpJT72sY+xYcMGhgwZwt13381RRx1VX/+5555j1KhRXHPNNXzxi19s1F9L7Tuj++67j8997nNs27aNc845h5KSEn75y18C8NBDD5HL5Rg6dOhubWbPns3FF19MaWkp5eXlXHDBBdx6660MHjyYe+65h+985zscd+XijjicRv5y/bkdHYIkSepAzrRJGbfn8vYtLU9/+eWXc/bZZzfbX1sub9+Rxo8fz+LFdUnVeeedR3V1NW+99RZbtmypT9h21XvkkUcatb/lllsoLS0F/rpi49q1a1m+fDl9+vQpzEFIkiS1gkmblGG7lrefPXt2fVlFRQUzZ84E6panv//+++v33X///QwdOpTRo0c32+fe2kuSJCl7TNqkDGtqefvmlqd//fXXuf7667n66qv32qfL20uSJHUuJm1SRu3r8vZXX301l19+OYcddlg7RyZJkqRCciESKaN2LW+/ZMkS3nzzTV555RUuvPDC+uXpi4qKdlue/tFHH+XnP/85X/7yl3n55Zfp0aMH73rXu7j00kt367e59pIkScomZ9qkjGpuefumlqcH+M1vfsOGDRvYsGEDn//85/nqV7/aKGGDppe3z5KsLLUvSZKUFc60SZ1MU8vTt6Sl5e2z5PlNGzOx1L7L7EuSpKwwaZM6gfHjxzN+/Hjgr8vT780111yz2/tbbrmlfrs17SVJkpQdXh4pSZIkSRnW6qQtIg6KiCciYnH+fZ+IqIyItfmvRzWo+5WIWBcRz0TExPYIXJIkSZK6g32ZabsMWNPgfTmwPKVUDCzPvyciRgHTgNHAWcAPIuKgtglXkiRJkrqXViVtEZEDzgFuaVA8BZif354PfLhB+cKU0lsppfXAOuCUNolW6mKyslJiUW5wR58KSZIkNaO1C5HcAHwZOLxBWf+UUg1ASqkmInY97Gkg8EiDetX5Mkl7cKVESZIktaTFmbaIOBfYmlJ6rJV9NvWAo9REv5+NiFURsWrbtm2t7FqSJEmSupfWXB75QWByRGwAFgJ/FxH/DmyJiCKA/Net+frVwKAG7XPA5j07TSndnFIqTSmV9u3b9wAOQZIkSZK6rhaTtpTSV1JKuZTSEOoWGHkwpXQhsAiYma82E6jIby8CpkXEIRHxHqAYWNnmkUsqmDfffJNTTjmFE044gdGjR3P11VcD8LGPfYySkhJKSkoYMmQIJSUlALz44oucccYZHHbYYVx66aXN9vvSSy9RVlZGcXExZWVlbN++vRCHI0mS1KkcyMO15wJ3R8RFwHPARwFSSk9HxN3AamAnMCelVHvAkUrqMIcccggPPvgghx12GDt27OC0007j7LPP5q677qqv84UvfIF3v/vdALzrXe/i2muv5amnnuKpp55qtt+5c+cyYcIEysvLmTt3LnPnzm33Y5EkSeps9ilpSymtAFbkt18EJjRT7zrgugOMTVJGRASHHXYYADt27GDHjh1E/PX21ZQSd999Nw8++CAAhx56KKeddhrr1q3ba78VFRWsWLECgJkzZzJ+/Ph2iV+SJKkz25fntEnqxmpraykpKaFfv36UlZVx6qmn1u/7zW9+Q//+/SkuLt6nPrds2UJRUREARUVFbN26tYUWkiRJ3Y9Jm6RWOeigg6iqqqK6upqVK1fudtnjggULmD59egdGJ0mS1HWZtEnaJ0ceeSTjx49n6dKlAOzcuZN7772Xj33sY/vcV//+/ampqQGgpqaGfv36tdBCkiSp+zFpk9Sibdu28fLLLwPwP//zP/zXf/0XI0aMAKjfzuVy+9zv5MmTmT9/PgDz589nypQpbRazJElSV2HSJqlFNTU1nHHGGYwdO5Zx48ZRVlbGueeeC8DChQubvDRyyJAhXHHFFdx+++3kcjlWr14NwOzZs1m1ahUA5eXlVFZWUlxcTGVlJeXl5YU7KEmSpE7iQJb8l9RNjB07lieeeKLJfbfffnuT5Rs2bGiy/JZbbqnfPvroo1m+fPmBhidJktSlOdMmSZIkSRlm0iZJkiRJGWbSJkmSJEkZZtImSZIkSRnmQiSS4KCDiYiOjkKSJElNMGmTBLU7OO7KxR0dBQB/uf7cjg5BkiQpU7w8UpIkSZIyzKRNkiRJkjLMpE2SJEmSMsykTZIkSZIyzKRNkiRJkjLMpE2SJEmSMsykTZIkSZIyzKRNkiRJkjLMpE2SJEmSMsykTZKk/RQRt0XE1oh4qkHZNRGxKSKq8q9JDfZ9JSLWRcQzETGxY6KWJHU2Jm2SJO2/24Gzmij/15RSSf61BCAiRgHTgNH5Nj+IiIMKFqkkqdMyaZMkaT+llB4CXmpl9SnAwpTSWyml9cA64JR2C06S1GWYtEmS1PYujYgn85dPHpUvGwhsbFCnOl8mSdJembRJktS2/i9wPFAC1ADfy5dHE3VTUx1ExGcjYlVErNq2bVu7BClJ6jxM2iRJakMppS0ppdqU0jvAj/nrJZDVwKAGVXPA5mb6uDmlVJpSKu3bt2/7BixJyjyTNkmS2lBEFDV4ex6wa2XJRcC0iDgkIt4DFAMrCx2fJKnz6dnRAUiS1FlFxAJgPHBMRFQDVwPjI6KEuksfNwD/AJBSejoi7gZWAzuBOSml2g4IW5LUyZi0SZK0n1JK05sovnUv9a8Drmu/iCRJXZGXR0qSJElShpm0SZIkSVKGmbRJkiRJUoaZtEmSJElShpm0SZIkSVKGmbRJkiRJUoaZtEmSJElShpm0SZIkSVKGmbRJkiRJUoaZtEmSJElShpm0SZIkSVKGtZi0RcS7ImJlRPwhIp6OiG/ky/tERGVErM1/PapBm69ExLqIeCYiJrbnAUiSJElSV9aamba3gL9LKZ0AlABnRcT7gHJgeUqpGFief09EjAKmAaOBs4AfRMRB7RC7JEmSJHV5LSZtqc5r+bcH518JmALMz5fPBz6c354CLEwpvZVSWg+sA05py6AlSZIkqbto1T1tEXFQRFQBW4HKlNKjQP+UUg1A/mu/fPWBwMYGzavzZZIkSZKkfdSqpC2lVJtSKgFywCkRMWYv1aOpLhpVivhsRKyKiFXbtm1rVbCSJEmS1N3s0+qRKaWXgRXU3au2JSKKAPJft+arVQODGjTLAZub6OvmlFJpSqm0b9+++x65JEmSJHUDrVk9sm9EHJnf/hvg74E/AYuAmflqM4GK/PYiYFpEHBIR7wGKgZVtHLckSZIkdQs9W1GnCJifXwGyB3B3SmlxRPwOuDsiLgKeAz4KkFJ6OiLuBlYDO4E5KaXa9glfkiRJkrq2FpO2lNKTwIlNlL8ITGimzXXAdQccnSRJkiR1c/t0T5skSZIkqbBM2iRJkiQpw0zaJEmSJCnDTNokSZIkKcNM2iRJkiQpw0zaJEmSJCnDTNokSZIkKcNM2iRJkiQpw0zaJEmSJCnDTNqkPWzcuJEzzjiDkSNHMnr0aG688cbd9n/3u98lInjhhRcAuPPOOykpKal/9ejRg6qqqkb9vvTSS5SVlVFcXExZWRnbt28vxOFIkiSpkzNpk/bQs2dPvve977FmzRoeeeQRbrrpJlavXg3UJXSVlZUMHjy4vv6MGTOoqqqiqqqKO+64gyFDhlBSUtKo37lz5zJhwgTWrl3LhAkTmDt3bqEOSZIkSZ2YSZu0h6KiIk466SQADj/8cEaOHMmmTZsAuPzyy/n2t79NRDTZdsGCBUyfPr3JfRUVFcycOROAmTNncv/997d98JIkSepyenZ0AFKWbdiwgSeeeIJTTz2VRYsWMXDgQE444YRm6991111UVFQ0uW/Lli0UFRUBdYnh1q1b2yVmSZIkdS0mbVIzXnvtNaZOncoNN9xAz549ue6661i2bFmz9R999FF69+7NmDFjChilJEmSujovj5SasGPHDqZOncqMGTM4//zz+fOf/8z69es54YQTGDJkCNXV1Zx00kk8//zz9W0WLlzY7KWRAP3796empgaAmpoa+vXr1+7HIUmSpM7PpE3aQ0qJiy66iJEjR3LFFVcA8N73vpetW7eyYcMGNmzYQC6X4/HHH+fYY48F4J133uGee+5h2rRpzfY7efJk5s+fD8D8+fOZMmVK+x+MJEmSOj2TNmkPDz/8MHfccQcPPvhg/TL+S5Ys2Wubhx56iFwux9ChQ3crnz17NqtWrQKgvLycyspKiouLqayspLy8vN2OQZIkqaPMmjWLfv367XbLSHOPPqqsrOTkk0/mve99LyeffDIPPvhgk31290cnmbRJezjttNNIKfHkk0/WL+U/adKk3eps2LCBY445pv79+PHjeeSRRxr1dcstt1BaWgrA0UcfzfLly1m7di3Lly+nT58+7XsgkiRJHeBTn/oUS5cu3a2suUcfHXPMMfzHf/wHf/zjH5k/fz6f+MQnmuyzuz86yaRNkiRJUps5/fTTG/1xurlHH5144okMGDAAgNGjR/Pmm2/y1ltvNeqzuz86yaRNkiRJUrtqzaOPfvGLX3DiiSdyyCGH7Ff7rswl/yVJkiR1qKeffporr7xyr49X6s6caZMkSZLUrvb26KPq6mrOO+88fvrTn3L88cfvc/vuwKRN3U5RbjARkYmXJElSd9Dco49efvllzjnnHL71rW/xwQ9+cJ/bdxdeHqlu5/lNGznuysUdHQYAf7n+3I4OQZIkqU1Nnz6dFStW8MILL5DL5fjGN75BeXk5F1xwAbfeeiuDBw/mnnvuAWDevHmsW7eOa6+9lmuvvRaAZcuW0a9fP2bPns3FF19MaWlpk+2/853vdORhFpRJmyRJkqQ2s2DBgibLly9f3qjsa1/7Gl/72tearH/LLbfUb+96dFJ35eWRkiRJkpRhJm2SJEmSlGEmbZIkSZKUYSZtkiTtp4i4LSK2RsRTDcr6RERlRKzNfz2qwb6vRMS6iHgmIiZ2TNSSpM7GpE2SpP13O3DWHmXlwPKUUjGwPP+eiBgFTANG59v8ICIOKlyokqTOyqRNkqT9lFJ6CHhpj+IpwPz89nzgww3KF6aU3koprQfWAacUIk5JaktZeeZtd+KS/5Ikta3+KaUagJRSTUT0y5cPBB5pUK86XyZJnUpWnnnbnZ5360ybJEmF0dSfhVOTFSM+GxGrImLVtm3b2jksSVLWmbRJktS2tkREEUD+69Z8eTUwqEG9HLC5qQ5SSjenlEpTSqV9+/Zt12AlSdln0iZJUttaBMzMb88EKhqUT4uIQyLiPUAxsLID4pMkdTLe0yZJ0n6KiAXAeOCYiKgGrgbmAndHxEXAc8BHAVJKT0fE3cBqYCcwJ6VU2yGBS5I6FZM2SZL2U0ppejO7JjRT/zrguvaLSJLUFXl5pCRJkiRlmEmbJEmSJGWYSZskSZIkZZhJmyRJkiRlWItJW0QMiohfRcSaiHg6Ii7Ll/eJiMqIWJv/elSDNl+JiHUR8UxETGzPA5AkSZKkrqw1M207gS+klEYC7wPmRMQooBxYnlIqBpbn35PfNw0YDZwF/CAiDmqP4CVJkiSpq2sxaUsp1aSUHs9vvwqsAQYCU4D5+WrzgQ/nt6cAC1NKb6WU1gPrgFPaOG5JkiRJ6hb26Z62iBgCnAg8CvRPKdVAXWIH9MtXGwhsbNCsOl8mSZIkSdpHrU7aIuIw4BfA51NKr+ytahNlqYn+PhsRqyJi1bZt21obhiRJkiR1K61K2iLiYOoStjtTSvfmi7dERFF+fxGwNV9eDQxq0DwHbN6zz5TSzSml0pRSad++ffc3fkmSJEnq0lqzemQAtwJrUkr/0mDXImBmfnsmUNGgfFpEHBIR7wGKgZVtF7IkSZIkdR89W1Hng8AngD9GRFW+7KvAXODuiLgIeA74KEBK6emIuBtYTd3Kk3NSSrVtHbgkSZIkdQctJm0ppd/S9H1qABOaaXMdcN0BxCVJkiRJYh9Xj5QkSZIkFZZJmyRJkiRlmEmbJEmSJGWYSZskSZIkZZhJmyRJkiRlmEmbJEmSJGWYSZskSZIkZZhJmyRJkiRlmEmbJEmSJGWYSZskSZIkZZhJmyRJkiRlmEmbJEmSJGWYSZskSZIkZZhJmyRJkiRlmEmbJEmSJGWYSZskSZIkZZhJmyRJkiRlmEmbJEmSJGWYSZskSZIkZZhJmyRJkiRlmEmbJEmSJGWYSZskSZIkZZhJmyRJkiRlmEmbJEmSJGWYSZskSZIkZZhJmyRJktQFDBkyhPe+972UlJRQWloKwEsvvURZWRnFxcWUlZWxffv2JtsuXbqU4cOHM2zYMObOnVvIsNUKJm2SJElSF/GrX/2KqqoqVq1aBcDcuXOZMGECa9euZcKECU0mZLW1tcyZM4cHHniA1atXs2DBAlavXl3o0LUXJm2SJElSF1VRUcHMmTMBmDlzJvfff3+jOitXrmTYsGEMHTqUXr16MW3aNCoqKgocqfbGpE2SJEnqAiKCM888k5NPPpmbb74ZgC1btlBUVARAUVERW7dubdRu06ZNDBo0qP59Lpdj06ZNhQlardKzowOQJEmSdOAefvhhBgwYwNatWykrK2PEiBGtapdSalQWEW0dng6AM22SJElSFzBgwAAA+vXrx3nnncfKlSvp378/NTU1ANTU1NCvX79G7XK5HBs3bqx/X11dXd+XssGkTZIkSerkXn/9dV599dX67WXLljFmzBgmT57M/PnzAZg/fz5Tpkxp1HbcuHGsXbuW9evX8/bbb7Nw4UImT55c0Pi1d14eKUmSJHVyW7Zs4bzzzgNg586dfPzjH+ess85i3LhxXHDBBdx6660MHjyYe+65B4DNmzcze/ZslixZQs+ePZk3bx4TJ06ktraWWbNmMXr06I48HO3BpE2SJEnq5IYOHcof/vCHRuVHH300y5cvb1Q+YMAAlixZUv9+0qRJTJo0qV1j1P4zaZMkqR1ExAbgVaAW2JlSKo2IPsBdwBBgA3BBSqnpJ91KkpTnPW3d3I033siYMWMYPXo0N9xwAwDXXHMNAwcOpKSkhJKSkt3+CtPQ0qVLGT58OMOGDWvyQY2SJM5IKZWklErz78uB5SmlYmB5/r0kSXvlTFs39tRTT/HjH/+YlStX0qtXL8466yzOOeccAC6//HK++MUvNtu2traWOXPmUFlZSS6XY9y4cUyePJlRo0YVKnxJ6oymAOPz2/OBFcCVHRWMJKlzcKatG1uzZg3ve9/76N27Nz179uRDH/oQ9913X6varly5kmHDhjF06FB69erFtGnTqKioaOeIJalTScCyiHgsIj6bL+ufUqoByH9tvPa2JEl7MGnrxsaMGcNDDz3Eiy++yBtvvMGSJUvqn9Exb948xo4dy6xZs9i+vfHtFps2bWLQoEH173O5HJs2bSpY7JLUCXwwpXQScDYwJyJOb23DiPhsRKyKiFXbtm1rvwgldRpFucFERCZeKjwvj+zGRo4cyZVXXklZWRmHHXYYJ5xwAj179uSSSy7h61//OhHB17/+db7whS9w22237dY2pdSoP/8TS9JfpZQ2579ujYj7gFOALRFRlFKqiYgiYGszbW8GbgYoLS1t/ANXUrfz/KaNHHfl4o4OA4C/XH9uR4fQ7TjT1s1ddNFFPP744zz00EP06dOH4uJi+vfvz0EHHUSPHj34zGc+w8qVKxu1y+Vy9bNyANXV1QwYMKCQoUtSZkXEoRFx+K5t4EzgKWARMDNfbSbgdeWSpBa1mLRFxG0RsTUinmpQ1iciKiNibf7rUQ32fSUi1kXEMxExsb0CV9vYurXuj7zPPfcc9957L9OnT6empqZ+/3333ceYMWMatRs3bhxr165l/fr1vP322yxcuJDJkycXLG5Jyrj+wG8j4g/ASuA/U0pLgblAWUSsBcry7yVJ2qvWXB55OzAP+GmDsl1LFs+NiPL8+ysjYhQwDRgNDAD+KyL+NqVU27Zhq61MnTqVF198kYMPPpibbrqJo446ik984hNUVVUREQwZMoQf/ehHAGzevJnZs2ezZMkSevbsybx585g4cSK1tbXMmjWL0aNHd/DRSFI2pJSeBU5oovxFYELhI5IkdWYtJm0ppYciYsgexc0tWTwFWJhSegtYHxHrqLuG/3dtFK/a2G9+85tGZXfccUeTdQcMGLDbM9smTZrEpEmT2i02SZIkSft/T1tzSxYPBDY2qFedL5MkSZIk7Ye2XoikqeUDm1z1yuWMJUmSJKll+5u0bckvVcweSxZXA4Ma1MsBm5vqIKV0c0qpNKVU2rdv3/0Mo/WeeeYZSkpK6l9HHHEEN9xwA1//+tcZO3YsJSUlnHnmmWze3GS4LF26lOHDhzNs2DDmzvW+cUmSJEmFsb9JW3NLFi8CpkXEIRHxHqCYulWzOtzw4cOpqqqiqqqKxx57jN69e3PeeefxpS99iSeffJKqqirOPfdcvvnNbzZqW1tby5w5c3jggQdYvXo1CxYsYPXq1R1wFPsuKw9iLMoN7uhTIUmSJHVKLS5EEhELqFt05JiIqAaupm6J4rsj4iLgOeCjACmlpyPibmA1sBOYk8WVI5cvX87xxx/Pcccdt1v566+/3uQDoleuXMmwYcMYOnQoANOmTaOiooJRo0YVJN4DkZUHMbbmIYwvv/wys2fP5qmnniIiuO222+jduzcXX3wxr732GkOGDOHOO+/kiCOOaNR26dKlXHbZZdTW1jJ79mzKy8vb4zAkSZKkgmvN6pHTm9nV5JLFKaXrgOsOJKj2tnDhQqZP/+thXXXVVfz0pz/l3e9+N7/61a8a1d+0aRODBv31qs9cLsejjz5akFi7k8suu4yzzjqLn//857z99tu88cYblJWV8d3vfpcPfehD3HbbbXznO9/h2muv3a3drpnQyspKcrkc48aNY/LkyZ0iqZYkSZJa0tYLkWTe22+/zaJFi/joRz9aX3bdddexceNGZsyYwbx58xq1SanxWipNzchp/73yyis89NBDXHTRRQD06tWLI488kmeeeYbTTz8dgLKyMn7xi180attwJrRXr171M6GSJElSV9DtkrYHHniAk046if79+zfa9/GPf7zJpCCXy7Fx41+fZFBdXc2AAQPaNc7u5tlnn6Vv3758+tOf5sQTT2T27Nm8/vrrjBkzhkWLFgFwzz337PbvsEtTM6GbNm0qWOySJKl72rhxI2eccQYjR45k9OjR3HjjjQB87GMfq1/8bsiQIZSUlDTZ3oXu1FrdLmlbsGDBbpdGrl27tn570aJFjBgxolGbcePGsXbtWtavX8/bb7/NwoULmTx5ckHi7S527tzJ448/ziWXXMITTzzBoYceyty5c7ntttu46aabOPnkk3n11Vfp1atXo7bOhEqSpI7Qs2dPvve977FmzRoeeeQRbrrpJlavXs1dd91VvwDe1KlTOf/88xu17cwL3anwulXS9sYbb1BZWbnbf5zy8nLGjBnD2LFjWbZsWf1fSDZv3sykSZOAuv+Q8+bNY+LEiYwcOZILLriA0aNHd8gxdFW5XI5cLsepp54KwEc+8hEef/xxRowYwbJly3jssceYPn06xx9/fJNtnQmVJEmFVlRUxEknnQTA4YcfzsiRI3e72ielxN13373bhMEu3t6hfdHiQiRdSe/evXnxxRd3K2vqckiAAQMGsGTJkvr3kyZNqk/i1PaOPfZYBg0axDPPPMPw4cNZvnw5o0aNYuvWrfTr14933nmHf/7nf+biiy9u1LbhTOjAgQNZuHAhP/vZzzrgKCRJUne1YcMGnnjiifo/QAP85je/oX///hQXFzeq70J32hfdaqZN2fb973+fGTNmMHbsWKqqqvjqV7/KggUL+Nu//VtGjBjBgAED+PSnPw04EypJkrLjtddeY+rUqdxwww27PZpoz9tyGvL2Du2LbjXTpmwrKSlh1apVu5VddtllXHbZZY3qOhMqSZKyYMeOHUydOpUZM2bsdgvOzp07uffee3nssceabOftHdoXzrRJkiRJ+yGlxEUXXcTIkSO54oordtv3X//1X4wYMYJcLtdkWxe6077oUklbUW4wEdHhr6Lc4I4+FZIkSWpnDz/8MHfccQcPPvhg/RL/u64EWrhwYaNLI729Q/urS10e+fymjRx35eKODoO/XH9uR4cgSZKkdnbaaac1eW8awO23396ozNs7tL+6VNKmDDvoYG+ulSRJkvaDSZsKo3ZHJmZBwZlQSZIkdS5d6p42SZIkSepqTNokSZIkKcNM2iRJktSpzJo1i379+jFmzJj6smuuuYaBAwc2WsVxT0uXLmX48OEMGzaMuXPntvhZWVmdXN2b97RJkiSpU/nUpz7FpZdeyic/+cndyi+//HK++MUvNtuutraWOXPmUFlZSS6XY9y4cUyePJlRo0Y128bVyZUFzrRJkiSpUzn99NPp06fPPrdbuXIlw4YNY+jQofTq1Ytp06ZRUVHRDhFKbcukTZIkSV3CvHnzGDt2LLNmzWL79u2N9m/atIlBgwbVv8/lcmzatKmQIUr7xaRNkiRJnd4ll1zCn//8Z6qqqigqKuILX/hCozpNPQjb+8XUGZi0SZIkqdPr378/Bx10ED169OAzn/kMK1eubFQnl8uxcePG+vfV1dUMGDCgkGFK+8WkTZIkSZ1eTU1N/fZ9992328qSu4wbN461a9eyfv163n77bRYuXMjkyZMLGaa0X1w9UpIkSZ3K9OnTWbFiBS+88AK5XI5vfOMbrFixgqqqKiKCIUOG8KMf/QiAzZs3M3v2bJYsWULPnj2ZN28eEydOpLa2llmzZjF69OgOPhqpZSZtkiRJ6lQWLFjQqOyiiy5qsu6AAQN2e2bbpEmTmDRpUrvFJrUHL4+UJElSi5555pn6B1eXlJRwxBFHcMMNN+xWJ6XEP/3TPzFs2DDGjh3L448/3jHBSl2MM22SJElq0fDhw6mqqgLqHlI9cOBAzjvvvN3qPPDAA6xdu5a1a9fy6KOPcskll/Doo492QLRS1+JMmyRJUhNefvllPvKRjzBixAhGjhzJ7373u932d+dZpeXLl3P88cdz3HHH7VZeUVHBJz/5SSKC973vfbz88su7LRAiaf+YtEmSJDXhsssu46yzzuJPf/oTf/jDHxg5cuRu+xvOKt18881ccsklHRRp4S1cuJDp06c3Kvfh1VL7MGmTJEnawyuvvMJDDz1Uv7hFr169OPLII3er011nld5++20WLVrERz/60Ub7fHi11D5M2iRJkvbw7LPP0rdvXz796U9z4oknMnv2bF5//fXd6nTXWaUHHniAk046if79+zfa11YPry7KDSYiMvGSssCFSCRJkvawc+dOHn/8cb7//e9z6qmnctlllzF37lyuvfba+jrddVZpwYIFTV4aCTB58mTmzZvHtGnTePTRR3n3u99NUVHRPn/G85s2ctyViw801Dbxl+vP7egQJGfaJEmS9pTL5cjlcpx66qkAfOQjH2m00EhbzSq1ZNasWfTr148xY8Y0ub+QC6K88cYbVFZWcv7559eX/fCHP+SHP/whUPcMtKFDhzJs2DA+85nP8IMf/KDdYpG6E5M2SZKUGUuXLmX48OEMGzaMuXPnNtpfqATl2GOPZdCgQTzzzDNA3WqJo0aN2q3O5MmT+elPf0pKiUceeWS/Z5Va8qlPfYqlS5c2u7+QC6L07t2bF198kXe/+931ZRdffDEXX3wxUDfTeNNNN/HnP/+ZP/7xj5SWlrZbLFJ3YtLWQbIyKEmSlBW1tbXMmTOHBx54gNWrV7NgwQJWr169W51CJijf//73mTFjBmPHjqWqqoqvfvWrHTKrdPrpp9OnT59m93fXBVGk7sR72jrArkGpsrKSXC7HuHHjmDx58m5/wfPhlJKk7mblypUMGzaMoUOHAjBt2jQqKip2Gx+bS1DaY4arpKSEVatW7Va2a0YJ/jqr1NGaWxClPc6JpI7hTFsHaDgo9erVq35Qasi/mkmSupvWrMbYXVds3JvuuiCK1J2YtHUAByVJkhprTfJhgtJYoRZEkdRxTNo6gIOSJEmNtSb5MEFprFALokjqON7T1gEclCRJamzcuHGsXbuW9evXM3DgQBYuXMjPfvaz3eq01XPAOpPp06ezYsUKXnjhBXK5HN/4xjfYsWMHUHeP3aRJk1iyZAnDhg2jd+/e/OQnP9nvzyrKDeb5TRtbriipoEzaOoCDkiRJjfXs2ZN58+YxceJEamtrmTVrFqNHj65frbEtE5QsJSfHDhxETfVzze5fsGDBXtu35YIoWXmotQ+0lnZn0tYBCjkoSZLUmUyaNIlJkybtVtYeKzZmJTkBExRJLTNp6yCFGpQkSZIkdW7tthBJRJwVEc9ExLqIKG+vz5EkqTNxfJQk7at2Sdoi4iDgJuBsYBQwPSJG7b2VJEldm+OjJGl/tNdM2ynAupTSsymlt4GFwJR2+ixJkjoLx0dJ0j5rr3vaBgINl2SqBk5tp8+SJKmzcHxUYwcd7LNYJe1VNPUQ5wPuNOKjwMSU0uz8+08Ap6SUPtegzmeBz+bfDgeeaYOPPgZ4oQ36OVBZiQOyE0tW4gBjaUpW4oDsxJKVOCA7sbRVHMellPq2QT+dTmvGx3x5W4+RWfkeguzEkpU4wFiakpU4IDuxZCUOyE4sWYkD2iaWZsfH9pppqwYGNXifAzY3rJBSuhm4uS0/NCJWpZRK27LPzhwHZCeWrMQBxpLlOCA7sWQlDshOLFmJo5NrcXyEth8js/Rvl5VYshIHGEuW44DsxJKVOCA7sWQlDmj/WNrrnrbfA8UR8Z6I6AVMAxa102dJktRZOD5KkvZZu8y0pZR2RsSlwC+Bg4DbUkpPt8dnSZLUWTg+SpL2R7s9XDultARY0l79N6NNL7c8AFmJA7ITS1biAGNpSlbigOzEkpU4IDuxZCWOTq2bj4+QnViyEgcYS1OyEgdkJ5asxAHZiSUrcUA7x9IuC5FIkiRJktpGe93TJkmSJElqA50uaYuIsyLimYhYFxHlTeyPiPi3/P4nI+KkDoxlfET8v4ioyr/+dzvFcVtEbI2Ip5rZX8hz0lIshTongyLiVxGxJiKejojLmqjT7uellXEU6py8KyJWRsQf8rF8o4k6hTgnrYmjIOekwecdFBFPRMTiJvYV8v/P3uIo2DmJiA0R8cf856xqYn/Bzon2TVbGSMfH/YqlW42P+xBLu5+XrIyP+xBLIceDTIyPrYil64+RKaVO86Lupu0/A0OBXsAfgFF71JkEPAAE8D7g0Q6MZTywuADn5XTgJOCpZvYX5Jy0MpZCnZMi4KT89uHAf3fE90or4yjUOQngsPz2wcCjwPs64Jy0Jo6CnJMGn3cF8LOmPrPA/3/2FkfBzgmwAThmL/sLdk587dO/WybGSMfH/Y6lW42P+xBLu5+XrIyP+xBLIceDTIyPrYily4+RnW2m7RRgXUrp2ZTS28BCYMoedaYAP011HgGOjIiiDoqlIFJKDwEv7aVKoc5Ja2IpiJRSTUrp8fz2q8AaYOAe1dr9vLQyjoLIH+dr+bcH51973tRaiHPSmjgKJiJywDnALc1UKcj/n1bEkSUF+5mifZKVMdLxcf9iKYisjI/7EEu7y8r4uA+xFERWxsdWxpIl7XJeOlvSNhDY2OB9NY3/c7emTqFiAXh/for7gYgY3Q5xtEahzklrFfScRMQQ4ETq/lrVUEHPy17igAKdk/ylBVXAVqAypdQh56QVcUDhvk9uAL4MvNPM/kJ9n7QUBxTunCRgWUQ8FhGfbWJ/1n6mqE5WxkjHx/3XLcfHFmKBApyXrIyPrYwFCvO9cgPZGB9bEwt08TGysyVt0UTZnn99aE2dQsXyOHBcSukE4PvA/e0QR2sU6py0RkHPSUQcBvwC+HxK6ZU9dzfRpF3OSwtxFOycpJRqU0olQA44JSLG7BlqU806II6CnJOIOBfYmlJ6bG/Vmihr03PSyjgK+X/ngymlk4CzgTkRcfoe+7P0M0V/lZUx0vFx/3TL8bEVsRTkvGRlfGxlLO1+TrIyPu5DLF1+jOxsSVs1MKjB+xyweT/qFCSWlNIru6a4U91zeQ6OiGPaIZaWFOqctKiQ5yQiDqZuELgzpXRvE1UKcl5aiqMjvk9SSi8DK4Cz9thV0O+V5uIo4Dn5IDA5IjZQdwnX30XEv+9RpxDnpMU4Cvl9klLanP+6FbiPusvdGsrMzxTtJitjpOPjfuiO42NrYin090pWxse9xVKgc5KV8bFVsXSHMbKzJW2/B4oj4j0R0QuYBizao84i4JP5lVveB/y/lFJNR8QSEcdGROS3T6HufL/YDrG0pFDnpEWFOif5z7gVWJNS+pdmqrX7eWlNHAU8J30j4sj89t8Afw/8aY9qhTgnLcZRqHOSUvpKSimXUhpC3f/hB1NKF+5Rrd3PSWviKOD3yaERcfiubeBMYM/V7jLzM0W7ycoY6fi4H7rb+NjaWApxXrIyPrY2lkKck6yMj62NpTuMkT0PtINCSintjIhLgV9StzrVbSmlpyPi4vz+HwJLqFu1ZR3wBvDpDozlI8AlEbET+B9gWkqpPaaNF1C3as4xEVENXE3djasFPSetjKUg54S6v8p8Avhj1F0XDvBVYHCDWApxXloTR6HOSREwPyIOou6H2d0ppcUd8P+nNXEU6pw0qSN+prQijkKdk/7Affmxryfws5TS0qycEzUvK2Ok4+N+x9LdxsfWxlKI85KV8bG1sXTYGJmlsaC7jZFRwN+DJEmSJEn7qLNdHilJkiRJ3YpJmyRJkiRlmEmbJEmSJGWYSZskSZIkZZhJmyRJkiRlmEmbJEmSJGWYSZskSZIkZZhJmyRJkiRl2P8PaEndipFrzQ0AAAAASUVORK5CYII=\n",
      "text/plain": [
       "<Figure size 1080x360 with 2 Axes>"
      ]
     },
     "metadata": {
      "needs_background": "light"
     },
     "output_type": "display_data"
    }
   ],
   "source": [
    "fig, (ax1, ax2) = plt.subplots(1, 2, figsize = (15,5))\n",
    "fig.suptitle('Rating Adidas vs Nike')\n",
    "arr1 = ax1.hist(adidas_rating, edgecolor='black', bins = bins)\n",
    "ax1.set_xticks(arr1[1].round(2))\n",
    "ax1.set_title('Adidas')\n",
    "for i in range(bins):\n",
    "    ax1.text(arr1[1][i]+0.1,arr1[0][i]+10,str(arr1[0][i]))\n",
    "\n",
    "arr2 = ax2.hist(nike_rating, edgecolor='black', bins = bins)\n",
    "ax2.set_xticks(arr2[1].round(2))\n",
    "ax2.set_title('Nike')\n",
    "for i in range(bins):\n",
    "    ax2.text(arr2[1][i]+0.1,arr2[0][i]+5,str(arr2[0][i]))"
   ]
  },
  {
   "cell_type": "code",
   "execution_count": 35,
   "id": "88438a56",
   "metadata": {},
   "outputs": [],
   "source": [
    "adidas_reviews = df[df['Company']=='Adidas']['Reviews']\n",
    "nike_reviews = df[df['Company']=='Nike']['Reviews']"
   ]
  },
  {
   "cell_type": "code",
   "execution_count": 36,
   "id": "8ef001e2",
   "metadata": {},
   "outputs": [
    {
     "data": {
      "image/png": "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\n",
      "text/plain": [
       "<Figure size 1080x360 with 2 Axes>"
      ]
     },
     "metadata": {
      "needs_background": "light"
     },
     "output_type": "display_data"
    }
   ],
   "source": [
    "fig, (ax1, ax2) = plt.subplots(1, 2, figsize = (15,5))\n",
    "fig.suptitle('Reviews Adidas vs Nike')\n",
    "arr1 = ax1.hist(adidas_reviews, edgecolor='black', bins = bins)\n",
    "ax1.set_xticks(arr1[1].round(2))\n",
    "ax1.set_title('Adidas')\n",
    "for i in range(bins):\n",
    "    ax1.text(arr1[1][i]+0.1,arr1[0][i]+10,str(arr1[0][i]))\n",
    "\n",
    "arr2 = ax2.hist(nike_reviews, edgecolor='black', bins = bins)\n",
    "ax2.set_xticks(arr2[1].round(2))\n",
    "ax2.set_title('Nike')\n",
    "for i in range(bins):\n",
    "    ax2.text(arr2[1][i]+0.1,arr2[0][i]+5,str(arr2[0][i]))"
   ]
  },
  {
   "cell_type": "markdown",
   "id": "fc059382",
   "metadata": {},
   "source": [
    "Nhận xét: Số lượng người quan tâm đến Nike ít hơn Adidas (Reviews thấp chiếm tần suất nhiều). Tuy nhiên Nike lại thường được đánh giá cao hơn (Rating cao chiếm tần suất nhiều). Điều này cho thấy chất lượng sản phẩm của Adidas khá ổn định, còn sản phẩm của Nike thì lại có sự đột phá. Minh chứng là Nike sở hữu sản phẩm **Air Jordan 10 Retro** có Score hơn hẳn các sản phẩm còn lại."
   ]
  },
  {
   "cell_type": "markdown",
   "id": "aac6fa3b",
   "metadata": {},
   "source": [
    "### Câu 4: Với số tiền tầm X thì tôi nên mua sản phẩm nào?"
   ]
  },
  {
   "cell_type": "markdown",
   "id": "ff6aa412",
   "metadata": {},
   "source": [
    "Các bước thực hiện:\n",
    "* Bước 1: Khởi tao tầm giá `X` và số lượng sản phẩm tối đa cần gợi ý `num_product`\n",
    "* Bước 2: Tạo ra khoảng tiền dao động gần X (chênh lệch X/4)\n",
    "* Bước 3: Lấy ra những sản phẩm hợp lệ lưu vào `suitable_df`\n",
    "* Bước 4: Sắp xếp lại các sản phẩm giảm dần theo 'Score', reset index và trả về num_product dòng đầu tiên"
   ]
  },
  {
   "cell_type": "code",
   "execution_count": 37,
   "id": "5cb2650a",
   "metadata": {},
   "outputs": [
    {
     "data": {
      "text/html": [
       "<div>\n",
       "<style scoped>\n",
       "    .dataframe tbody tr th:only-of-type {\n",
       "        vertical-align: middle;\n",
       "    }\n",
       "\n",
       "    .dataframe tbody tr th {\n",
       "        vertical-align: top;\n",
       "    }\n",
       "\n",
       "    .dataframe thead th {\n",
       "        text-align: right;\n",
       "    }\n",
       "</style>\n",
       "<table border=\"1\" class=\"dataframe\">\n",
       "  <thead>\n",
       "    <tr style=\"text-align: right;\">\n",
       "      <th></th>\n",
       "      <th>Product Name</th>\n",
       "      <th>Listing Price</th>\n",
       "      <th>Sale Price</th>\n",
       "      <th>Discount</th>\n",
       "      <th>Company</th>\n",
       "      <th>Rating</th>\n",
       "      <th>Reviews</th>\n",
       "      <th>Score</th>\n",
       "      <th>Segmentation</th>\n",
       "    </tr>\n",
       "  </thead>\n",
       "  <tbody>\n",
       "    <tr>\n",
       "      <th>0</th>\n",
       "      <td>Women's adidas Sport Inspired Arcadeis Shoes</td>\n",
       "      <td>4299</td>\n",
       "      <td>2149</td>\n",
       "      <td>50</td>\n",
       "      <td>Adidas</td>\n",
       "      <td>4.9</td>\n",
       "      <td>95</td>\n",
       "      <td>7.030045</td>\n",
       "      <td>1</td>\n",
       "    </tr>\n",
       "    <tr>\n",
       "      <th>1</th>\n",
       "      <td>Men's adidas Running Norad Shoes</td>\n",
       "      <td>4999</td>\n",
       "      <td>2499</td>\n",
       "      <td>50</td>\n",
       "      <td>Adidas</td>\n",
       "      <td>5.0</td>\n",
       "      <td>89</td>\n",
       "      <td>6.995516</td>\n",
       "      <td>1</td>\n",
       "    </tr>\n",
       "    <tr>\n",
       "      <th>2</th>\n",
       "      <td>Women's adidas Sport Inspired Glenn W Shoes</td>\n",
       "      <td>2499</td>\n",
       "      <td>1749</td>\n",
       "      <td>30</td>\n",
       "      <td>Adidas</td>\n",
       "      <td>4.8</td>\n",
       "      <td>96</td>\n",
       "      <td>6.952466</td>\n",
       "      <td>1</td>\n",
       "    </tr>\n",
       "    <tr>\n",
       "      <th>3</th>\n",
       "      <td>MEN'S ADIDAS RUNNING ARIUS 1.0 SHOES</td>\n",
       "      <td>4999</td>\n",
       "      <td>2499</td>\n",
       "      <td>50</td>\n",
       "      <td>Adidas</td>\n",
       "      <td>4.9</td>\n",
       "      <td>89</td>\n",
       "      <td>6.895516</td>\n",
       "      <td>1</td>\n",
       "    </tr>\n",
       "    <tr>\n",
       "      <th>4</th>\n",
       "      <td>Men's adidas Sport Inspired Quickspike Shoes</td>\n",
       "      <td>3999</td>\n",
       "      <td>1999</td>\n",
       "      <td>50</td>\n",
       "      <td>Adidas</td>\n",
       "      <td>4.8</td>\n",
       "      <td>91</td>\n",
       "      <td>6.840359</td>\n",
       "      <td>1</td>\n",
       "    </tr>\n",
       "    <tr>\n",
       "      <th>5</th>\n",
       "      <td>Men's adidas Outdoor Argo Trek 19 Shoes</td>\n",
       "      <td>3999</td>\n",
       "      <td>2399</td>\n",
       "      <td>40</td>\n",
       "      <td>Adidas</td>\n",
       "      <td>4.8</td>\n",
       "      <td>91</td>\n",
       "      <td>6.840359</td>\n",
       "      <td>1</td>\n",
       "    </tr>\n",
       "    <tr>\n",
       "      <th>6</th>\n",
       "      <td>Men's adidas Sport Inspired Arcadeis Shoes</td>\n",
       "      <td>4599</td>\n",
       "      <td>2299</td>\n",
       "      <td>50</td>\n",
       "      <td>Adidas</td>\n",
       "      <td>4.9</td>\n",
       "      <td>85</td>\n",
       "      <td>6.805830</td>\n",
       "      <td>1</td>\n",
       "    </tr>\n",
       "    <tr>\n",
       "      <th>7</th>\n",
       "      <td>Men's adidas Running Bolter Shoes</td>\n",
       "      <td>4299</td>\n",
       "      <td>2149</td>\n",
       "      <td>50</td>\n",
       "      <td>Adidas</td>\n",
       "      <td>4.9</td>\n",
       "      <td>83</td>\n",
       "      <td>6.760987</td>\n",
       "      <td>1</td>\n",
       "    </tr>\n",
       "    <tr>\n",
       "      <th>8</th>\n",
       "      <td>Women's adidas Sport Inspired Quickspike Shoes</td>\n",
       "      <td>3999</td>\n",
       "      <td>2399</td>\n",
       "      <td>40</td>\n",
       "      <td>Adidas</td>\n",
       "      <td>4.8</td>\n",
       "      <td>85</td>\n",
       "      <td>6.705830</td>\n",
       "      <td>1</td>\n",
       "    </tr>\n",
       "    <tr>\n",
       "      <th>9</th>\n",
       "      <td>Men's adidas Running Supervega Shoes</td>\n",
       "      <td>3999</td>\n",
       "      <td>2399</td>\n",
       "      <td>40</td>\n",
       "      <td>Adidas</td>\n",
       "      <td>4.7</td>\n",
       "      <td>86</td>\n",
       "      <td>6.628251</td>\n",
       "      <td>1</td>\n",
       "    </tr>\n",
       "  </tbody>\n",
       "</table>\n",
       "</div>"
      ],
      "text/plain": [
       "                                     Product Name  Listing Price  Sale Price  \\\n",
       "0    Women's adidas Sport Inspired Arcadeis Shoes           4299        2149   \n",
       "1                Men's adidas Running Norad Shoes           4999        2499   \n",
       "2     Women's adidas Sport Inspired Glenn W Shoes           2499        1749   \n",
       "3            MEN'S ADIDAS RUNNING ARIUS 1.0 SHOES           4999        2499   \n",
       "4    Men's adidas Sport Inspired Quickspike Shoes           3999        1999   \n",
       "5         Men's adidas Outdoor Argo Trek 19 Shoes           3999        2399   \n",
       "6      Men's adidas Sport Inspired Arcadeis Shoes           4599        2299   \n",
       "7               Men's adidas Running Bolter Shoes           4299        2149   \n",
       "8  Women's adidas Sport Inspired Quickspike Shoes           3999        2399   \n",
       "9            Men's adidas Running Supervega Shoes           3999        2399   \n",
       "\n",
       "   Discount Company  Rating  Reviews     Score Segmentation  \n",
       "0        50  Adidas     4.9       95  7.030045            1  \n",
       "1        50  Adidas     5.0       89  6.995516            1  \n",
       "2        30  Adidas     4.8       96  6.952466            1  \n",
       "3        50  Adidas     4.9       89  6.895516            1  \n",
       "4        50  Adidas     4.8       91  6.840359            1  \n",
       "5        40  Adidas     4.8       91  6.840359            1  \n",
       "6        50  Adidas     4.9       85  6.805830            1  \n",
       "7        50  Adidas     4.9       83  6.760987            1  \n",
       "8        40  Adidas     4.8       85  6.705830            1  \n",
       "9        40  Adidas     4.7       86  6.628251            1  "
      ]
     },
     "execution_count": 37,
     "metadata": {},
     "output_type": "execute_result"
    }
   ],
   "source": [
    "# Khởi tại X và num_product\n",
    "X = 2000\n",
    "num_product = 10\n",
    "# Tạo ra khoảng tiền dao động gần X\n",
    "max_sale_price = df['Sale Price'].max()\n",
    "low = int(X - X*1/4)\n",
    "high = int(X + X*1/4)\n",
    "if low < 0: low = 0\n",
    "if high > max_sale_price: high = max_sale_price\n",
    "\n",
    "# Lấy ra những sản phẩm trong khoảng tiền yêu cầu\n",
    "suitable_df = df[df['Sale Price'].between(low, high)]\n",
    "# Hiển thị các sản phẩm đề xuất\n",
    "suitable_df = suitable_df.sort_values('Score', ascending= False).reset_index()[col_names]\n",
    "suitable_df.iloc[:num_product,:]"
   ]
  },
  {
   "cell_type": "markdown",
   "id": "74683fb5",
   "metadata": {},
   "source": [
    "Giả sử ta thường hay mua những sản phẩm trong tầm giá 2000 vì với giá này các sản phẩm vừa phù hợp với điều kiện kinh tế vừa đảm bảo chất lượng theo nhu cầu của cá nhân. Trả lời được câu hỏi trên, ta có thể lựa chọn cho mình sản phẩm phù hợp."
   ]
  }
 ],
 "metadata": {
  "kernelspec": {
   "display_name": "Python 3",
   "language": "python",
   "name": "python3"
  },
  "language_info": {
   "codemirror_mode": {
    "name": "ipython",
    "version": 3
   },
   "file_extension": ".py",
   "mimetype": "text/x-python",
   "name": "python",
   "nbconvert_exporter": "python",
   "pygments_lexer": "ipython3",
   "version": "3.8.8"
  }
 },
 "nbformat": 4,
 "nbformat_minor": 5
}
