{
 "cells": [
  {
   "cell_type": "markdown",
   "id": "51733bb1",
   "metadata": {},
   "source": [
    "## Import các thư viện cần thiết"
   ]
  },
  {
   "cell_type": "code",
   "execution_count": 1,
   "id": "ce5e205a",
   "metadata": {},
   "outputs": [],
   "source": [
    "import pandas as pd\n",
    "import matplotlib.pyplot as plt\n",
    "import numpy as np"
   ]
  },
  {
   "cell_type": "markdown",
   "id": "1180583f",
   "metadata": {},
   "source": [
    "---"
   ]
  },
  {
   "cell_type": "markdown",
   "id": "28bb07a3",
   "metadata": {},
   "source": [
    "## Thu thập dữ liệu"
   ]
  },
  {
   "cell_type": "markdown",
   "id": "5f66e7f5",
   "metadata": {},
   "source": [
    "Trong bài này, ta sẽ dùng dữ liệu đã được thu thập sẵn là file \"Adidas Vs Nike.csv\" đính kèm; Adidas vs Nike là một cuộc cạnh tranh không ngừng trong ngành công nghiệp thể thao. Tập dữ liệu này bao gồm thông tin sản phẩm của hai công ty khổng lồ này với những thông tin quan trọng. Dữ liệu này được lấy từ trang Kaggle, và gốc của dữ liệu là [ở đây](https://data.world/data-hut/product-data-from-nike) (Nike) và\n",
    "[ở đây](https://data.world/data-hut/product-data-from-adidas) (Adidas).\n"
   ]
  },
  {
   "cell_type": "markdown",
   "id": "fbb4d405",
   "metadata": {},
   "source": [
    "---"
   ]
  },
  {
   "cell_type": "markdown",
   "id": "53cd73ec",
   "metadata": {},
   "source": [
    "## Khám phá dữ liệu"
   ]
  },
  {
   "cell_type": "markdown",
   "id": "6b868444",
   "metadata": {},
   "source": [
    "### Đọc dữ liệu từ file csv vào dataframe"
   ]
  },
  {
   "cell_type": "code",
   "execution_count": 2,
   "id": "30b9d75b",
   "metadata": {},
   "outputs": [
    {
     "data": {
      "text/html": [
       "<div>\n",
       "<style scoped>\n",
       "    .dataframe tbody tr th:only-of-type {\n",
       "        vertical-align: middle;\n",
       "    }\n",
       "\n",
       "    .dataframe tbody tr th {\n",
       "        vertical-align: top;\n",
       "    }\n",
       "\n",
       "    .dataframe thead th {\n",
       "        text-align: right;\n",
       "    }\n",
       "</style>\n",
       "<table border=\"1\" class=\"dataframe\">\n",
       "  <thead>\n",
       "    <tr style=\"text-align: right;\">\n",
       "      <th></th>\n",
       "      <th>Product Name</th>\n",
       "      <th>Product ID</th>\n",
       "      <th>Listing Price</th>\n",
       "      <th>Sale Price</th>\n",
       "      <th>Discount</th>\n",
       "      <th>Brand</th>\n",
       "      <th>Description</th>\n",
       "      <th>Rating</th>\n",
       "      <th>Reviews</th>\n",
       "      <th>Last Visited</th>\n",
       "    </tr>\n",
       "  </thead>\n",
       "  <tbody>\n",
       "    <tr>\n",
       "      <th>0</th>\n",
       "      <td>Women's adidas Originals NMD_Racer Primeknit S...</td>\n",
       "      <td>AH2430</td>\n",
       "      <td>14999</td>\n",
       "      <td>7499</td>\n",
       "      <td>50</td>\n",
       "      <td>Adidas Adidas ORIGINALS</td>\n",
       "      <td>Channeling the streamlined look of an '80s rac...</td>\n",
       "      <td>4.8</td>\n",
       "      <td>41</td>\n",
       "      <td>2020-04-13T15:06:14</td>\n",
       "    </tr>\n",
       "    <tr>\n",
       "      <th>1</th>\n",
       "      <td>Women's adidas Originals Sleek Shoes</td>\n",
       "      <td>G27341</td>\n",
       "      <td>7599</td>\n",
       "      <td>3799</td>\n",
       "      <td>50</td>\n",
       "      <td>Adidas ORIGINALS</td>\n",
       "      <td>A modern take on adidas sport heritage, tailor...</td>\n",
       "      <td>3.3</td>\n",
       "      <td>24</td>\n",
       "      <td>2020-04-13T15:06:15</td>\n",
       "    </tr>\n",
       "    <tr>\n",
       "      <th>2</th>\n",
       "      <td>Women's adidas Swim Puka Slippers</td>\n",
       "      <td>CM0081</td>\n",
       "      <td>999</td>\n",
       "      <td>599</td>\n",
       "      <td>40</td>\n",
       "      <td>Adidas CORE / NEO</td>\n",
       "      <td>These adidas Puka slippers for women's come wi...</td>\n",
       "      <td>2.6</td>\n",
       "      <td>37</td>\n",
       "      <td>2020-04-13T15:06:15</td>\n",
       "    </tr>\n",
       "    <tr>\n",
       "      <th>3</th>\n",
       "      <td>Women's adidas Sport Inspired Questar Ride Shoes</td>\n",
       "      <td>B44832</td>\n",
       "      <td>6999</td>\n",
       "      <td>3499</td>\n",
       "      <td>50</td>\n",
       "      <td>Adidas CORE / NEO</td>\n",
       "      <td>Inspired by modern tech runners, these women's...</td>\n",
       "      <td>4.1</td>\n",
       "      <td>35</td>\n",
       "      <td>2020-04-13T15:06:15</td>\n",
       "    </tr>\n",
       "    <tr>\n",
       "      <th>4</th>\n",
       "      <td>Women's adidas Originals Taekwondo Shoes</td>\n",
       "      <td>D98205</td>\n",
       "      <td>7999</td>\n",
       "      <td>3999</td>\n",
       "      <td>50</td>\n",
       "      <td>Adidas ORIGINALS</td>\n",
       "      <td>This design is inspired by vintage Taekwondo s...</td>\n",
       "      <td>3.5</td>\n",
       "      <td>72</td>\n",
       "      <td>2020-04-13T15:06:15</td>\n",
       "    </tr>\n",
       "    <tr>\n",
       "      <th>...</th>\n",
       "      <td>...</td>\n",
       "      <td>...</td>\n",
       "      <td>...</td>\n",
       "      <td>...</td>\n",
       "      <td>...</td>\n",
       "      <td>...</td>\n",
       "      <td>...</td>\n",
       "      <td>...</td>\n",
       "      <td>...</td>\n",
       "      <td>...</td>\n",
       "    </tr>\n",
       "    <tr>\n",
       "      <th>3263</th>\n",
       "      <td>Air Jordan 8 Retro</td>\n",
       "      <td>CI1236-100</td>\n",
       "      <td>15995</td>\n",
       "      <td>12797</td>\n",
       "      <td>0</td>\n",
       "      <td>Nike</td>\n",
       "      <td>The Air Jordan 8 Retro recaptures the memorabl...</td>\n",
       "      <td>5.0</td>\n",
       "      <td>1</td>\n",
       "      <td>2020-04-13T15:41:01</td>\n",
       "    </tr>\n",
       "    <tr>\n",
       "      <th>3264</th>\n",
       "      <td>Nike Phantom Venom Club IC</td>\n",
       "      <td>AO0578-717</td>\n",
       "      <td>4995</td>\n",
       "      <td>3497</td>\n",
       "      <td>0</td>\n",
       "      <td>Nike</td>\n",
       "      <td>The Nike Phantom Venom Club IC is engineered f...</td>\n",
       "      <td>0.0</td>\n",
       "      <td>0</td>\n",
       "      <td>2020-04-13T15:41:03</td>\n",
       "    </tr>\n",
       "    <tr>\n",
       "      <th>3265</th>\n",
       "      <td>Nike Mercurial Superfly 7 Academy TF</td>\n",
       "      <td>AT7978-414</td>\n",
       "      <td>8495</td>\n",
       "      <td>5947</td>\n",
       "      <td>0</td>\n",
       "      <td>Nike</td>\n",
       "      <td>The soft upper of the Nike Mercurial Superfly ...</td>\n",
       "      <td>5.0</td>\n",
       "      <td>1</td>\n",
       "      <td>2020-04-13T15:41:07</td>\n",
       "    </tr>\n",
       "    <tr>\n",
       "      <th>3266</th>\n",
       "      <td>Nike Air Max 98</td>\n",
       "      <td>AH6799-300</td>\n",
       "      <td>0</td>\n",
       "      <td>16995</td>\n",
       "      <td>0</td>\n",
       "      <td>Nike</td>\n",
       "      <td>The Nike Air Max 98 features the OG design lin...</td>\n",
       "      <td>4.0</td>\n",
       "      <td>4</td>\n",
       "      <td>2020-04-13T15:41:19</td>\n",
       "    </tr>\n",
       "    <tr>\n",
       "      <th>3267</th>\n",
       "      <td>Nike P-6000 SE</td>\n",
       "      <td>CJ9585-600</td>\n",
       "      <td>8995</td>\n",
       "      <td>6297</td>\n",
       "      <td>0</td>\n",
       "      <td>Nike</td>\n",
       "      <td>A mash-up of Pegasus' past, the Nike P-6000 SE...</td>\n",
       "      <td>0.0</td>\n",
       "      <td>0</td>\n",
       "      <td>2020-04-13T15:42:57</td>\n",
       "    </tr>\n",
       "  </tbody>\n",
       "</table>\n",
       "<p>3268 rows × 10 columns</p>\n",
       "</div>"
      ],
      "text/plain": [
       "                                           Product Name  Product ID  \\\n",
       "0     Women's adidas Originals NMD_Racer Primeknit S...      AH2430   \n",
       "1                  Women's adidas Originals Sleek Shoes      G27341   \n",
       "2                     Women's adidas Swim Puka Slippers      CM0081   \n",
       "3      Women's adidas Sport Inspired Questar Ride Shoes      B44832   \n",
       "4              Women's adidas Originals Taekwondo Shoes      D98205   \n",
       "...                                                 ...         ...   \n",
       "3263                                 Air Jordan 8 Retro  CI1236-100   \n",
       "3264                         Nike Phantom Venom Club IC  AO0578-717   \n",
       "3265               Nike Mercurial Superfly 7 Academy TF  AT7978-414   \n",
       "3266                                    Nike Air Max 98  AH6799-300   \n",
       "3267                                     Nike P-6000 SE  CJ9585-600   \n",
       "\n",
       "      Listing Price  Sale Price  Discount                    Brand  \\\n",
       "0             14999        7499        50  Adidas Adidas ORIGINALS   \n",
       "1              7599        3799        50         Adidas ORIGINALS   \n",
       "2               999         599        40        Adidas CORE / NEO   \n",
       "3              6999        3499        50        Adidas CORE / NEO   \n",
       "4              7999        3999        50         Adidas ORIGINALS   \n",
       "...             ...         ...       ...                      ...   \n",
       "3263          15995       12797         0                     Nike   \n",
       "3264           4995        3497         0                     Nike   \n",
       "3265           8495        5947         0                     Nike   \n",
       "3266              0       16995         0                     Nike   \n",
       "3267           8995        6297         0                     Nike   \n",
       "\n",
       "                                            Description  Rating  Reviews  \\\n",
       "0     Channeling the streamlined look of an '80s rac...     4.8       41   \n",
       "1     A modern take on adidas sport heritage, tailor...     3.3       24   \n",
       "2     These adidas Puka slippers for women's come wi...     2.6       37   \n",
       "3     Inspired by modern tech runners, these women's...     4.1       35   \n",
       "4     This design is inspired by vintage Taekwondo s...     3.5       72   \n",
       "...                                                 ...     ...      ...   \n",
       "3263  The Air Jordan 8 Retro recaptures the memorabl...     5.0        1   \n",
       "3264  The Nike Phantom Venom Club IC is engineered f...     0.0        0   \n",
       "3265  The soft upper of the Nike Mercurial Superfly ...     5.0        1   \n",
       "3266  The Nike Air Max 98 features the OG design lin...     4.0        4   \n",
       "3267  A mash-up of Pegasus' past, the Nike P-6000 SE...     0.0        0   \n",
       "\n",
       "             Last Visited  \n",
       "0     2020-04-13T15:06:14  \n",
       "1     2020-04-13T15:06:15  \n",
       "2     2020-04-13T15:06:15  \n",
       "3     2020-04-13T15:06:15  \n",
       "4     2020-04-13T15:06:15  \n",
       "...                   ...  \n",
       "3263  2020-04-13T15:41:01  \n",
       "3264  2020-04-13T15:41:03  \n",
       "3265  2020-04-13T15:41:07  \n",
       "3266  2020-04-13T15:41:19  \n",
       "3267  2020-04-13T15:42:57  \n",
       "\n",
       "[3268 rows x 10 columns]"
      ]
     },
     "execution_count": 2,
     "metadata": {},
     "output_type": "execute_result"
    }
   ],
   "source": [
    "df = pd.read_csv(\"Adidas Vs Nike.csv\")\n",
    "df"
   ]
  },
  {
   "cell_type": "markdown",
   "id": "0d1021a4",
   "metadata": {},
   "source": [
    "### Dữ liệu gồm có bao nhiêu dòng và bao nhiêu cột?"
   ]
  },
  {
   "cell_type": "code",
   "execution_count": 3,
   "id": "8aa71035",
   "metadata": {},
   "outputs": [
    {
     "name": "stdout",
     "output_type": "stream",
     "text": [
      "Số dòng:  3268\n",
      "Số cột:  10\n"
     ]
    }
   ],
   "source": [
    "print('Số dòng: ',df.shape[0])\n",
    "print('Số cột: ',df.shape[1])"
   ]
  },
  {
   "cell_type": "markdown",
   "id": "42f8e16a",
   "metadata": {},
   "source": [
    "### Mỗi dòng có ý nghĩa gì? Có vấn đề các dòng có ý nghĩa khác nhau không?"
   ]
  },
  {
   "cell_type": "markdown",
   "id": "c7ee8e27",
   "metadata": {},
   "source": [
    "Theo quan sát sơ bộ về dữ liệu thì mỗi dòng là thông tin của một sản phẩm. Có vẻ không có dòng nào bị \"lạc loài\"."
   ]
  },
  {
   "cell_type": "markdown",
   "id": "61f5e8a4",
   "metadata": {},
   "source": [
    "### Dữ liệu có các dòng bị lặp không?"
   ]
  },
  {
   "cell_type": "code",
   "execution_count": 4,
   "id": "932e667a",
   "metadata": {},
   "outputs": [
    {
     "name": "stdout",
     "output_type": "stream",
     "text": [
      "Không có dòng nào bị lặp\n"
     ]
    }
   ],
   "source": [
    "num_duplicated_rows = df.duplicated().sum()\n",
    "if num_duplicated_rows == 0:\n",
    "    print('Không có dòng nào bị lặp')\n",
    "else:\n",
    "    print('Có {} dòng bị lặp'.format(num_duplicated_rows))"
   ]
  },
  {
   "cell_type": "markdown",
   "id": "a5eab855",
   "metadata": {},
   "source": [
    "### Mỗi cột có ý nghĩa gì?"
   ]
  },
  {
   "cell_type": "markdown",
   "id": "0a31b7c6",
   "metadata": {},
   "source": [
    "- **Product Name**: Tên sản phẩm.\n",
    "- **Product ID**: Id sản phẩm.\n",
    "- **Listing Price**: Giá niêm yết.\n",
    "- **Sale Price**: Giá bán.\n",
    "- **Discount**: Giảm giá.\n",
    "- **Brand**: Nhãn hiệu.\n",
    "- **Description**: Mô tả.\n",
    "- **Rating**: Đánh giá.\n",
    "- **Reviews**: Số lượt nhận xét\n",
    "- **Last Visited**: Thời điểm ghi nhận dữ liệu."
   ]
  },
  {
   "cell_type": "markdown",
   "id": "a713f68a",
   "metadata": {},
   "source": [
    "### Mỗi cột hiện đang có kiểu dữ liệu gì? Có cột nào có kiểu dữ liệu chưa phù hợp để có thể xử lý tiếp không?"
   ]
  },
  {
   "cell_type": "code",
   "execution_count": 5,
   "id": "f8518575",
   "metadata": {},
   "outputs": [
    {
     "data": {
      "text/plain": [
       "Product Name      object\n",
       "Product ID        object\n",
       "Listing Price      int64\n",
       "Sale Price         int64\n",
       "Discount           int64\n",
       "Brand             object\n",
       "Description       object\n",
       "Rating           float64\n",
       "Reviews            int64\n",
       "Last Visited      object\n",
       "dtype: object"
      ]
     },
     "execution_count": 5,
     "metadata": {},
     "output_type": "execute_result"
    }
   ],
   "source": [
    "df.dtypes"
   ]
  },
  {
   "cell_type": "markdown",
   "id": "809ca2bd",
   "metadata": {},
   "source": [
    "**Cột có dtype là object nghĩa là sao?**"
   ]
  },
  {
   "cell_type": "code",
   "execution_count": 6,
   "id": "5a3f45bc",
   "metadata": {},
   "outputs": [],
   "source": [
    "def open_object_dtype(s):\n",
    "    dtypes = set(s.apply(type))\n",
    "    return dtypes"
   ]
  },
  {
   "cell_type": "code",
   "execution_count": 7,
   "id": "32b0b4e7",
   "metadata": {},
   "outputs": [
    {
     "data": {
      "text/html": [
       "<div>\n",
       "<style scoped>\n",
       "    .dataframe tbody tr th:only-of-type {\n",
       "        vertical-align: middle;\n",
       "    }\n",
       "\n",
       "    .dataframe tbody tr th {\n",
       "        vertical-align: top;\n",
       "    }\n",
       "\n",
       "    .dataframe thead th {\n",
       "        text-align: right;\n",
       "    }\n",
       "</style>\n",
       "<table border=\"1\" class=\"dataframe\">\n",
       "  <thead>\n",
       "    <tr style=\"text-align: right;\">\n",
       "      <th></th>\n",
       "      <th>Column</th>\n",
       "      <th>Type</th>\n",
       "    </tr>\n",
       "  </thead>\n",
       "  <tbody>\n",
       "    <tr>\n",
       "      <th>0</th>\n",
       "      <td>Product Name</td>\n",
       "      <td>{&lt;class 'str'&gt;}</td>\n",
       "    </tr>\n",
       "    <tr>\n",
       "      <th>1</th>\n",
       "      <td>Product ID</td>\n",
       "      <td>{&lt;class 'str'&gt;}</td>\n",
       "    </tr>\n",
       "    <tr>\n",
       "      <th>2</th>\n",
       "      <td>Brand</td>\n",
       "      <td>{&lt;class 'str'&gt;}</td>\n",
       "    </tr>\n",
       "    <tr>\n",
       "      <th>3</th>\n",
       "      <td>Description</td>\n",
       "      <td>{&lt;class 'str'&gt;}</td>\n",
       "    </tr>\n",
       "    <tr>\n",
       "      <th>4</th>\n",
       "      <td>Last Visited</td>\n",
       "      <td>{&lt;class 'str'&gt;}</td>\n",
       "    </tr>\n",
       "  </tbody>\n",
       "</table>\n",
       "</div>"
      ],
      "text/plain": [
       "         Column             Type\n",
       "0  Product Name  {<class 'str'>}\n",
       "1    Product ID  {<class 'str'>}\n",
       "2         Brand  {<class 'str'>}\n",
       "3   Description  {<class 'str'>}\n",
       "4  Last Visited  {<class 'str'>}"
      ]
     },
     "execution_count": 7,
     "metadata": {},
     "output_type": "execute_result"
    }
   ],
   "source": [
    "cate_col_df = df.select_dtypes(include='object').columns\n",
    "type_col = []\n",
    "for col in cate_col_df:\n",
    "    type_col.append(open_object_dtype(df['Product Name']))\n",
    "pd.DataFrame({'Column':cate_col_df, 'Type':type_col})"
   ]
  },
  {
   "cell_type": "markdown",
   "id": "b63888ac",
   "metadata": {},
   "source": [
    "Các cột có vẻ như đã có kiểu dữ liệu hợp lý. Riêng cột Last Visited nên ở dạng datetime. Để có thể tiếp tục khám phá thêm về cột này, ta sẽ thực hiện bước tiền xử lý là chuyển sang dạng `datetime`."
   ]
  },
  {
   "cell_type": "markdown",
   "id": "cedbc5eb",
   "metadata": {},
   "source": [
    "## Tiền xử lý"
   ]
  },
  {
   "cell_type": "markdown",
   "id": "e4a40a20",
   "metadata": {},
   "source": [
    "### Chuyển dtype của cột \"Last Visited\" sang datetime"
   ]
  },
  {
   "cell_type": "code",
   "execution_count": 8,
   "id": "15b0ade9",
   "metadata": {},
   "outputs": [],
   "source": [
    "df['Last Visited'] = pd.to_datetime(df['Last Visited'])"
   ]
  },
  {
   "cell_type": "markdown",
   "id": "52265d81",
   "metadata": {},
   "source": [
    "## Khám phá dữ liệu (tiếp tục)"
   ]
  },
  {
   "cell_type": "markdown",
   "id": "87d09d42",
   "metadata": {},
   "source": [
    "### Với mỗi cột có kiểu dữ liệu dạng numeric, các giá trị được phân bố như thế nào?"
   ]
  },
  {
   "cell_type": "markdown",
   "id": "255cbdac",
   "metadata": {},
   "source": [
    "Hiện có 6 cột có vẻ là thuộc nhóm numeric: 'Listing Price','Sale Price','Discount','Rating','Reviews','Last Visited'\n",
    "Với các cột này, ta sẽ tính:\n",
    "- Tỉ lệ % (từ 0 đến 100) các giá trị thiếu \n",
    "- Giá trị min\n",
    "- Giá trị lower quartile (phân vị 25)\n",
    "- Giá trị median (phân vị 50)\n",
    "- Giá trị upper quartile (phân vị 75)\n",
    "- Giá trị max"
   ]
  },
  {
   "cell_type": "code",
   "execution_count": 9,
   "id": "572d3aa6",
   "metadata": {},
   "outputs": [
    {
     "data": {
      "text/html": [
       "<div>\n",
       "<style scoped>\n",
       "    .dataframe tbody tr th:only-of-type {\n",
       "        vertical-align: middle;\n",
       "    }\n",
       "\n",
       "    .dataframe tbody tr th {\n",
       "        vertical-align: top;\n",
       "    }\n",
       "\n",
       "    .dataframe thead th {\n",
       "        text-align: right;\n",
       "    }\n",
       "</style>\n",
       "<table border=\"1\" class=\"dataframe\">\n",
       "  <thead>\n",
       "    <tr style=\"text-align: right;\">\n",
       "      <th></th>\n",
       "      <th>Listing Price</th>\n",
       "      <th>Sale Price</th>\n",
       "      <th>Discount</th>\n",
       "      <th>Rating</th>\n",
       "      <th>Reviews</th>\n",
       "      <th>Last Visited</th>\n",
       "    </tr>\n",
       "  </thead>\n",
       "  <tbody>\n",
       "    <tr>\n",
       "      <th>missing_ratio</th>\n",
       "      <td>0.0</td>\n",
       "      <td>0.0</td>\n",
       "      <td>0.0</td>\n",
       "      <td>0.0</td>\n",
       "      <td>0.0</td>\n",
       "      <td>0.0</td>\n",
       "    </tr>\n",
       "    <tr>\n",
       "      <th>min</th>\n",
       "      <td>0.0</td>\n",
       "      <td>449.0</td>\n",
       "      <td>0.0</td>\n",
       "      <td>0.0</td>\n",
       "      <td>0.0</td>\n",
       "      <td>2020-04-13 15:06:14</td>\n",
       "    </tr>\n",
       "    <tr>\n",
       "      <th>lower_quartile</th>\n",
       "      <td>4299.0</td>\n",
       "      <td>2999.0</td>\n",
       "      <td>0.0</td>\n",
       "      <td>2.6</td>\n",
       "      <td>10.0</td>\n",
       "      <td>2020-04-13 15:06:47</td>\n",
       "    </tr>\n",
       "    <tr>\n",
       "      <th>median</th>\n",
       "      <td>5999.0</td>\n",
       "      <td>4799.0</td>\n",
       "      <td>40.0</td>\n",
       "      <td>3.5</td>\n",
       "      <td>37.0</td>\n",
       "      <td>2020-04-13 15:07:20</td>\n",
       "    </tr>\n",
       "    <tr>\n",
       "      <th>upper_quartile</th>\n",
       "      <td>8999.0</td>\n",
       "      <td>7995.0</td>\n",
       "      <td>50.0</td>\n",
       "      <td>4.4</td>\n",
       "      <td>68.0</td>\n",
       "      <td>2020-04-13 15:07:53</td>\n",
       "    </tr>\n",
       "    <tr>\n",
       "      <th>max</th>\n",
       "      <td>29999.0</td>\n",
       "      <td>36500.0</td>\n",
       "      <td>60.0</td>\n",
       "      <td>5.0</td>\n",
       "      <td>223.0</td>\n",
       "      <td>2020-04-13 15:42:57</td>\n",
       "    </tr>\n",
       "  </tbody>\n",
       "</table>\n",
       "</div>"
      ],
      "text/plain": [
       "                Listing Price  Sale Price  Discount  Rating  Reviews  \\\n",
       "missing_ratio             0.0         0.0       0.0     0.0      0.0   \n",
       "min                       0.0       449.0       0.0     0.0      0.0   \n",
       "lower_quartile         4299.0      2999.0       0.0     2.6     10.0   \n",
       "median                 5999.0      4799.0      40.0     3.5     37.0   \n",
       "upper_quartile         8999.0      7995.0      50.0     4.4     68.0   \n",
       "max                   29999.0     36500.0      60.0     5.0    223.0   \n",
       "\n",
       "                       Last Visited  \n",
       "missing_ratio                   0.0  \n",
       "min             2020-04-13 15:06:14  \n",
       "lower_quartile  2020-04-13 15:06:47  \n",
       "median          2020-04-13 15:07:20  \n",
       "upper_quartile  2020-04-13 15:07:53  \n",
       "max             2020-04-13 15:42:57  "
      ]
     },
     "execution_count": 9,
     "metadata": {},
     "output_type": "execute_result"
    }
   ],
   "source": [
    "num_col_df = df.select_dtypes(exclude='object').columns\n",
    "num_df = df[num_col_df]\n",
    "#num_df = df[['Listing Price','Sale Price','Discount','Rating','Reviews']]\n",
    "def missing_ratio(s):\n",
    "    return (s.isna().mean() * 100)\n",
    "def median(df):\n",
    "    return df.quantile(0.5)\n",
    "def lower_quartile(df):\n",
    "    return df.quantile(0.25)\n",
    "def upper_quartile(df):\n",
    "    return df.quantile(0.75)\n",
    "num_col_info_df = num_df.agg([missing_ratio, min, lower_quartile, median, upper_quartile, max])\n",
    "num_col_info_df"
   ]
  },
  {
   "cell_type": "markdown",
   "id": "6a4283f3",
   "metadata": {},
   "source": [
    "### Với mỗi cột có kiểu dữ liệu dạng categorical, các giá trị được phân bố như thế nào?"
   ]
  },
  {
   "cell_type": "markdown",
   "id": "bd2d6056",
   "metadata": {},
   "source": [
    "Hiện có 4 cột có vẻ là thuộc nhóm categorical: 'Product Name','Product ID','Brand','Description'. Với các cột này ta sẽ tính:\n",
    "- Tỉ lệ % giá trị thiếu (từ 0 đến 100)\n",
    "- Số lượng giá trị khác nhau\n",
    "- List các giá trị khác nhau"
   ]
  },
  {
   "cell_type": "code",
   "execution_count": 10,
   "id": "18048ef2",
   "metadata": {},
   "outputs": [
    {
     "data": {
      "text/html": [
       "<div>\n",
       "<style scoped>\n",
       "    .dataframe tbody tr th:only-of-type {\n",
       "        vertical-align: middle;\n",
       "    }\n",
       "\n",
       "    .dataframe tbody tr th {\n",
       "        vertical-align: top;\n",
       "    }\n",
       "\n",
       "    .dataframe thead th {\n",
       "        text-align: right;\n",
       "    }\n",
       "</style>\n",
       "<table border=\"1\" class=\"dataframe\">\n",
       "  <thead>\n",
       "    <tr style=\"text-align: right;\">\n",
       "      <th></th>\n",
       "      <th>Product Name</th>\n",
       "      <th>Product ID</th>\n",
       "      <th>Brand</th>\n",
       "      <th>Description</th>\n",
       "    </tr>\n",
       "  </thead>\n",
       "  <tbody>\n",
       "    <tr>\n",
       "      <th>missing_ratio</th>\n",
       "      <td>0.0</td>\n",
       "      <td>0.0</td>\n",
       "      <td>0.0</td>\n",
       "      <td>0.091799</td>\n",
       "    </tr>\n",
       "    <tr>\n",
       "      <th>num_diff_vals</th>\n",
       "      <td>1531</td>\n",
       "      <td>3179</td>\n",
       "      <td>5</td>\n",
       "      <td>1762</td>\n",
       "    </tr>\n",
       "    <tr>\n",
       "      <th>diff_vals</th>\n",
       "      <td>[Women's adidas Originals NMD_Racer Primeknit ...</td>\n",
       "      <td>[AH2430, G27341, CM0081, B44832, D98205, B7558...</td>\n",
       "      <td>[Adidas Adidas ORIGINALS, Adidas ORIGINALS, Ad...</td>\n",
       "      <td>[Channeling the streamlined look of an '80s ra...</td>\n",
       "    </tr>\n",
       "  </tbody>\n",
       "</table>\n",
       "</div>"
      ],
      "text/plain": [
       "                                                    Product Name  \\\n",
       "missing_ratio                                                0.0   \n",
       "num_diff_vals                                               1531   \n",
       "diff_vals      [Women's adidas Originals NMD_Racer Primeknit ...   \n",
       "\n",
       "                                                      Product ID  \\\n",
       "missing_ratio                                                0.0   \n",
       "num_diff_vals                                               3179   \n",
       "diff_vals      [AH2430, G27341, CM0081, B44832, D98205, B7558...   \n",
       "\n",
       "                                                           Brand  \\\n",
       "missing_ratio                                                0.0   \n",
       "num_diff_vals                                                  5   \n",
       "diff_vals      [Adidas Adidas ORIGINALS, Adidas ORIGINALS, Ad...   \n",
       "\n",
       "                                                     Description  \n",
       "missing_ratio                                           0.091799  \n",
       "num_diff_vals                                               1762  \n",
       "diff_vals      [Channeling the streamlined look of an '80s ra...  "
      ]
     },
     "execution_count": 10,
     "metadata": {},
     "output_type": "execute_result"
    }
   ],
   "source": [
    "cate_col_df = df.select_dtypes(include='object').columns\n",
    "cate_df = df[cate_col_df]\n",
    "def missing_ratio(s):\n",
    "    return (s.isna().mean() * 100)\n",
    "def num_diff_vals(s):\n",
    "    return s.nunique()\n",
    "def diff_vals(s):\n",
    "    return s.unique()\n",
    "\n",
    "cate_col_profiles_df = cate_df.agg([missing_ratio, num_diff_vals, diff_vals])\n",
    "#raise NotImplementedError()\n",
    "cate_col_profiles_df"
   ]
  },
  {
   "cell_type": "markdown",
   "id": "f0036089-4a0b-491a-bc60-341277ae4fec",
   "metadata": {},
   "source": [
    "### Vấn đề cần tiền xử lý:\n",
    "* Xóa đi các dòng không có Rating"
   ]
  },
  {
   "cell_type": "code",
   "execution_count": 11,
   "id": "0d6bd6e3-25c6-4a05-a1fb-65df9750939e",
   "metadata": {},
   "outputs": [],
   "source": [
    "df = df[df['Reviews'] != 0]\n",
    "df = df[df['Rating'] >= 1]"
   ]
  },
  {
   "cell_type": "markdown",
   "id": "e8513dda-6a04-4568-88eb-649ea3438f21",
   "metadata": {},
   "source": [
    "## Đưa ra các câu hỏi cần trả lời"
   ]
  },
  {
   "cell_type": "markdown",
   "id": "b7f28395-64a4-456c-a05d-1ec91710dff0",
   "metadata": {},
   "source": [
    "### 1. Với mỗi phân khúc sản phẩm thì Nike hay Adidas được đánh giá cao hơn?"
   ]
  },
  {
   "cell_type": "markdown",
   "id": "fbc5a3b3-f0f4-4ca2-b652-b5654de1d0d8",
   "metadata": {},
   "source": [
    "Một mẫu câu hỏi mà chúng ta thường xuyên thấy trên diễn đàn, forum của các trang MXH là: \"Với số tiền X thì nên mua sản phẩm của hãng nào?\"\n",
    "\n",
    "Do đó sẽ rất có ý nghĩa nếu chúng ta đặt ra câu hỏi rằng ở các phân khúc giá khác nhau thì Nike hay Adidas được đánh giá cao hơn? Để trả lời được câu hỏi này, ta cần thực hiến các bước sau\n",
    "* Đầu tiên, chúng ta tạo thêm 2 cột là `Company` cho biết sản phẩm thuộc công ty nào và `Segmentation` cho biết sản phẩm thuộc phân khúc giá nào. Ở đây có chúng ta sẽ chia ra làm 4 phân khúc như sau `[0,1000)`,  `[1000,10000)`, `[10000,20000)`, `[20000,36500]`\n",
    "* Tiếp theo, với mỗi hãng, ta sẽ thực hiện tính trung bình ratings của từng phân khúc (tiền xử lý cần xóa đi các sản phẩm không có review)"
   ]
  },
  {
   "cell_type": "markdown",
   "id": "93f96f62-4cf9-4e8f-8dd5-14c070144c3b",
   "metadata": {},
   "source": [
    "#### Đầu tiên là tạo ra một cột chứa tên công ty của sản phẩm"
   ]
  },
  {
   "cell_type": "code",
   "execution_count": 12,
   "id": "aad6fcb2-165c-4c54-a170-edb93da9dabb",
   "metadata": {
    "tags": []
   },
   "outputs": [],
   "source": [
    "companys_df = df.copy()\n",
    "def f(values):\n",
    "    if 'Adidas' in values['Brand']:\n",
    "        return 'Adidas'\n",
    "    return 'Nike'\n",
    "companys_df['Company'] = companys_df.apply(f, axis = 1)"
   ]
  },
  {
   "cell_type": "markdown",
   "id": "399fd0bd-b08b-4778-8116-d47c06f7b158",
   "metadata": {},
   "source": [
    "#### Tiếp theo là chia số sản phẩm theo phân khúc, sau đó tính trung bình review của các phân khúc đó."
   ]
  },
  {
   "cell_type": "code",
   "execution_count": 39,
   "id": "d2541050-7d88-426f-b59b-461ffcfec0c4",
   "metadata": {},
   "outputs": [],
   "source": [
    "segm1 = range(0,1875)\n",
    "segm2 = range(1875,3750)\n",
    "segm3 = range(3750,7500)\n",
    "segm4 = range(7500,15000)\n",
    "segm5 = range(10000,companys_df['Sale Price'].max())\n",
    "def segmentation(value_of):\n",
    "    if value_of['Sale Price'] in segm1:\n",
    "        return 1\n",
    "    if value_of['Sale Price'] in segm2:\n",
    "        return 2\n",
    "    if value_of['Sale Price'] in segm3:\n",
    "        return 3\n",
    "    if value_of['Sale Price'] in segm4:\n",
    "        return 4\n",
    "    return 5\n",
    "companys_df['Segmentation'] = companys_df.apply(segmentation, axis = 1)"
   ]
  },
  {
   "cell_type": "markdown",
   "id": "17a0da82-a4a9-4b73-8009-f2d60da4cc8f",
   "metadata": {},
   "source": [
    "Chia các giá trị của Company thành các cột riêng"
   ]
  },
  {
   "cell_type": "code",
   "execution_count": 40,
   "id": "786b8e76-9955-4b8c-8b44-2594afbe3964",
   "metadata": {},
   "outputs": [
    {
     "data": {
      "text/html": [
       "<div>\n",
       "<style scoped>\n",
       "    .dataframe tbody tr th:only-of-type {\n",
       "        vertical-align: middle;\n",
       "    }\n",
       "\n",
       "    .dataframe tbody tr th {\n",
       "        vertical-align: top;\n",
       "    }\n",
       "\n",
       "    .dataframe thead th {\n",
       "        text-align: right;\n",
       "    }\n",
       "</style>\n",
       "<table border=\"1\" class=\"dataframe\">\n",
       "  <thead>\n",
       "    <tr style=\"text-align: right;\">\n",
       "      <th></th>\n",
       "      <th>Company</th>\n",
       "      <th>Segmentation</th>\n",
       "      <th>Rating</th>\n",
       "    </tr>\n",
       "  </thead>\n",
       "  <tbody>\n",
       "    <tr>\n",
       "      <th>0</th>\n",
       "      <td>Adidas</td>\n",
       "      <td>1</td>\n",
       "      <td>3.415584</td>\n",
       "    </tr>\n",
       "    <tr>\n",
       "      <th>1</th>\n",
       "      <td>Adidas</td>\n",
       "      <td>2</td>\n",
       "      <td>3.468935</td>\n",
       "    </tr>\n",
       "    <tr>\n",
       "      <th>2</th>\n",
       "      <td>Adidas</td>\n",
       "      <td>3</td>\n",
       "      <td>3.422177</td>\n",
       "    </tr>\n",
       "    <tr>\n",
       "      <th>3</th>\n",
       "      <td>Adidas</td>\n",
       "      <td>4</td>\n",
       "      <td>3.557044</td>\n",
       "    </tr>\n",
       "    <tr>\n",
       "      <th>4</th>\n",
       "      <td>Adidas</td>\n",
       "      <td>5</td>\n",
       "      <td>3.515094</td>\n",
       "    </tr>\n",
       "    <tr>\n",
       "      <th>5</th>\n",
       "      <td>Nike</td>\n",
       "      <td>1</td>\n",
       "      <td>4.150000</td>\n",
       "    </tr>\n",
       "    <tr>\n",
       "      <th>6</th>\n",
       "      <td>Nike</td>\n",
       "      <td>2</td>\n",
       "      <td>3.600000</td>\n",
       "    </tr>\n",
       "    <tr>\n",
       "      <th>7</th>\n",
       "      <td>Nike</td>\n",
       "      <td>3</td>\n",
       "      <td>4.127551</td>\n",
       "    </tr>\n",
       "    <tr>\n",
       "      <th>8</th>\n",
       "      <td>Nike</td>\n",
       "      <td>4</td>\n",
       "      <td>4.341803</td>\n",
       "    </tr>\n",
       "    <tr>\n",
       "      <th>9</th>\n",
       "      <td>Nike</td>\n",
       "      <td>5</td>\n",
       "      <td>4.191379</td>\n",
       "    </tr>\n",
       "  </tbody>\n",
       "</table>\n",
       "</div>"
      ],
      "text/plain": [
       "  Company  Segmentation    Rating\n",
       "0  Adidas             1  3.415584\n",
       "1  Adidas             2  3.468935\n",
       "2  Adidas             3  3.422177\n",
       "3  Adidas             4  3.557044\n",
       "4  Adidas             5  3.515094\n",
       "5    Nike             1  4.150000\n",
       "6    Nike             2  3.600000\n",
       "7    Nike             3  4.127551\n",
       "8    Nike             4  4.341803\n",
       "9    Nike             5  4.191379"
      ]
     },
     "execution_count": 40,
     "metadata": {},
     "output_type": "execute_result"
    }
   ],
   "source": [
    "tmpdf = companys_df[['Company','Segmentation', 'Rating']]\n",
    "\n",
    "comp_seg_rating = tmpdf.groupby(['Company','Segmentation'], as_index = False).mean()\n",
    "\n",
    "comp_seg_rating"
   ]
  },
  {
   "cell_type": "code",
   "execution_count": 41,
   "id": "61089590-21f5-452b-9f05-b139ac3b6a93",
   "metadata": {},
   "outputs": [
    {
     "data": {
      "text/html": [
       "<div>\n",
       "<style scoped>\n",
       "    .dataframe tbody tr th:only-of-type {\n",
       "        vertical-align: middle;\n",
       "    }\n",
       "\n",
       "    .dataframe tbody tr th {\n",
       "        vertical-align: top;\n",
       "    }\n",
       "\n",
       "    .dataframe thead th {\n",
       "        text-align: right;\n",
       "    }\n",
       "</style>\n",
       "<table border=\"1\" class=\"dataframe\">\n",
       "  <thead>\n",
       "    <tr style=\"text-align: right;\">\n",
       "      <th>Company</th>\n",
       "      <th>Adidas</th>\n",
       "      <th>Nike</th>\n",
       "    </tr>\n",
       "    <tr>\n",
       "      <th>Segmentation</th>\n",
       "      <th></th>\n",
       "      <th></th>\n",
       "    </tr>\n",
       "  </thead>\n",
       "  <tbody>\n",
       "    <tr>\n",
       "      <th>1</th>\n",
       "      <td>3.415584</td>\n",
       "      <td>4.150000</td>\n",
       "    </tr>\n",
       "    <tr>\n",
       "      <th>2</th>\n",
       "      <td>3.468935</td>\n",
       "      <td>3.600000</td>\n",
       "    </tr>\n",
       "    <tr>\n",
       "      <th>3</th>\n",
       "      <td>3.422177</td>\n",
       "      <td>4.127551</td>\n",
       "    </tr>\n",
       "    <tr>\n",
       "      <th>4</th>\n",
       "      <td>3.557044</td>\n",
       "      <td>4.341803</td>\n",
       "    </tr>\n",
       "    <tr>\n",
       "      <th>5</th>\n",
       "      <td>3.515094</td>\n",
       "      <td>4.191379</td>\n",
       "    </tr>\n",
       "  </tbody>\n",
       "</table>\n",
       "</div>"
      ],
      "text/plain": [
       "Company         Adidas      Nike\n",
       "Segmentation                    \n",
       "1             3.415584  4.150000\n",
       "2             3.468935  3.600000\n",
       "3             3.422177  4.127551\n",
       "4             3.557044  4.341803\n",
       "5             3.515094  4.191379"
      ]
     },
     "execution_count": 41,
     "metadata": {},
     "output_type": "execute_result"
    }
   ],
   "source": [
    "comp_seg_rating =comp_seg_rating.set_index(['Company','Segmentation']).unstack(level = 0)\n",
    "comp_seg_rating.columns = comp_seg_rating.columns.droplevel()\n",
    "comp_seg_rating"
   ]
  },
  {
   "cell_type": "markdown",
   "id": "2cc78469-e864-48ec-8f38-289786e3f88c",
   "metadata": {},
   "source": [
    "#### Visualize để xem với từng phấn khúc, sản phẩm của Nike hay Adidas được yêu thích hơn?"
   ]
  },
  {
   "cell_type": "code",
   "execution_count": 47,
   "id": "a5c4405f-4d7c-4b35-948f-48d93fc3b215",
   "metadata": {},
   "outputs": [
    {
     "data": {
      "image/png": "[encoded data removed]",
      "text/plain": [
       "<Figure size 432x288 with 1 Axes>"
      ]
     },
     "metadata": {
      "needs_background": "light"
     },
     "output_type": "display_data"
    }
   ],
   "source": [
    "myplot = comp_seg_rating.plot(kind = 'line', use_index = True, marker = 'o',\\\n",
    "        xlabel = 'Segmentation', ylabel = 'Rating');\n",
    "# myplot.set_ylim(1,5);"
   ]
  },
  {
   "cell_type": "markdown",
   "id": "511a808b-7dee-4df4-89a1-f5c37d397fe2",
   "metadata": {},
   "source": [
    "### 2. Có một câu hỏi rất phố biến là với số tiền X thì tôi nên mua sản phẩm nào?\n",
    "Hướng làm sẽ là tìm được khoảng tiền chứa số X đó. Sau đó thực hiện visualize trên khoảng đó."
   ]
  },
  {
   "cell_type": "markdown",
   "id": "99fd532c-b7ac-4528-8c78-869c76366768",
   "metadata": {
    "tags": []
   },
   "source": [
    "Ta sẽ mặc định số tiền ở đây là X = 2000. Tiếp theo đó tạo một khoảng giá trị xung quanh X"
   ]
  },
  {
   "cell_type": "code",
   "execution_count": 17,
   "id": "39ac243f-c4fe-40b1-b965-4ced6d17b505",
   "metadata": {
    "tags": []
   },
   "outputs": [],
   "source": [
    "X = 2000\n",
    "max_sale_price = df['Sale Price'].max()"
   ]
  },
  {
   "cell_type": "code",
   "execution_count": 18,
   "id": "d801c325-b47c-431d-baf3-48f5aa22f14a",
   "metadata": {
    "tags": []
   },
   "outputs": [
    {
     "data": {
      "text/plain": [
       "range(1500, 2500)"
      ]
     },
     "execution_count": 18,
     "metadata": {},
     "output_type": "execute_result"
    }
   ],
   "source": [
    "low = int(X - X*1/4)\n",
    "high = int(X + X*1/4)\n",
    "if low < 0: low = 0\n",
    "if high > max_sale_price: high = max_sale_price\n",
    "budget_range = range(low, high)\n",
    "budget_range"
   ]
  },
  {
   "cell_type": "markdown",
   "id": "47c8797c-35e2-48f1-9095-170a155d87c4",
   "metadata": {},
   "source": [
    "Sau khi có range tiền, ta chỉ chọn những sản phẩm thuộc range tiền tương ứng như sau "
   ]
  },
  {
   "cell_type": "code",
   "execution_count": 19,
   "id": "56d9ba2d-3cb9-45d1-9939-7fe7b970c01d",
   "metadata": {},
   "outputs": [],
   "source": [
    "suitable_df = df[df['Sale Price'].between(low, high)]"
   ]
  },
  {
   "cell_type": "markdown",
   "id": "67ea56f4-36ee-4666-8613-897e9f791d3d",
   "metadata": {},
   "source": [
    "Tuy nhiên, ta cũng cần phải xóa đi các dòng có `Reviews = 0` và `Rating < 1`. Bởi vì số lượng `reviews = 0` thì xem như không có review. Còn `rating` chỉ nằm trong khoảng `[1-5]` thôi."
   ]
  },
  {
   "cell_type": "code",
   "execution_count": 20,
   "id": "89f6af1f-2189-48df-b50f-2be861596b12",
   "metadata": {},
   "outputs": [],
   "source": [
    "suitable_df = suitable_df[suitable_df['Reviews'] != 0]\n",
    "suitable_df = suitable_df[suitable_df['Rating'] >= 1]"
   ]
  },
  {
   "cell_type": "code",
   "execution_count": 21,
   "id": "d1a7b149-e2b0-4807-a5fa-73d406d533b3",
   "metadata": {},
   "outputs": [
    {
     "data": {
      "text/html": [
       "<div>\n",
       "<style scoped>\n",
       "    .dataframe tbody tr th:only-of-type {\n",
       "        vertical-align: middle;\n",
       "    }\n",
       "\n",
       "    .dataframe tbody tr th {\n",
       "        vertical-align: top;\n",
       "    }\n",
       "\n",
       "    .dataframe thead th {\n",
       "        text-align: right;\n",
       "    }\n",
       "</style>\n",
       "<table border=\"1\" class=\"dataframe\">\n",
       "  <thead>\n",
       "    <tr style=\"text-align: right;\">\n",
       "      <th></th>\n",
       "      <th>Product Name</th>\n",
       "      <th>Product ID</th>\n",
       "      <th>Listing Price</th>\n",
       "      <th>Sale Price</th>\n",
       "      <th>Discount</th>\n",
       "      <th>Brand</th>\n",
       "      <th>Description</th>\n",
       "      <th>Rating</th>\n",
       "      <th>Reviews</th>\n",
       "      <th>Last Visited</th>\n",
       "    </tr>\n",
       "  </thead>\n",
       "  <tbody>\n",
       "    <tr>\n",
       "      <th>0</th>\n",
       "      <td>Women's adidas Sport Inspired Duramo Lite 2.0 ...</td>\n",
       "      <td>B75586</td>\n",
       "      <td>4799</td>\n",
       "      <td>1920</td>\n",
       "      <td>60</td>\n",
       "      <td>Adidas CORE / NEO</td>\n",
       "      <td>Refine your interval training in these women's...</td>\n",
       "      <td>1.0</td>\n",
       "      <td>45</td>\n",
       "      <td>2020-04-13 15:06:15</td>\n",
       "    </tr>\n",
       "    <tr>\n",
       "      <th>1</th>\n",
       "      <td>Women's adidas Sport Inspired Duramo Lite 2.0 ...</td>\n",
       "      <td>CG4051</td>\n",
       "      <td>4799</td>\n",
       "      <td>2399</td>\n",
       "      <td>50</td>\n",
       "      <td>Adidas CORE / NEO</td>\n",
       "      <td>Refine your interval training in these women's...</td>\n",
       "      <td>4.4</td>\n",
       "      <td>2</td>\n",
       "      <td>2020-04-13 15:06:15</td>\n",
       "    </tr>\n",
       "    <tr>\n",
       "      <th>2</th>\n",
       "      <td>Women's adidas Sport Inspired Storm Runner Shoes</td>\n",
       "      <td>CL7417</td>\n",
       "      <td>4599</td>\n",
       "      <td>2299</td>\n",
       "      <td>50</td>\n",
       "      <td>Adidas CORE / NEO</td>\n",
       "      <td>A fast, lightweight adidas stormrunner shoes f...</td>\n",
       "      <td>1.0</td>\n",
       "      <td>16</td>\n",
       "      <td>2020-04-13 15:06:16</td>\n",
       "    </tr>\n",
       "    <tr>\n",
       "      <th>3</th>\n",
       "      <td>Women's adidas Sport Inspired Quickspike Shoes</td>\n",
       "      <td>CL7408</td>\n",
       "      <td>3999</td>\n",
       "      <td>1999</td>\n",
       "      <td>50</td>\n",
       "      <td>Adidas CORE / NEO</td>\n",
       "      <td>These women's running-inspired shoes feature a...</td>\n",
       "      <td>3.1</td>\n",
       "      <td>8</td>\n",
       "      <td>2020-04-13 15:06:16</td>\n",
       "    </tr>\n",
       "    <tr>\n",
       "      <th>4</th>\n",
       "      <td>WOMEN'S ADIDAS SWIM CLOUDFOAM FLIP FLOPS</td>\n",
       "      <td>B43601</td>\n",
       "      <td>3299</td>\n",
       "      <td>1649</td>\n",
       "      <td>50</td>\n",
       "      <td>Adidas CORE / NEO</td>\n",
       "      <td>A minimalist design with maximum post-workout ...</td>\n",
       "      <td>2.7</td>\n",
       "      <td>62</td>\n",
       "      <td>2020-04-13 15:06:16</td>\n",
       "    </tr>\n",
       "    <tr>\n",
       "      <th>...</th>\n",
       "      <td>...</td>\n",
       "      <td>...</td>\n",
       "      <td>...</td>\n",
       "      <td>...</td>\n",
       "      <td>...</td>\n",
       "      <td>...</td>\n",
       "      <td>...</td>\n",
       "      <td>...</td>\n",
       "      <td>...</td>\n",
       "      <td>...</td>\n",
       "    </tr>\n",
       "    <tr>\n",
       "      <th>421</th>\n",
       "      <td>Nike Kawa Shower</td>\n",
       "      <td>832528-001</td>\n",
       "      <td>0</td>\n",
       "      <td>1595</td>\n",
       "      <td>0</td>\n",
       "      <td>Nike</td>\n",
       "      <td>The Nike Kawa Shower Men's Slide is designed t...</td>\n",
       "      <td>4.5</td>\n",
       "      <td>6</td>\n",
       "      <td>2020-04-13 15:30:14</td>\n",
       "    </tr>\n",
       "    <tr>\n",
       "      <th>422</th>\n",
       "      <td>Nike Benassi</td>\n",
       "      <td>343881-412</td>\n",
       "      <td>0</td>\n",
       "      <td>2495</td>\n",
       "      <td>0</td>\n",
       "      <td>Nike</td>\n",
       "      <td>The Nike Benassi Women's Slide features a line...</td>\n",
       "      <td>4.3</td>\n",
       "      <td>12</td>\n",
       "      <td>2020-04-13 15:30:42</td>\n",
       "    </tr>\n",
       "    <tr>\n",
       "      <th>423</th>\n",
       "      <td>Nike Solarsoft</td>\n",
       "      <td>488161-602</td>\n",
       "      <td>0</td>\n",
       "      <td>1595</td>\n",
       "      <td>0</td>\n",
       "      <td>Nike</td>\n",
       "      <td>Made with soft, pliable foam infused with groo...</td>\n",
       "      <td>3.8</td>\n",
       "      <td>5</td>\n",
       "      <td>2020-04-13 15:32:31</td>\n",
       "    </tr>\n",
       "    <tr>\n",
       "      <th>424</th>\n",
       "      <td>Nike Benassi</td>\n",
       "      <td>343880-090</td>\n",
       "      <td>0</td>\n",
       "      <td>2495</td>\n",
       "      <td>0</td>\n",
       "      <td>Nike</td>\n",
       "      <td>The Nike Benassi Slide features a lined upper ...</td>\n",
       "      <td>4.1</td>\n",
       "      <td>33</td>\n",
       "      <td>2020-04-13 15:34:20</td>\n",
       "    </tr>\n",
       "    <tr>\n",
       "      <th>425</th>\n",
       "      <td>Nike Benassi JDI Floral</td>\n",
       "      <td>618919-031</td>\n",
       "      <td>2995</td>\n",
       "      <td>2397</td>\n",
       "      <td>0</td>\n",
       "      <td>Nike</td>\n",
       "      <td>The Nike Benassi JDI Floral Women's Slide is d...</td>\n",
       "      <td>4.1</td>\n",
       "      <td>8</td>\n",
       "      <td>2020-04-13 15:34:46</td>\n",
       "    </tr>\n",
       "  </tbody>\n",
       "</table>\n",
       "<p>426 rows × 10 columns</p>\n",
       "</div>"
      ],
      "text/plain": [
       "                                          Product Name  Product ID  \\\n",
       "0    Women's adidas Sport Inspired Duramo Lite 2.0 ...      B75586   \n",
       "1    Women's adidas Sport Inspired Duramo Lite 2.0 ...      CG4051   \n",
       "2     Women's adidas Sport Inspired Storm Runner Shoes      CL7417   \n",
       "3       Women's adidas Sport Inspired Quickspike Shoes      CL7408   \n",
       "4             WOMEN'S ADIDAS SWIM CLOUDFOAM FLIP FLOPS      B43601   \n",
       "..                                                 ...         ...   \n",
       "421                                   Nike Kawa Shower  832528-001   \n",
       "422                                       Nike Benassi  343881-412   \n",
       "423                                     Nike Solarsoft  488161-602   \n",
       "424                                       Nike Benassi  343880-090   \n",
       "425                            Nike Benassi JDI Floral  618919-031   \n",
       "\n",
       "     Listing Price  Sale Price  Discount              Brand  \\\n",
       "0             4799        1920        60  Adidas CORE / NEO   \n",
       "1             4799        2399        50  Adidas CORE / NEO   \n",
       "2             4599        2299        50  Adidas CORE / NEO   \n",
       "3             3999        1999        50  Adidas CORE / NEO   \n",
       "4             3299        1649        50  Adidas CORE / NEO   \n",
       "..             ...         ...       ...                ...   \n",
       "421              0        1595         0               Nike   \n",
       "422              0        2495         0               Nike   \n",
       "423              0        1595         0               Nike   \n",
       "424              0        2495         0               Nike   \n",
       "425           2995        2397         0               Nike   \n",
       "\n",
       "                                           Description  Rating  Reviews  \\\n",
       "0    Refine your interval training in these women's...     1.0       45   \n",
       "1    Refine your interval training in these women's...     4.4        2   \n",
       "2    A fast, lightweight adidas stormrunner shoes f...     1.0       16   \n",
       "3    These women's running-inspired shoes feature a...     3.1        8   \n",
       "4    A minimalist design with maximum post-workout ...     2.7       62   \n",
       "..                                                 ...     ...      ...   \n",
       "421  The Nike Kawa Shower Men's Slide is designed t...     4.5        6   \n",
       "422  The Nike Benassi Women's Slide features a line...     4.3       12   \n",
       "423  Made with soft, pliable foam infused with groo...     3.8        5   \n",
       "424  The Nike Benassi Slide features a lined upper ...     4.1       33   \n",
       "425  The Nike Benassi JDI Floral Women's Slide is d...     4.1        8   \n",
       "\n",
       "           Last Visited  \n",
       "0   2020-04-13 15:06:15  \n",
       "1   2020-04-13 15:06:15  \n",
       "2   2020-04-13 15:06:16  \n",
       "3   2020-04-13 15:06:16  \n",
       "4   2020-04-13 15:06:16  \n",
       "..                  ...  \n",
       "421 2020-04-13 15:30:14  \n",
       "422 2020-04-13 15:30:42  \n",
       "423 2020-04-13 15:32:31  \n",
       "424 2020-04-13 15:34:20  \n",
       "425 2020-04-13 15:34:46  \n",
       "\n",
       "[426 rows x 10 columns]"
      ]
     },
     "execution_count": 21,
     "metadata": {},
     "output_type": "execute_result"
    }
   ],
   "source": [
    "# Chuẩn hóa lại index\n",
    "suitable_df.reset_index(inplace = True, drop = True)\n",
    "suitable_df"
   ]
  },
  {
   "cell_type": "markdown",
   "id": "663b9ce1-22e9-4055-af56-ac1bbd054948",
   "metadata": {},
   "source": [
    "Tạo cột `mean_ratings` được tính theo trọng số là `reviews`"
   ]
  },
  {
   "cell_type": "code",
   "execution_count": 22,
   "id": "476efd72-ef7a-45a3-bdd9-f765e1e72c2d",
   "metadata": {},
   "outputs": [],
   "source": [
    "#suitable_df['Sum Rating'] = suitable_df['Rating']\n",
    "suitable_df['Sum Rating'] = suitable_df['Rating'] * suitable_df['Reviews']\n",
    "suitable_df['Sum Reviews'] = suitable_df['Reviews']\n",
    "\n",
    "suitable_df = suitable_df.groupby('Product Name', as_index = False).sum('Sum Rating',' Sum Reviews')\n",
    "suitable_df['Mean Rating'] = suitable_df['Sum Rating']/suitable_df['Sum Reviews']"
   ]
  },
  {
   "cell_type": "markdown",
   "id": "5c1077e2-de67-43b9-8027-d7701b66bd15",
   "metadata": {},
   "source": [
    "Xuất ra các tên có `mean_rating` cao nhất"
   ]
  },
  {
   "cell_type": "code",
   "execution_count": 23,
   "id": "f86f45d4-3f91-4af1-b863-d709c7243431",
   "metadata": {},
   "outputs": [
    {
     "data": {
      "text/plain": [
       "35                   Men's Running Adispree 5.0 Shoes\n",
       "54               Men's adidas Outdoor Spry II Sandals\n",
       "117    Men's adidas Sport Inspired VL Court 2.0 Shoes\n",
       "191                   men's ADIDAS RUNNING TYLO SHOES\n",
       "Name: Product Name, dtype: object"
      ]
     },
     "execution_count": 23,
     "metadata": {},
     "output_type": "execute_result"
    }
   ],
   "source": [
    "desired_name_list = suitable_df[suitable_df['Mean Rating'] == suitable_df['Mean Rating'].max()]['Product Name']\n",
    "desired_name_list"
   ]
  },
  {
   "cell_type": "code",
   "execution_count": 24,
   "id": "5452e410-18e5-42ea-8932-782f05decc1f",
   "metadata": {},
   "outputs": [],
   "source": [
    "desired_df = df[df['Sale Price'].between(low, high)]"
   ]
  },
  {
   "cell_type": "markdown",
   "id": "a803373f-887a-493f-b6ce-cfa226fd1e68",
   "metadata": {},
   "source": [
    "Tìm các sản phẩm có tên tưong ứng"
   ]
  },
  {
   "cell_type": "code",
   "execution_count": 25,
   "id": "36986509-89cd-48ba-a86f-1a922235cdb7",
   "metadata": {},
   "outputs": [
    {
     "data": {
      "text/html": [
       "<div>\n",
       "<style scoped>\n",
       "    .dataframe tbody tr th:only-of-type {\n",
       "        vertical-align: middle;\n",
       "    }\n",
       "\n",
       "    .dataframe tbody tr th {\n",
       "        vertical-align: top;\n",
       "    }\n",
       "\n",
       "    .dataframe thead th {\n",
       "        text-align: right;\n",
       "    }\n",
       "</style>\n",
       "<table border=\"1\" class=\"dataframe\">\n",
       "  <thead>\n",
       "    <tr style=\"text-align: right;\">\n",
       "      <th></th>\n",
       "      <th>Product Name</th>\n",
       "      <th>Product ID</th>\n",
       "      <th>Listing Price</th>\n",
       "      <th>Sale Price</th>\n",
       "      <th>Discount</th>\n",
       "      <th>Brand</th>\n",
       "      <th>Description</th>\n",
       "      <th>Rating</th>\n",
       "      <th>Reviews</th>\n",
       "      <th>Last Visited</th>\n",
       "    </tr>\n",
       "  </thead>\n",
       "  <tbody>\n",
       "    <tr>\n",
       "      <th>0</th>\n",
       "      <td>Men's Running Adispree 5.0 Shoes</td>\n",
       "      <td>CK9528</td>\n",
       "      <td>3799</td>\n",
       "      <td>1899</td>\n",
       "      <td>50</td>\n",
       "      <td>Adidas CORE / NEO</td>\n",
       "      <td>The sleek looking adidas Adispree 5.0 running ...</td>\n",
       "      <td>5.0</td>\n",
       "      <td>65</td>\n",
       "      <td>2020-04-13 15:06:39</td>\n",
       "    </tr>\n",
       "    <tr>\n",
       "      <th>1</th>\n",
       "      <td>Men's adidas Outdoor Spry II Sandals</td>\n",
       "      <td>CL9916</td>\n",
       "      <td>2799</td>\n",
       "      <td>1679</td>\n",
       "      <td>40</td>\n",
       "      <td>Adidas SPORT PERFORMANCE</td>\n",
       "      <td>Stylish and sleek adidas Spry II sandals for m...</td>\n",
       "      <td>5.0</td>\n",
       "      <td>71</td>\n",
       "      <td>2020-04-13 15:06:43</td>\n",
       "    </tr>\n",
       "    <tr>\n",
       "      <th>2</th>\n",
       "      <td>men's ADIDAS RUNNING TYLO SHOES</td>\n",
       "      <td>CI9935</td>\n",
       "      <td>5599</td>\n",
       "      <td>2240</td>\n",
       "      <td>60</td>\n",
       "      <td>Adidas CORE / NEO</td>\n",
       "      <td>Iconic look and superior performance makes it ...</td>\n",
       "      <td>5.0</td>\n",
       "      <td>1</td>\n",
       "      <td>2020-04-13 15:07:01</td>\n",
       "    </tr>\n",
       "    <tr>\n",
       "      <th>3</th>\n",
       "      <td>Men's adidas Sport Inspired VL Court 2.0 Shoes</td>\n",
       "      <td>DA9868</td>\n",
       "      <td>4999</td>\n",
       "      <td>2499</td>\n",
       "      <td>50</td>\n",
       "      <td>Adidas CORE / NEO</td>\n",
       "      <td>Tennis-inspired style with a modern look. Thes...</td>\n",
       "      <td>5.0</td>\n",
       "      <td>33</td>\n",
       "      <td>2020-04-13 15:07:13</td>\n",
       "    </tr>\n",
       "  </tbody>\n",
       "</table>\n",
       "</div>"
      ],
      "text/plain": [
       "                                     Product Name Product ID  Listing Price  \\\n",
       "0                Men's Running Adispree 5.0 Shoes     CK9528           3799   \n",
       "1            Men's adidas Outdoor Spry II Sandals     CL9916           2799   \n",
       "2                 men's ADIDAS RUNNING TYLO SHOES     CI9935           5599   \n",
       "3  Men's adidas Sport Inspired VL Court 2.0 Shoes     DA9868           4999   \n",
       "\n",
       "   Sale Price  Discount                     Brand  \\\n",
       "0        1899        50         Adidas CORE / NEO   \n",
       "1        1679        40  Adidas SPORT PERFORMANCE   \n",
       "2        2240        60         Adidas CORE / NEO   \n",
       "3        2499        50         Adidas CORE / NEO   \n",
       "\n",
       "                                         Description  Rating  Reviews  \\\n",
       "0  The sleek looking adidas Adispree 5.0 running ...     5.0       65   \n",
       "1  Stylish and sleek adidas Spry II sandals for m...     5.0       71   \n",
       "2  Iconic look and superior performance makes it ...     5.0        1   \n",
       "3  Tennis-inspired style with a modern look. Thes...     5.0       33   \n",
       "\n",
       "         Last Visited  \n",
       "0 2020-04-13 15:06:39  \n",
       "1 2020-04-13 15:06:43  \n",
       "2 2020-04-13 15:07:01  \n",
       "3 2020-04-13 15:07:13  "
      ]
     },
     "execution_count": 25,
     "metadata": {},
     "output_type": "execute_result"
    }
   ],
   "source": [
    "desired_list = desired_df[desired_df['Product Name'].isin(desired_name_list)].reset_index().drop('index', axis =1)\n",
    "desired_list"
   ]
  },
  {
   "cell_type": "markdown",
   "id": "08b8d9ad-b92d-4d74-a625-e2fda5abeeb7",
   "metadata": {},
   "source": [
    "### 3. So sánh và biểu diễn số lựong sản phẩm trong mỗi phân khúc của Nike và Adidas"
   ]
  },
  {
   "cell_type": "markdown",
   "id": "92fda5e2-e98c-44a5-945b-aaf4085c14cb",
   "metadata": {},
   "source": [
    "#### Đầu tiên là tạo ra một cột chứa tên công ty của sản phẩm"
   ]
  },
  {
   "cell_type": "code",
   "execution_count": 121,
   "id": "4f08e59c-77fd-4fd4-a296-12b5c1722fb7",
   "metadata": {},
   "outputs": [],
   "source": [
    "companys_df = df.copy()\n",
    "def f(values):\n",
    "    if 'Adidas' in values['Brand']:\n",
    "        return 'Adidas'\n",
    "    return 'Nike'\n",
    "companys_df['Company'] = companys_df.apply(f, axis = 1)"
   ]
  },
  {
   "cell_type": "markdown",
   "id": "1208436e-039b-4374-a355-52c8963431fc",
   "metadata": {},
   "source": [
    "#### Tiếp theo là chia số sản phẩm theo phân khúc, sau đó tính trung bình review của các phân khúc đó."
   ]
  },
  {
   "cell_type": "code",
   "execution_count": 122,
   "id": "514a308d-0829-441a-9123-c9640b7ef6a5",
   "metadata": {},
   "outputs": [],
   "source": [
    "segm1 = range(0,1875)\n",
    "segm2 = range(1875,3750)\n",
    "segm3 = range(3750,7500)\n",
    "segm4 = range(7500,15000)\n",
    "segm5 = range(10000,companys_df['Sale Price'].max())\n",
    "def segmentation(value_of):\n",
    "    if value_of['Sale Price'] in segm1:\n",
    "        return 1\n",
    "    if value_of['Sale Price'] in segm2:\n",
    "        return 2\n",
    "    if value_of['Sale Price'] in segm3:\n",
    "        return 3\n",
    "    if value_of['Sale Price'] in segm4:\n",
    "        return 4\n",
    "    return 5\n",
    "companys_df['Segmentation'] = companys_df.apply(segmentation, axis = 1)"
   ]
  },
  {
   "cell_type": "code",
   "execution_count": 118,
   "id": "0023d72b-a522-41ea-ba60-7376342f14fb",
   "metadata": {},
   "outputs": [
    {
     "name": "stderr",
     "output_type": "stream",
     "text": [
      "<ipython-input-118-3cc480595b27>:2: SettingWithCopyWarning: \n",
      "A value is trying to be set on a copy of a slice from a DataFrame.\n",
      "Try using .loc[row_indexer,col_indexer] = value instead\n",
      "\n",
      "See the caveats in the documentation: https://pandas.pydata.org/pandas-docs/stable/user_guide/indexing.html#returning-a-view-versus-a-copy\n",
      "  tmp['Count'] = 0\n"
     ]
    }
   ],
   "source": [
    "tmp = companys_df[['Company','Segmentation']]\n",
    "tmp['Count'] = 0\n",
    "tmp = tmp.groupby(['Company','Segmentation'], as_index = False)['Count'].count()"
   ]
  },
  {
   "cell_type": "code",
   "execution_count": 119,
   "id": "52de135d-c1ed-48ff-affd-8853f92271f9",
   "metadata": {},
   "outputs": [
    {
     "data": {
      "text/html": [
       "<div>\n",
       "<style scoped>\n",
       "    .dataframe tbody tr th:only-of-type {\n",
       "        vertical-align: middle;\n",
       "    }\n",
       "\n",
       "    .dataframe tbody tr th {\n",
       "        vertical-align: top;\n",
       "    }\n",
       "\n",
       "    .dataframe thead th {\n",
       "        text-align: right;\n",
       "    }\n",
       "</style>\n",
       "<table border=\"1\" class=\"dataframe\">\n",
       "  <thead>\n",
       "    <tr style=\"text-align: right;\">\n",
       "      <th>Company</th>\n",
       "      <th>Adidas</th>\n",
       "      <th>Nike</th>\n",
       "    </tr>\n",
       "    <tr>\n",
       "      <th>Segmentation</th>\n",
       "      <th></th>\n",
       "      <th></th>\n",
       "    </tr>\n",
       "  </thead>\n",
       "  <tbody>\n",
       "    <tr>\n",
       "      <th>1</th>\n",
       "      <td>154</td>\n",
       "      <td>2</td>\n",
       "    </tr>\n",
       "    <tr>\n",
       "      <th>2</th>\n",
       "      <td>911</td>\n",
       "      <td>12</td>\n",
       "    </tr>\n",
       "    <tr>\n",
       "      <th>3</th>\n",
       "      <td>974</td>\n",
       "      <td>98</td>\n",
       "    </tr>\n",
       "    <tr>\n",
       "      <th>4</th>\n",
       "      <td>433</td>\n",
       "      <td>244</td>\n",
       "    </tr>\n",
       "    <tr>\n",
       "      <th>5</th>\n",
       "      <td>53</td>\n",
       "      <td>58</td>\n",
       "    </tr>\n",
       "  </tbody>\n",
       "</table>\n",
       "</div>"
      ],
      "text/plain": [
       "Company       Adidas  Nike\n",
       "Segmentation              \n",
       "1                154     2\n",
       "2                911    12\n",
       "3                974    98\n",
       "4                433   244\n",
       "5                 53    58"
      ]
     },
     "execution_count": 119,
     "metadata": {},
     "output_type": "execute_result"
    }
   ],
   "source": [
    "tmp =tmp.set_index(['Company','Segmentation']).unstack(level = 0)\n",
    "tmp.columns = tmp.columns.droplevel()\n",
    "tmp"
   ]
  },
  {
   "cell_type": "markdown",
   "id": "c1270d6a-9bce-4206-a990-d74aa325bb8a",
   "metadata": {},
   "source": [
    "#### Trực quan hóa số lượng sản phẩm theo từng phân khúc của Nike và Adidas"
   ]
  },
  {
   "cell_type": "code",
   "execution_count": 120,
   "id": "de722b45-a4a0-49ed-9164-4d770dda97de",
   "metadata": {},
   "outputs": [
    {
     "data": {
      "image/png": "[encoded data removed]",
      "text/plain": [
       "<Figure size 432x288 with 1 Axes>"
      ]
     },
     "metadata": {
      "needs_background": "light"
     },
     "output_type": "display_data"
    }
   ],
   "source": [
    "tmp.plot(kind = 'bar', use_index = True);\n",
    "# myplot.set_ylim(1,5);"
   ]
  },
  {
   "cell_type": "markdown",
   "id": "711edd0e-84c9-4924-9063-94db574b9895",
   "metadata": {},
   "source": [
    "Theo như biểu đồ trên thì ta có thể dễ dàng nhận thấy Adidas có số lượng sản phẩm cao hơn Nike rất nhiều. Tập trung ở 2 phân khúc `trung bình`, và `trung bình thấp`, Adidas cũng có thị phần tuơng đối so với Nike ở phân khúc `giá thấp`. Ngược lại, Nike tập trung vào sản xuất các sản phẩm ở phân khúc cao hơn. Mặc dù theo dữ liệu thống kê, số lượng mặt hàng của Nike thấp hơn 6 lân so với Adidas nhưng ở phân khúc ` trung bình cao` và ` giá cao` thì số lượng mặt hàng của Nike lần lượt gần bằng và cao hơn Adidas"
   ]
  },
  {
   "cell_type": "code",
   "execution_count": 126,
   "id": "af8be512-2731-4f07-8b09-6a1e2de78120",
   "metadata": {},
   "outputs": [
    {
     "data": {
      "text/html": [
       "<div>\n",
       "<style scoped>\n",
       "    .dataframe tbody tr th:only-of-type {\n",
       "        vertical-align: middle;\n",
       "    }\n",
       "\n",
       "    .dataframe tbody tr th {\n",
       "        vertical-align: top;\n",
       "    }\n",
       "\n",
       "    .dataframe thead th {\n",
       "        text-align: right;\n",
       "    }\n",
       "</style>\n",
       "<table border=\"1\" class=\"dataframe\">\n",
       "  <thead>\n",
       "    <tr style=\"text-align: right;\">\n",
       "      <th></th>\n",
       "      <th>Product Name</th>\n",
       "      <th>Product ID</th>\n",
       "      <th>Listing Price</th>\n",
       "      <th>Sale Price</th>\n",
       "      <th>Discount</th>\n",
       "      <th>Brand</th>\n",
       "      <th>Description</th>\n",
       "      <th>Rating</th>\n",
       "      <th>Reviews</th>\n",
       "      <th>Last Visited</th>\n",
       "      <th>Segmentation</th>\n",
       "    </tr>\n",
       "    <tr>\n",
       "      <th>Company</th>\n",
       "      <th></th>\n",
       "      <th></th>\n",
       "      <th></th>\n",
       "      <th></th>\n",
       "      <th></th>\n",
       "      <th></th>\n",
       "      <th></th>\n",
       "      <th></th>\n",
       "      <th></th>\n",
       "      <th></th>\n",
       "      <th></th>\n",
       "    </tr>\n",
       "  </thead>\n",
       "  <tbody>\n",
       "    <tr>\n",
       "      <th>Adidas</th>\n",
       "      <td>2525</td>\n",
       "      <td>2525</td>\n",
       "      <td>2525</td>\n",
       "      <td>2525</td>\n",
       "      <td>2525</td>\n",
       "      <td>2525</td>\n",
       "      <td>2525</td>\n",
       "      <td>2525</td>\n",
       "      <td>2525</td>\n",
       "      <td>2525</td>\n",
       "      <td>2525</td>\n",
       "    </tr>\n",
       "    <tr>\n",
       "      <th>Nike</th>\n",
       "      <td>414</td>\n",
       "      <td>414</td>\n",
       "      <td>414</td>\n",
       "      <td>414</td>\n",
       "      <td>414</td>\n",
       "      <td>414</td>\n",
       "      <td>411</td>\n",
       "      <td>414</td>\n",
       "      <td>414</td>\n",
       "      <td>414</td>\n",
       "      <td>414</td>\n",
       "    </tr>\n",
       "  </tbody>\n",
       "</table>\n",
       "</div>"
      ],
      "text/plain": [
       "         Product Name  Product ID  Listing Price  Sale Price  Discount  Brand  \\\n",
       "Company                                                                         \n",
       "Adidas           2525        2525           2525        2525      2525   2525   \n",
       "Nike              414         414            414         414       414    414   \n",
       "\n",
       "         Description  Rating  Reviews  Last Visited  Segmentation  \n",
       "Company                                                            \n",
       "Adidas          2525    2525     2525          2525          2525  \n",
       "Nike             411     414      414           414           414  "
      ]
     },
     "execution_count": 126,
     "metadata": {},
     "output_type": "execute_result"
    }
   ],
   "source": [
    "companys_df.groupby('Company').count()"
   ]
  },
  {
   "cell_type": "markdown",
   "id": "05fc8daf-fa73-47a7-877d-5b796ce21108",
   "metadata": {},
   "source": [
    "## References: [Pandas Documentation](https://pandas.pydata.org/docs/reference/api/pandas.DataFrame.duplicated.html)"
   ]
  }
 ],
 "metadata": {
  "kernelspec": {
   "display_name": "Python 3",
   "language": "python",
   "name": "python3"
  },
  "language_info": {
   "codemirror_mode": {
    "name": "ipython",
    "version": 3
   },
   "file_extension": ".py",
   "mimetype": "text/x-python",
   "name": "python",
   "nbconvert_exporter": "python",
   "pygments_lexer": "ipython3",
   "version": "3.8.8"
  }
 },
 "nbformat": 4,
 "nbformat_minor": 5
}
