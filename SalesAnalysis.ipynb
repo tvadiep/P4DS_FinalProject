{
 "cells": [
  {
   "cell_type": "markdown",
   "id": "51733bb1",
   "metadata": {},
   "source": [
    "## Import các thư viện cần thiết"
   ]
  },
  {
   "cell_type": "code",
   "execution_count": 1,
   "id": "ce5e205a",
   "metadata": {},
   "outputs": [],
   "source": [
    "import pandas as pd\n",
    "import matplotlib.pyplot as plt\n",
    "import numpy as np"
   ]
  },
  {
   "cell_type": "markdown",
   "id": "1180583f",
   "metadata": {},
   "source": [
    "---"
   ]
  },
  {
   "cell_type": "markdown",
   "id": "28bb07a3",
   "metadata": {},
   "source": [
    "## Thu thập dữ liệu"
   ]
  },
  {
   "cell_type": "markdown",
   "id": "5f66e7f5",
   "metadata": {},
   "source": [
    "Trong bài này, ta sẽ dùng dữ liệu đã được thu thập sẵn là file \"Adidas Vs Nike.csv\" đính kèm; Adidas vs Nike là một cuộc cạnh tranh không ngừng trong ngành công nghiệp thể thao. Tập dữ liệu này bao gồm thông tin sản phẩm của hai công ty khổng lồ này với những thông tin quan trọng. Dữ liệu này được lấy từ trang Kaggle, và gốc của dữ liệu là [ở đây](https://data.world/data-hut/product-data-from-nike) (Nike) và\n",
    "[ở đây](https://data.world/data-hut/product-data-from-adidas) (Adidas).\n"
   ]
  },
  {
   "cell_type": "markdown",
   "id": "fbb4d405",
   "metadata": {},
   "source": [
    "---"
   ]
  },
  {
   "cell_type": "markdown",
   "id": "53cd73ec",
   "metadata": {},
   "source": [
    "## Khám phá dữ liệu"
   ]
  },
  {
   "cell_type": "markdown",
   "id": "6b868444",
   "metadata": {},
   "source": [
    "### Đọc dữ liệu từ file csv vào dataframe"
   ]
  },
  {
   "cell_type": "code",
   "execution_count": 2,
   "id": "30b9d75b",
   "metadata": {},
   "outputs": [
    {
     "data": {
      "text/html": [
       "<div>\n",
       "<style scoped>\n",
       "    .dataframe tbody tr th:only-of-type {\n",
       "        vertical-align: middle;\n",
       "    }\n",
       "\n",
       "    .dataframe tbody tr th {\n",
       "        vertical-align: top;\n",
       "    }\n",
       "\n",
       "    .dataframe thead th {\n",
       "        text-align: right;\n",
       "    }\n",
       "</style>\n",
       "<table border=\"1\" class=\"dataframe\">\n",
       "  <thead>\n",
       "    <tr style=\"text-align: right;\">\n",
       "      <th></th>\n",
       "      <th>Product Name</th>\n",
       "      <th>Product ID</th>\n",
       "      <th>Listing Price</th>\n",
       "      <th>Sale Price</th>\n",
       "      <th>Discount</th>\n",
       "      <th>Brand</th>\n",
       "      <th>Description</th>\n",
       "      <th>Rating</th>\n",
       "      <th>Reviews</th>\n",
       "      <th>Last Visited</th>\n",
       "    </tr>\n",
       "  </thead>\n",
       "  <tbody>\n",
       "    <tr>\n",
       "      <th>0</th>\n",
       "      <td>Women's adidas Originals NMD_Racer Primeknit S...</td>\n",
       "      <td>AH2430</td>\n",
       "      <td>14999</td>\n",
       "      <td>7499</td>\n",
       "      <td>50</td>\n",
       "      <td>Adidas Adidas ORIGINALS</td>\n",
       "      <td>Channeling the streamlined look of an '80s rac...</td>\n",
       "      <td>4.8</td>\n",
       "      <td>41</td>\n",
       "      <td>2020-04-13T15:06:14</td>\n",
       "    </tr>\n",
       "    <tr>\n",
       "      <th>1</th>\n",
       "      <td>Women's adidas Originals Sleek Shoes</td>\n",
       "      <td>G27341</td>\n",
       "      <td>7599</td>\n",
       "      <td>3799</td>\n",
       "      <td>50</td>\n",
       "      <td>Adidas ORIGINALS</td>\n",
       "      <td>A modern take on adidas sport heritage, tailor...</td>\n",
       "      <td>3.3</td>\n",
       "      <td>24</td>\n",
       "      <td>2020-04-13T15:06:15</td>\n",
       "    </tr>\n",
       "    <tr>\n",
       "      <th>2</th>\n",
       "      <td>Women's adidas Swim Puka Slippers</td>\n",
       "      <td>CM0081</td>\n",
       "      <td>999</td>\n",
       "      <td>599</td>\n",
       "      <td>40</td>\n",
       "      <td>Adidas CORE / NEO</td>\n",
       "      <td>These adidas Puka slippers for women's come wi...</td>\n",
       "      <td>2.6</td>\n",
       "      <td>37</td>\n",
       "      <td>2020-04-13T15:06:15</td>\n",
       "    </tr>\n",
       "    <tr>\n",
       "      <th>3</th>\n",
       "      <td>Women's adidas Sport Inspired Questar Ride Shoes</td>\n",
       "      <td>B44832</td>\n",
       "      <td>6999</td>\n",
       "      <td>3499</td>\n",
       "      <td>50</td>\n",
       "      <td>Adidas CORE / NEO</td>\n",
       "      <td>Inspired by modern tech runners, these women's...</td>\n",
       "      <td>4.1</td>\n",
       "      <td>35</td>\n",
       "      <td>2020-04-13T15:06:15</td>\n",
       "    </tr>\n",
       "    <tr>\n",
       "      <th>4</th>\n",
       "      <td>Women's adidas Originals Taekwondo Shoes</td>\n",
       "      <td>D98205</td>\n",
       "      <td>7999</td>\n",
       "      <td>3999</td>\n",
       "      <td>50</td>\n",
       "      <td>Adidas ORIGINALS</td>\n",
       "      <td>This design is inspired by vintage Taekwondo s...</td>\n",
       "      <td>3.5</td>\n",
       "      <td>72</td>\n",
       "      <td>2020-04-13T15:06:15</td>\n",
       "    </tr>\n",
       "    <tr>\n",
       "      <th>...</th>\n",
       "      <td>...</td>\n",
       "      <td>...</td>\n",
       "      <td>...</td>\n",
       "      <td>...</td>\n",
       "      <td>...</td>\n",
       "      <td>...</td>\n",
       "      <td>...</td>\n",
       "      <td>...</td>\n",
       "      <td>...</td>\n",
       "      <td>...</td>\n",
       "    </tr>\n",
       "    <tr>\n",
       "      <th>3263</th>\n",
       "      <td>Air Jordan 8 Retro</td>\n",
       "      <td>CI1236-100</td>\n",
       "      <td>15995</td>\n",
       "      <td>12797</td>\n",
       "      <td>0</td>\n",
       "      <td>Nike</td>\n",
       "      <td>The Air Jordan 8 Retro recaptures the memorabl...</td>\n",
       "      <td>5.0</td>\n",
       "      <td>1</td>\n",
       "      <td>2020-04-13T15:41:01</td>\n",
       "    </tr>\n",
       "    <tr>\n",
       "      <th>3264</th>\n",
       "      <td>Nike Phantom Venom Club IC</td>\n",
       "      <td>AO0578-717</td>\n",
       "      <td>4995</td>\n",
       "      <td>3497</td>\n",
       "      <td>0</td>\n",
       "      <td>Nike</td>\n",
       "      <td>The Nike Phantom Venom Club IC is engineered f...</td>\n",
       "      <td>0.0</td>\n",
       "      <td>0</td>\n",
       "      <td>2020-04-13T15:41:03</td>\n",
       "    </tr>\n",
       "    <tr>\n",
       "      <th>3265</th>\n",
       "      <td>Nike Mercurial Superfly 7 Academy TF</td>\n",
       "      <td>AT7978-414</td>\n",
       "      <td>8495</td>\n",
       "      <td>5947</td>\n",
       "      <td>0</td>\n",
       "      <td>Nike</td>\n",
       "      <td>The soft upper of the Nike Mercurial Superfly ...</td>\n",
       "      <td>5.0</td>\n",
       "      <td>1</td>\n",
       "      <td>2020-04-13T15:41:07</td>\n",
       "    </tr>\n",
       "    <tr>\n",
       "      <th>3266</th>\n",
       "      <td>Nike Air Max 98</td>\n",
       "      <td>AH6799-300</td>\n",
       "      <td>0</td>\n",
       "      <td>16995</td>\n",
       "      <td>0</td>\n",
       "      <td>Nike</td>\n",
       "      <td>The Nike Air Max 98 features the OG design lin...</td>\n",
       "      <td>4.0</td>\n",
       "      <td>4</td>\n",
       "      <td>2020-04-13T15:41:19</td>\n",
       "    </tr>\n",
       "    <tr>\n",
       "      <th>3267</th>\n",
       "      <td>Nike P-6000 SE</td>\n",
       "      <td>CJ9585-600</td>\n",
       "      <td>8995</td>\n",
       "      <td>6297</td>\n",
       "      <td>0</td>\n",
       "      <td>Nike</td>\n",
       "      <td>A mash-up of Pegasus' past, the Nike P-6000 SE...</td>\n",
       "      <td>0.0</td>\n",
       "      <td>0</td>\n",
       "      <td>2020-04-13T15:42:57</td>\n",
       "    </tr>\n",
       "  </tbody>\n",
       "</table>\n",
       "<p>3268 rows × 10 columns</p>\n",
       "</div>"
      ],
      "text/plain": [
       "                                           Product Name  Product ID  \\\n",
       "0     Women's adidas Originals NMD_Racer Primeknit S...      AH2430   \n",
       "1                  Women's adidas Originals Sleek Shoes      G27341   \n",
       "2                     Women's adidas Swim Puka Slippers      CM0081   \n",
       "3      Women's adidas Sport Inspired Questar Ride Shoes      B44832   \n",
       "4              Women's adidas Originals Taekwondo Shoes      D98205   \n",
       "...                                                 ...         ...   \n",
       "3263                                 Air Jordan 8 Retro  CI1236-100   \n",
       "3264                         Nike Phantom Venom Club IC  AO0578-717   \n",
       "3265               Nike Mercurial Superfly 7 Academy TF  AT7978-414   \n",
       "3266                                    Nike Air Max 98  AH6799-300   \n",
       "3267                                     Nike P-6000 SE  CJ9585-600   \n",
       "\n",
       "      Listing Price  Sale Price  Discount                    Brand  \\\n",
       "0             14999        7499        50  Adidas Adidas ORIGINALS   \n",
       "1              7599        3799        50         Adidas ORIGINALS   \n",
       "2               999         599        40        Adidas CORE / NEO   \n",
       "3              6999        3499        50        Adidas CORE / NEO   \n",
       "4              7999        3999        50         Adidas ORIGINALS   \n",
       "...             ...         ...       ...                      ...   \n",
       "3263          15995       12797         0                     Nike   \n",
       "3264           4995        3497         0                     Nike   \n",
       "3265           8495        5947         0                     Nike   \n",
       "3266              0       16995         0                     Nike   \n",
       "3267           8995        6297         0                     Nike   \n",
       "\n",
       "                                            Description  Rating  Reviews  \\\n",
       "0     Channeling the streamlined look of an '80s rac...     4.8       41   \n",
       "1     A modern take on adidas sport heritage, tailor...     3.3       24   \n",
       "2     These adidas Puka slippers for women's come wi...     2.6       37   \n",
       "3     Inspired by modern tech runners, these women's...     4.1       35   \n",
       "4     This design is inspired by vintage Taekwondo s...     3.5       72   \n",
       "...                                                 ...     ...      ...   \n",
       "3263  The Air Jordan 8 Retro recaptures the memorabl...     5.0        1   \n",
       "3264  The Nike Phantom Venom Club IC is engineered f...     0.0        0   \n",
       "3265  The soft upper of the Nike Mercurial Superfly ...     5.0        1   \n",
       "3266  The Nike Air Max 98 features the OG design lin...     4.0        4   \n",
       "3267  A mash-up of Pegasus' past, the Nike P-6000 SE...     0.0        0   \n",
       "\n",
       "             Last Visited  \n",
       "0     2020-04-13T15:06:14  \n",
       "1     2020-04-13T15:06:15  \n",
       "2     2020-04-13T15:06:15  \n",
       "3     2020-04-13T15:06:15  \n",
       "4     2020-04-13T15:06:15  \n",
       "...                   ...  \n",
       "3263  2020-04-13T15:41:01  \n",
       "3264  2020-04-13T15:41:03  \n",
       "3265  2020-04-13T15:41:07  \n",
       "3266  2020-04-13T15:41:19  \n",
       "3267  2020-04-13T15:42:57  \n",
       "\n",
       "[3268 rows x 10 columns]"
      ]
     },
     "execution_count": 2,
     "metadata": {},
     "output_type": "execute_result"
    }
   ],
   "source": [
    "df = pd.read_csv(\"Adidas Vs Nike.csv\")\n",
    "df"
   ]
  },
  {
   "cell_type": "markdown",
   "id": "0d1021a4",
   "metadata": {},
   "source": [
    "### Dữ liệu gồm có bao nhiêu dòng và bao nhiêu cột?"
   ]
  },
  {
   "cell_type": "code",
   "execution_count": 3,
   "id": "8aa71035",
   "metadata": {},
   "outputs": [
    {
     "name": "stdout",
     "output_type": "stream",
     "text": [
      "Số dòng:  3268\n",
      "Số cột:  10\n"
     ]
    }
   ],
   "source": [
    "print('Số dòng: ',df.shape[0])\n",
    "print('Số cột: ',df.shape[1])"
   ]
  },
  {
   "cell_type": "markdown",
   "id": "42f8e16a",
   "metadata": {},
   "source": [
    "### Mỗi dòng có ý nghĩa gì? Có vấn đề các dòng có ý nghĩa khác nhau không?"
   ]
  },
  {
   "cell_type": "markdown",
   "id": "c7ee8e27",
   "metadata": {},
   "source": [
    "Theo quan sát sơ bộ về dữ liệu thì mỗi dòng là thông tin của một sản phẩm. Có vẻ không có dòng nào bị \"lạc loài\"."
   ]
  },
  {
   "cell_type": "markdown",
   "id": "61f5e8a4",
   "metadata": {},
   "source": [
    "### Dữ liệu có các dòng bị lặp không?"
   ]
  },
  {
   "cell_type": "code",
   "execution_count": 4,
   "id": "932e667a",
   "metadata": {},
   "outputs": [
    {
     "name": "stdout",
     "output_type": "stream",
     "text": [
      "Không có dòng nào bị lặp\n"
     ]
    }
   ],
   "source": [
    "num_duplicated_rows = df.duplicated().sum()\n",
    "if num_duplicated_rows == 0:\n",
    "    print('Không có dòng nào bị lặp')\n",
    "else:\n",
    "    print('Có {} dòng bị lặp'.format(num_duplicated_rows))"
   ]
  },
  {
   "cell_type": "markdown",
   "id": "a5eab855",
   "metadata": {},
   "source": [
    "### Mỗi cột có ý nghĩa gì?"
   ]
  },
  {
   "cell_type": "markdown",
   "id": "0a31b7c6",
   "metadata": {},
   "source": [
    "- **Product Name**: Tên sản phẩm.\n",
    "- **Product ID**: Id sản phẩm.\n",
    "- **Listing Price**: Giá niêm yết.\n",
    "- **Sale Price**: Giá bán.\n",
    "- **Discount**: Giảm giá.\n",
    "- **Brand**: Nhãn hiệu.\n",
    "- **Description**: Mô tả.\n",
    "- **Rating**: Đánh giá.\n",
    "- **Reviews**: Số lượt nhận xét\n",
    "- **Last Visited**: Thời điểm ghi nhận dữ liệu."
   ]
  },
  {
   "cell_type": "markdown",
   "id": "a713f68a",
   "metadata": {},
   "source": [
    "### Mỗi cột hiện đang có kiểu dữ liệu gì? Có cột nào có kiểu dữ liệu chưa phù hợp để có thể xử lý tiếp không?"
   ]
  },
  {
   "cell_type": "code",
   "execution_count": 5,
   "id": "f8518575",
   "metadata": {},
   "outputs": [
    {
     "data": {
      "text/plain": [
       "Product Name      object\n",
       "Product ID        object\n",
       "Listing Price      int64\n",
       "Sale Price         int64\n",
       "Discount           int64\n",
       "Brand             object\n",
       "Description       object\n",
       "Rating           float64\n",
       "Reviews            int64\n",
       "Last Visited      object\n",
       "dtype: object"
      ]
     },
     "execution_count": 5,
     "metadata": {},
     "output_type": "execute_result"
    }
   ],
   "source": [
    "df.dtypes"
   ]
  },
  {
   "cell_type": "markdown",
   "id": "809ca2bd",
   "metadata": {},
   "source": [
    "**Cột có dtype là object nghĩa là sao?**"
   ]
  },
  {
   "cell_type": "code",
   "execution_count": 6,
   "id": "5a3f45bc",
   "metadata": {},
   "outputs": [],
   "source": [
    "def open_object_dtype(s):\n",
    "    dtypes = set(s.apply(type))\n",
    "    return dtypes"
   ]
  },
  {
   "cell_type": "code",
   "execution_count": 7,
   "id": "32b0b4e7",
   "metadata": {},
   "outputs": [
    {
     "data": {
      "text/html": [
       "<div>\n",
       "<style scoped>\n",
       "    .dataframe tbody tr th:only-of-type {\n",
       "        vertical-align: middle;\n",
       "    }\n",
       "\n",
       "    .dataframe tbody tr th {\n",
       "        vertical-align: top;\n",
       "    }\n",
       "\n",
       "    .dataframe thead th {\n",
       "        text-align: right;\n",
       "    }\n",
       "</style>\n",
       "<table border=\"1\" class=\"dataframe\">\n",
       "  <thead>\n",
       "    <tr style=\"text-align: right;\">\n",
       "      <th></th>\n",
       "      <th>Column</th>\n",
       "      <th>Type</th>\n",
       "    </tr>\n",
       "  </thead>\n",
       "  <tbody>\n",
       "    <tr>\n",
       "      <th>0</th>\n",
       "      <td>Product Name</td>\n",
       "      <td>{&lt;class 'str'&gt;}</td>\n",
       "    </tr>\n",
       "    <tr>\n",
       "      <th>1</th>\n",
       "      <td>Product ID</td>\n",
       "      <td>{&lt;class 'str'&gt;}</td>\n",
       "    </tr>\n",
       "    <tr>\n",
       "      <th>2</th>\n",
       "      <td>Brand</td>\n",
       "      <td>{&lt;class 'str'&gt;}</td>\n",
       "    </tr>\n",
       "    <tr>\n",
       "      <th>3</th>\n",
       "      <td>Description</td>\n",
       "      <td>{&lt;class 'str'&gt;}</td>\n",
       "    </tr>\n",
       "    <tr>\n",
       "      <th>4</th>\n",
       "      <td>Last Visited</td>\n",
       "      <td>{&lt;class 'str'&gt;}</td>\n",
       "    </tr>\n",
       "  </tbody>\n",
       "</table>\n",
       "</div>"
      ],
      "text/plain": [
       "         Column             Type\n",
       "0  Product Name  {<class 'str'>}\n",
       "1    Product ID  {<class 'str'>}\n",
       "2         Brand  {<class 'str'>}\n",
       "3   Description  {<class 'str'>}\n",
       "4  Last Visited  {<class 'str'>}"
      ]
     },
     "execution_count": 7,
     "metadata": {},
     "output_type": "execute_result"
    }
   ],
   "source": [
    "cate_col_df = df.select_dtypes(include='object').columns\n",
    "type_col = []\n",
    "for col in cate_col_df:\n",
    "    type_col.append(open_object_dtype(df['Product Name']))\n",
    "pd.DataFrame({'Column':cate_col_df, 'Type':type_col})"
   ]
  },
  {
   "cell_type": "markdown",
   "id": "b63888ac",
   "metadata": {},
   "source": [
    "Các cột có vẻ như đã có kiểu dữ liệu hợp lý. Riêng cột Last Visited nên ở dạng datetime. Để có thể tiếp tục khám phá thêm về cột này, ta sẽ thực hiện bước tiền xử lý là chuyển sang dạng `datetime`."
   ]
  },
  {
   "cell_type": "markdown",
   "id": "cedbc5eb",
   "metadata": {},
   "source": [
    "## Tiền xử lý"
   ]
  },
  {
   "cell_type": "markdown",
   "id": "e4a40a20",
   "metadata": {},
   "source": [
    "### Chuyển dtype của cột \"Last Visited\" sang datetime"
   ]
  },
  {
   "cell_type": "code",
   "execution_count": 8,
   "id": "15b0ade9",
   "metadata": {},
   "outputs": [],
   "source": [
    "df['Last Visited'] = pd.to_datetime(df['Last Visited'])"
   ]
  },
  {
   "cell_type": "markdown",
   "id": "52265d81",
   "metadata": {},
   "source": [
    "## Khám phá dữ liệu (tiếp tục)"
   ]
  },
  {
   "cell_type": "markdown",
   "id": "87d09d42",
   "metadata": {},
   "source": [
    "### Với mỗi cột có kiểu dữ liệu dạng numeric, các giá trị được phân bố như thế nào?"
   ]
  },
  {
   "cell_type": "markdown",
   "id": "255cbdac",
   "metadata": {},
   "source": [
    "Hiện có 6 cột có vẻ là thuộc nhóm numeric: 'Listing Price','Sale Price','Discount','Rating','Reviews','Last Visited'\n",
    "Với các cột này, ta sẽ tính:\n",
    "- Tỉ lệ % (từ 0 đến 100) các giá trị thiếu \n",
    "- Giá trị min\n",
    "- Giá trị lower quartile (phân vị 25)\n",
    "- Giá trị median (phân vị 50)\n",
    "- Giá trị upper quartile (phân vị 75)\n",
    "- Giá trị max"
   ]
  },
  {
   "cell_type": "code",
   "execution_count": 9,
   "id": "572d3aa6",
   "metadata": {},
   "outputs": [
    {
     "data": {
      "text/html": [
       "<div>\n",
       "<style scoped>\n",
       "    .dataframe tbody tr th:only-of-type {\n",
       "        vertical-align: middle;\n",
       "    }\n",
       "\n",
       "    .dataframe tbody tr th {\n",
       "        vertical-align: top;\n",
       "    }\n",
       "\n",
       "    .dataframe thead th {\n",
       "        text-align: right;\n",
       "    }\n",
       "</style>\n",
       "<table border=\"1\" class=\"dataframe\">\n",
       "  <thead>\n",
       "    <tr style=\"text-align: right;\">\n",
       "      <th></th>\n",
       "      <th>Listing Price</th>\n",
       "      <th>Sale Price</th>\n",
       "      <th>Discount</th>\n",
       "      <th>Rating</th>\n",
       "      <th>Reviews</th>\n",
       "      <th>Last Visited</th>\n",
       "    </tr>\n",
       "  </thead>\n",
       "  <tbody>\n",
       "    <tr>\n",
       "      <th>missing_ratio</th>\n",
       "      <td>0.0</td>\n",
       "      <td>0.0</td>\n",
       "      <td>0.0</td>\n",
       "      <td>0.0</td>\n",
       "      <td>0.0</td>\n",
       "      <td>0.0</td>\n",
       "    </tr>\n",
       "    <tr>\n",
       "      <th>min</th>\n",
       "      <td>0.0</td>\n",
       "      <td>449.0</td>\n",
       "      <td>0.0</td>\n",
       "      <td>0.0</td>\n",
       "      <td>0.0</td>\n",
       "      <td>2020-04-13 15:06:14</td>\n",
       "    </tr>\n",
       "    <tr>\n",
       "      <th>lower_quartile</th>\n",
       "      <td>4299.0</td>\n",
       "      <td>2999.0</td>\n",
       "      <td>0.0</td>\n",
       "      <td>2.6</td>\n",
       "      <td>10.0</td>\n",
       "      <td>2020-04-13 15:06:47</td>\n",
       "    </tr>\n",
       "    <tr>\n",
       "      <th>median</th>\n",
       "      <td>5999.0</td>\n",
       "      <td>4799.0</td>\n",
       "      <td>40.0</td>\n",
       "      <td>3.5</td>\n",
       "      <td>37.0</td>\n",
       "      <td>2020-04-13 15:07:20</td>\n",
       "    </tr>\n",
       "    <tr>\n",
       "      <th>upper_quartile</th>\n",
       "      <td>8999.0</td>\n",
       "      <td>7995.0</td>\n",
       "      <td>50.0</td>\n",
       "      <td>4.4</td>\n",
       "      <td>68.0</td>\n",
       "      <td>2020-04-13 15:07:53</td>\n",
       "    </tr>\n",
       "    <tr>\n",
       "      <th>max</th>\n",
       "      <td>29999.0</td>\n",
       "      <td>36500.0</td>\n",
       "      <td>60.0</td>\n",
       "      <td>5.0</td>\n",
       "      <td>223.0</td>\n",
       "      <td>2020-04-13 15:42:57</td>\n",
       "    </tr>\n",
       "  </tbody>\n",
       "</table>\n",
       "</div>"
      ],
      "text/plain": [
       "                Listing Price  Sale Price  Discount  Rating  Reviews  \\\n",
       "missing_ratio             0.0         0.0       0.0     0.0      0.0   \n",
       "min                       0.0       449.0       0.0     0.0      0.0   \n",
       "lower_quartile         4299.0      2999.0       0.0     2.6     10.0   \n",
       "median                 5999.0      4799.0      40.0     3.5     37.0   \n",
       "upper_quartile         8999.0      7995.0      50.0     4.4     68.0   \n",
       "max                   29999.0     36500.0      60.0     5.0    223.0   \n",
       "\n",
       "                       Last Visited  \n",
       "missing_ratio                   0.0  \n",
       "min             2020-04-13 15:06:14  \n",
       "lower_quartile  2020-04-13 15:06:47  \n",
       "median          2020-04-13 15:07:20  \n",
       "upper_quartile  2020-04-13 15:07:53  \n",
       "max             2020-04-13 15:42:57  "
      ]
     },
     "execution_count": 9,
     "metadata": {},
     "output_type": "execute_result"
    }
   ],
   "source": [
    "num_col_df = df.select_dtypes(exclude='object').columns\n",
    "num_df = df[num_col_df]\n",
    "#num_df = df[['Listing Price','Sale Price','Discount','Rating','Reviews']]\n",
    "def missing_ratio(s):\n",
    "    return (s.isna().mean() * 100)\n",
    "def median(df):\n",
    "    return df.quantile(0.5)\n",
    "def lower_quartile(df):\n",
    "    return df.quantile(0.25)\n",
    "def upper_quartile(df):\n",
    "    return df.quantile(0.75)\n",
    "num_col_info_df = num_df.agg([missing_ratio, min, lower_quartile, median, upper_quartile, max])\n",
    "num_col_info_df"
   ]
  },
  {
   "cell_type": "markdown",
   "id": "6a4283f3",
   "metadata": {},
   "source": [
    "### Với mỗi cột có kiểu dữ liệu dạng categorical, các giá trị được phân bố như thế nào?"
   ]
  },
  {
   "cell_type": "markdown",
   "id": "bd2d6056",
   "metadata": {},
   "source": [
    "Hiện có 4 cột có vẻ là thuộc nhóm categorical: 'Product Name','Product ID','Brand','Description'. Với các cột này ta sẽ tính:\n",
    "- Tỉ lệ % giá trị thiếu (từ 0 đến 100)\n",
    "- Số lượng giá trị khác nhau\n",
    "- List các giá trị khác nhau"
   ]
  },
  {
   "cell_type": "code",
   "execution_count": 10,
   "id": "18048ef2",
   "metadata": {},
   "outputs": [
    {
     "data": {
      "text/html": [
       "<div>\n",
       "<style scoped>\n",
       "    .dataframe tbody tr th:only-of-type {\n",
       "        vertical-align: middle;\n",
       "    }\n",
       "\n",
       "    .dataframe tbody tr th {\n",
       "        vertical-align: top;\n",
       "    }\n",
       "\n",
       "    .dataframe thead th {\n",
       "        text-align: right;\n",
       "    }\n",
       "</style>\n",
       "<table border=\"1\" class=\"dataframe\">\n",
       "  <thead>\n",
       "    <tr style=\"text-align: right;\">\n",
       "      <th></th>\n",
       "      <th>Product Name</th>\n",
       "      <th>Product ID</th>\n",
       "      <th>Brand</th>\n",
       "      <th>Description</th>\n",
       "    </tr>\n",
       "  </thead>\n",
       "  <tbody>\n",
       "    <tr>\n",
       "      <th>missing_ratio</th>\n",
       "      <td>0.0</td>\n",
       "      <td>0.0</td>\n",
       "      <td>0.0</td>\n",
       "      <td>0.091799</td>\n",
       "    </tr>\n",
       "    <tr>\n",
       "      <th>num_diff_vals</th>\n",
       "      <td>1531</td>\n",
       "      <td>3179</td>\n",
       "      <td>5</td>\n",
       "      <td>1762</td>\n",
       "    </tr>\n",
       "    <tr>\n",
       "      <th>diff_vals</th>\n",
       "      <td>[Women's adidas Originals NMD_Racer Primeknit ...</td>\n",
       "      <td>[AH2430, G27341, CM0081, B44832, D98205, B7558...</td>\n",
       "      <td>[Adidas Adidas ORIGINALS, Adidas ORIGINALS, Ad...</td>\n",
       "      <td>[Channeling the streamlined look of an '80s ra...</td>\n",
       "    </tr>\n",
       "  </tbody>\n",
       "</table>\n",
       "</div>"
      ],
      "text/plain": [
       "                                                    Product Name  \\\n",
       "missing_ratio                                                0.0   \n",
       "num_diff_vals                                               1531   \n",
       "diff_vals      [Women's adidas Originals NMD_Racer Primeknit ...   \n",
       "\n",
       "                                                      Product ID  \\\n",
       "missing_ratio                                                0.0   \n",
       "num_diff_vals                                               3179   \n",
       "diff_vals      [AH2430, G27341, CM0081, B44832, D98205, B7558...   \n",
       "\n",
       "                                                           Brand  \\\n",
       "missing_ratio                                                0.0   \n",
       "num_diff_vals                                                  5   \n",
       "diff_vals      [Adidas Adidas ORIGINALS, Adidas ORIGINALS, Ad...   \n",
       "\n",
       "                                                     Description  \n",
       "missing_ratio                                           0.091799  \n",
       "num_diff_vals                                               1762  \n",
       "diff_vals      [Channeling the streamlined look of an '80s ra...  "
      ]
     },
     "execution_count": 10,
     "metadata": {},
     "output_type": "execute_result"
    }
   ],
   "source": [
    "cate_col_df = df.select_dtypes(include='object').columns\n",
    "cate_df = df[cate_col_df]\n",
    "def missing_ratio(s):\n",
    "    return (s.isna().mean() * 100)\n",
    "def num_diff_vals(s):\n",
    "    return s.nunique()\n",
    "def diff_vals(s):\n",
    "    return s.unique()\n",
    "\n",
    "cate_col_profiles_df = cate_df.agg([missing_ratio, num_diff_vals, diff_vals])\n",
    "#raise NotImplementedError()\n",
    "cate_col_profiles_df"
   ]
  },
  {
   "cell_type": "markdown",
   "id": "f0036089-4a0b-491a-bc60-341277ae4fec",
   "metadata": {},
   "source": [
    "### Vấn đề cần tiền xử lý:\n",
    "* Xóa đi các dòng không có Rating"
   ]
  },
  {
   "cell_type": "markdown",
   "id": "e8513dda-6a04-4568-88eb-649ea3438f21",
   "metadata": {},
   "source": [
    "## Đưa ra các câu hỏi cần trả lời"
   ]
  },
  {
   "cell_type": "markdown",
   "id": "b7f28395-64a4-456c-a05d-1ec91710dff0",
   "metadata": {},
   "source": [
    "### Với mỗi phân khúc sản phẩm thì Nike hay Adidas được đánh giá cao hơn?"
   ]
  },
  {
   "cell_type": "markdown",
   "id": "fbc5a3b3-f0f4-4ca2-b652-b5654de1d0d8",
   "metadata": {},
   "source": [
    "Một mẫu câu hỏi mà chúng ta thường xuyên thấy trên diễn đàn, forum của các trang MXH là: \"Với số tiền X thì nên mua sản phẩm của hãng nào?\"\n",
    "\n",
    "Do đó sẽ rất có ý nghĩa nếu chúng ta đặt ra câu hỏi rằng ở các phân khúc giá khác nhau thì Nike hay Adidas được đánh giá cao hơn? Để trả lời được câu hỏi này, ta cần thực hiến các bước sau\n",
    "* Đầu tiên, chúng ta tạo thêm 2 cột là `Company` cho biết sản phẩm thuộc công ty nào và `Segmentation` cho biết sản phẩm thuộc phân khúc giá nào. Ở đây có chúng ta sẽ chia ra làm 4 phân khúc như sau `[0,1000)`,  `[1000,10000)`, `[10000,20000)`, `[20000,36500]`\n",
    "* Tiếp theo, với mỗi hãng, ta sẽ thực hiện tính trung bình ratings của từng phân khúc (tiền xử lý cần xóa đi các sản phẩm không có review)"
   ]
  },
  {
   "cell_type": "markdown",
   "id": "93f96f62-4cf9-4e8f-8dd5-14c070144c3b",
   "metadata": {},
   "source": [
    "#### Đầu tiên là chia số sản phẩm theo phân khúc, sau đó tính trung bình review của các phân khúc đó. Visualize xem Nike và Adidas tập trung vào cái nào, với từng phấn khúc, sản phẩm của Nike hay Adidas được yêu thích hơn?"
   ]
  },
  {
   "cell_type": "markdown",
   "id": "7de3a6be-ee55-42aa-aedd-83c2589f0d04",
   "metadata": {},
   "source": []
  },
  {
   "cell_type": "code",
   "execution_count": 11,
   "id": "aad6fcb2-165c-4c54-a170-edb93da9dabb",
   "metadata": {},
   "outputs": [],
   "source": [
    "x = df\n",
    "def f(values):\n",
    "    if 'Adidas' in values['Brand']:\n",
    "        return 'Adidas'\n",
    "    return 'Nike'\n",
    "x['Company'] = x.apply(f, axis = 1)"
   ]
  },
  {
   "cell_type": "code",
   "execution_count": 12,
   "id": "d2541050-7d88-426f-b59b-461ffcfec0c4",
   "metadata": {},
   "outputs": [],
   "source": [
    "segm1 = range(0,1000)\n",
    "segm2 = range(1000,10000)\n",
    "segm3 = range(10000,20000)\n",
    "segm4 = range(20000,x['Sale Price'].max())\n",
    "def segmentation(value_of):\n",
    "    if value_of['Sale Price'] in segm1:\n",
    "        return 1\n",
    "    if value_of['Sale Price'] in segm2:\n",
    "        return 2\n",
    "    if value_of['Sale Price'] in segm3:\n",
    "        return 3\n",
    "    return 4\n",
    "x['Segmentation'] = x.apply(segmentation, axis = 1)"
   ]
  },
  {
   "cell_type": "code",
   "execution_count": 29,
   "id": "786b8e76-9955-4b8c-8b44-2594afbe3964",
   "metadata": {},
   "outputs": [
    {
     "data": {
      "text/html": [
       "<div>\n",
       "<style scoped>\n",
       "    .dataframe tbody tr th:only-of-type {\n",
       "        vertical-align: middle;\n",
       "    }\n",
       "\n",
       "    .dataframe tbody tr th {\n",
       "        vertical-align: top;\n",
       "    }\n",
       "\n",
       "    .dataframe thead th {\n",
       "        text-align: right;\n",
       "    }\n",
       "</style>\n",
       "<table border=\"1\" class=\"dataframe\">\n",
       "  <thead>\n",
       "    <tr style=\"text-align: right;\">\n",
       "      <th></th>\n",
       "      <th>Company</th>\n",
       "      <th>Segmentation</th>\n",
       "      <th>Rating</th>\n",
       "    </tr>\n",
       "  </thead>\n",
       "  <tbody>\n",
       "    <tr>\n",
       "      <th>0</th>\n",
       "      <td>Adidas</td>\n",
       "      <td>1</td>\n",
       "      <td>3.519672</td>\n",
       "    </tr>\n",
       "    <tr>\n",
       "      <th>1</th>\n",
       "      <td>Adidas</td>\n",
       "      <td>2</td>\n",
       "      <td>3.346756</td>\n",
       "    </tr>\n",
       "    <tr>\n",
       "      <th>2</th>\n",
       "      <td>Adidas</td>\n",
       "      <td>3</td>\n",
       "      <td>3.574519</td>\n",
       "    </tr>\n",
       "    <tr>\n",
       "      <th>3</th>\n",
       "      <td>Adidas</td>\n",
       "      <td>4</td>\n",
       "      <td>3.125000</td>\n",
       "    </tr>\n",
       "    <tr>\n",
       "      <th>4</th>\n",
       "      <td>Nike</td>\n",
       "      <td>2</td>\n",
       "      <td>4.173478</td>\n",
       "    </tr>\n",
       "    <tr>\n",
       "      <th>5</th>\n",
       "      <td>Nike</td>\n",
       "      <td>3</td>\n",
       "      <td>4.349425</td>\n",
       "    </tr>\n",
       "    <tr>\n",
       "      <th>6</th>\n",
       "      <td>Nike</td>\n",
       "      <td>4</td>\n",
       "      <td>4.180000</td>\n",
       "    </tr>\n",
       "  </tbody>\n",
       "</table>\n",
       "</div>"
      ],
      "text/plain": [
       "  Company  Segmentation    Rating\n",
       "0  Adidas             1  3.519672\n",
       "1  Adidas             2  3.346756\n",
       "2  Adidas             3  3.574519\n",
       "3  Adidas             4  3.125000\n",
       "4    Nike             2  4.173478\n",
       "5    Nike             3  4.349425\n",
       "6    Nike             4  4.180000"
      ]
     },
     "execution_count": 29,
     "metadata": {},
     "output_type": "execute_result"
    }
   ],
   "source": [
    "x = x[x['Reviews'] != 0]\n",
    "\n",
    "tmpdf = x[['Company','Segmentation', 'Rating']]\n",
    "\n",
    "mydf = tmpdf.groupby(['Company','Segmentation']).mean().reset_index()\n",
    "\n",
    "mydf"
   ]
  },
  {
   "cell_type": "code",
   "execution_count": 35,
   "id": "61089590-21f5-452b-9f05-b139ac3b6a93",
   "metadata": {},
   "outputs": [
    {
     "data": {
      "text/html": [
       "<div>\n",
       "<style scoped>\n",
       "    .dataframe tbody tr th:only-of-type {\n",
       "        vertical-align: middle;\n",
       "    }\n",
       "\n",
       "    .dataframe tbody tr th {\n",
       "        vertical-align: top;\n",
       "    }\n",
       "\n",
       "    .dataframe thead th {\n",
       "        text-align: right;\n",
       "    }\n",
       "</style>\n",
       "<table border=\"1\" class=\"dataframe\">\n",
       "  <thead>\n",
       "    <tr style=\"text-align: right;\">\n",
       "      <th>Company</th>\n",
       "      <th>Adidas</th>\n",
       "      <th>Nike</th>\n",
       "    </tr>\n",
       "    <tr>\n",
       "      <th>Segmentation</th>\n",
       "      <th></th>\n",
       "      <th></th>\n",
       "    </tr>\n",
       "  </thead>\n",
       "  <tbody>\n",
       "    <tr>\n",
       "      <th>1</th>\n",
       "      <td>3.519672</td>\n",
       "      <td>NaN</td>\n",
       "    </tr>\n",
       "    <tr>\n",
       "      <th>2</th>\n",
       "      <td>3.346756</td>\n",
       "      <td>4.173478</td>\n",
       "    </tr>\n",
       "    <tr>\n",
       "      <th>3</th>\n",
       "      <td>3.574519</td>\n",
       "      <td>4.349425</td>\n",
       "    </tr>\n",
       "    <tr>\n",
       "      <th>4</th>\n",
       "      <td>3.125000</td>\n",
       "      <td>4.180000</td>\n",
       "    </tr>\n",
       "  </tbody>\n",
       "</table>\n",
       "</div>"
      ],
      "text/plain": [
       "Company         Adidas      Nike\n",
       "Segmentation                    \n",
       "1             3.519672       NaN\n",
       "2             3.346756  4.173478\n",
       "3             3.574519  4.349425\n",
       "4             3.125000  4.180000"
      ]
     },
     "execution_count": 35,
     "metadata": {},
     "output_type": "execute_result"
    }
   ],
   "source": [
    "ii =mydf.set_index(['Company','Segmentation']).unstack(level = 0)\n",
    "ii.columns = ii.columns.droplevel()\n",
    "ii"
   ]
  },
  {
   "cell_type": "code",
   "execution_count": 39,
   "id": "a5c4405f-4d7c-4b35-948f-48d93fc3b215",
   "metadata": {},
   "outputs": [
    {
     "data": {
      "image/png": "[encoded data removed]",
      "text/plain": [
       "<Figure size 432x288 with 1 Axes>"
      ]
     },
     "metadata": {
      "needs_background": "light"
     },
     "output_type": "display_data"
    }
   ],
   "source": [
    "ii.plot(kind = 'line', use_index = True, marker = 'o',\\\n",
    "        xlabel = 'Segmentation', ylabel = 'Rating');"
   ]
  },
  {
   "cell_type": "markdown",
   "id": "511a808b-7dee-4df4-89a1-f5c37d397fe2",
   "metadata": {},
   "source": [
    "### Một câu khác là: Với số tiền X thì tôi nên mua cái giày nào? Hướng làm sẽ là tìm được khoảng tiền chứa số X đó. Sau đó thực hiện visualize trên khoảng đó. Vì tuơng quan sự thay đổi giá khác nhau trên toàn range nên sẽ áp hàm log vào mới tìm."
   ]
  },
  {
   "cell_type": "markdown",
   "id": "d51aa3be-af9b-4854-b04f-45d0d70e3c64",
   "metadata": {},
   "source": [
    "# Cái kiểu này tiếp theo là chuyển mấy cái Adidas với Nike thành 2 cột khác nhau để visualize cho dễ thấy. Cái đang làm là visualize số lượng chứ không phải trung bình reviews theo từng phân khúc. Mai phải sửa lại, thay cái counts bằng cái trung bình reviews"
   ]
  },
  {
   "cell_type": "markdown",
   "id": "f1fefb11-b131-4304-8781-ae9116c0c100",
   "metadata": {},
   "source": [
    "# Cần vẽ cái biểu đồ như link trong tin nhắn cá nhân"
   ]
  },
  {
   "cell_type": "code",
   "execution_count": 21,
   "id": "f16758e7-ea38-4d15-ba11-09653ab65a21",
   "metadata": {},
   "outputs": [],
   "source": [
    "columns = ['col1','col2','avg']\n",
    "df = pd.DataFrame(columns=columns)\n",
    "df.loc[0] = [1,2,3]\n",
    "df.loc[1] = [1,3,3]"
   ]
  },
  {
   "cell_type": "code",
   "execution_count": 22,
   "id": "221c6116-c140-49f0-9849-8ed047dbbdfc",
   "metadata": {},
   "outputs": [
    {
     "data": {
      "text/html": [
       "<div>\n",
       "<style scoped>\n",
       "    .dataframe tbody tr th:only-of-type {\n",
       "        vertical-align: middle;\n",
       "    }\n",
       "\n",
       "    .dataframe tbody tr th {\n",
       "        vertical-align: top;\n",
       "    }\n",
       "\n",
       "    .dataframe thead th {\n",
       "        text-align: right;\n",
       "    }\n",
       "</style>\n",
       "<table border=\"1\" class=\"dataframe\">\n",
       "  <thead>\n",
       "    <tr style=\"text-align: right;\">\n",
       "      <th></th>\n",
       "      <th>col1</th>\n",
       "      <th>col2</th>\n",
       "      <th>avg</th>\n",
       "    </tr>\n",
       "  </thead>\n",
       "  <tbody>\n",
       "    <tr>\n",
       "      <th>0</th>\n",
       "      <td>1</td>\n",
       "      <td>2</td>\n",
       "      <td>3</td>\n",
       "    </tr>\n",
       "    <tr>\n",
       "      <th>1</th>\n",
       "      <td>1</td>\n",
       "      <td>3</td>\n",
       "      <td>3</td>\n",
       "    </tr>\n",
       "  </tbody>\n",
       "</table>\n",
       "</div>"
      ],
      "text/plain": [
       "  col1 col2 avg\n",
       "0    1    2   3\n",
       "1    1    3   3"
      ]
     },
     "execution_count": 22,
     "metadata": {},
     "output_type": "execute_result"
    }
   ],
   "source": [
    "df"
   ]
  },
  {
   "cell_type": "code",
   "execution_count": null,
   "id": "103df30e-8410-4046-9e13-1822d28bb34c",
   "metadata": {},
   "outputs": [],
   "source": []
  }
 ],
 "metadata": {
  "kernelspec": {
   "display_name": "Python 3",
   "language": "python",
   "name": "python3"
  },
  "language_info": {
   "codemirror_mode": {
    "name": "ipython",
    "version": 3
   },
   "file_extension": ".py",
   "mimetype": "text/x-python",
   "name": "python",
   "nbconvert_exporter": "python",
   "pygments_lexer": "ipython3",
   "version": "3.8.8"
  }
 },
 "nbformat": 4,
 "nbformat_minor": 5
}
