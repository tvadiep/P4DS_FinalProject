{
 "cells": [
  {
   "cell_type": "markdown",
   "id": "ae89ae58",
   "metadata": {},
   "source": [
    "## Import các thư viện cần thiết\n"
   ]
  },
  {
   "cell_type": "code",
   "execution_count": 1,
   "id": "28f17703",
   "metadata": {},
   "outputs": [],
   "source": [
    "import pandas as pd\n",
    "import matplotlib.pyplot as plt\n",
    "import numpy as np"
   ]
  },
  {
   "cell_type": "markdown",
   "id": "5c28d537",
   "metadata": {},
   "source": [
    "---"
   ]
  },
  {
   "cell_type": "markdown",
   "id": "a7f3a2fd",
   "metadata": {},
   "source": [
    "## Thu thập dữ liệu"
   ]
  },
  {
   "cell_type": "markdown",
   "id": "0de1d6fe",
   "metadata": {},
   "source": [
    "Trong bài này, ta sẽ dùng dữ liệu đã được thu thập sẵn là file \"Adidas Vs Nike.csv\" đính kèm; Adidas vs Nike là một cuộc cạnh tranh không ngừng trong ngành công nghiệp thể thao. Tập dữ liệu này bao gồm thông tin sản phẩm của hai công ty khổng lồ này với những thông tin quan trọng. Dữ liệu này được lấy từ trang Kaggle, và gốc của dữ liệu là [ở đây](https://data.world/data-hut/product-data-from-nike) (Nike) và\n",
    "[ở đây](https://data.world/data-hut/product-data-from-adidas) (Adidas).\n"
   ]
  },
  {
   "cell_type": "markdown",
   "id": "dc75e837",
   "metadata": {},
   "source": [
    "---"
   ]
  },
  {
   "cell_type": "markdown",
   "id": "506f7e54",
   "metadata": {},
   "source": [
    "## Khám phá dữ liệu"
   ]
  }
 ],
 "metadata": {
  "kernelspec": {
   "display_name": "Python 3",
   "language": "python",
   "name": "python3"
  },
  "language_info": {
   "codemirror_mode": {
    "name": "ipython",
    "version": 3
   },
   "file_extension": ".py",
   "mimetype": "text/x-python",
   "name": "python",
   "nbconvert_exporter": "python",
   "pygments_lexer": "ipython3",
   "version": "3.8.5"
  }
 },
 "nbformat": 4,
 "nbformat_minor": 5
}
