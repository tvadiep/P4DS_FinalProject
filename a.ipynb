{
 "cells": [
  {
   "cell_type": "code",
   "execution_count": 1,
   "id": "8cc27023-3c9b-4612-9782-c99b25faeb9d",
   "metadata": {},
   "outputs": [
    {
     "name": "stdout",
     "output_type": "stream",
     "text": [
      "/home/tvdiep/anaconda3/envs/p4ds-env/bin/python\n"
     ]
    }
   ],
   "source": [
    "!which python"
   ]
  },
  {
   "cell_type": "markdown",
   "id": "29f7820a-8092-466d-9cb6-478fe68206f0",
   "metadata": {},
   "source": [
    "## Import các thư viện cần thiết"
   ]
  },
  {
   "cell_type": "code",
   "execution_count": 2,
   "id": "ff6efc6f-992d-40dc-b95c-6206de0aaddb",
   "metadata": {},
   "outputs": [],
   "source": [
    "import numpy as np\n",
    "import pandas as pd"
   ]
  },
  {
   "cell_type": "markdown",
   "id": "bb3fb907-01e8-4823-b661-a66121f2497f",
   "metadata": {},
   "source": [
    "## Thu thập dữ liệu"
   ]
  },
  {
   "cell_type": "markdown",
   "id": "31c33243-56c1-496f-94e4-cbe716a6814d",
   "metadata": {},
   "source": [
    "Dữ liệu chúng em sử dụng ở đây bao gồm 3268 sản phẩm của Nike và Adidas với 12 thông tin đi kèm như: ratings, discount, sales prices, listed price,..."
   ]
  },
  {
   "cell_type": "markdown",
   "id": "580a4a26-13c2-4f3d-a0e4-5a7f1df42bde",
   "metadata": {},
   "source": [
    "## Khám phá dữ liệu"
   ]
  },
  {
   "cell_type": "markdown",
   "id": "2a75e738-2441-4c34-8b6e-43e006c6ed94",
   "metadata": {},
   "source": [
    "### Đọc dữ liệu vào Dataframe"
   ]
  },
  {
   "cell_type": "code",
   "execution_count": 3,
   "id": "87b5703a-a390-42f6-b84b-37c40518fedd",
   "metadata": {},
   "outputs": [],
   "source": [
    "sale_data = pd.read_csv(\"https://raw.githubusercontent.com/tvadiep/P4DS_FinalProject/main/Adidas_Nike.csv\")"
   ]
  },
  {
   "cell_type": "code",
   "execution_count": 4,
   "id": "61a1a609-f4ab-427d-9fef-effa44af399c",
   "metadata": {
    "tags": []
   },
   "outputs": [
    {
     "data": {
      "text/html": [
       "<div>\n",
       "<style scoped>\n",
       "    .dataframe tbody tr th:only-of-type {\n",
       "        vertical-align: middle;\n",
       "    }\n",
       "\n",
       "    .dataframe tbody tr th {\n",
       "        vertical-align: top;\n",
       "    }\n",
       "\n",
       "    .dataframe thead th {\n",
       "        text-align: right;\n",
       "    }\n",
       "</style>\n",
       "<table border=\"1\" class=\"dataframe\">\n",
       "  <thead>\n",
       "    <tr style=\"text-align: right;\">\n",
       "      <th></th>\n",
       "      <th>Product Name</th>\n",
       "      <th>Product ID</th>\n",
       "      <th>Listing Price</th>\n",
       "      <th>Sale Price</th>\n",
       "      <th>Discount</th>\n",
       "      <th>Brand</th>\n",
       "      <th>Description</th>\n",
       "      <th>Rating</th>\n",
       "      <th>Reviews</th>\n",
       "      <th>Last Visited</th>\n",
       "    </tr>\n",
       "  </thead>\n",
       "  <tbody>\n",
       "    <tr>\n",
       "      <th>0</th>\n",
       "      <td>Women's adidas Originals NMD_Racer Primeknit S...</td>\n",
       "      <td>AH2430</td>\n",
       "      <td>14999</td>\n",
       "      <td>7499</td>\n",
       "      <td>50</td>\n",
       "      <td>Adidas Adidas ORIGINALS</td>\n",
       "      <td>Channeling the streamlined look of an '80s rac...</td>\n",
       "      <td>4.8</td>\n",
       "      <td>41</td>\n",
       "      <td>2020-04-13T15:06:14</td>\n",
       "    </tr>\n",
       "    <tr>\n",
       "      <th>1</th>\n",
       "      <td>Women's adidas Originals Sleek Shoes</td>\n",
       "      <td>G27341</td>\n",
       "      <td>7599</td>\n",
       "      <td>3799</td>\n",
       "      <td>50</td>\n",
       "      <td>Adidas ORIGINALS</td>\n",
       "      <td>A modern take on adidas sport heritage, tailor...</td>\n",
       "      <td>3.3</td>\n",
       "      <td>24</td>\n",
       "      <td>2020-04-13T15:06:15</td>\n",
       "    </tr>\n",
       "    <tr>\n",
       "      <th>2</th>\n",
       "      <td>Women's adidas Swim Puka Slippers</td>\n",
       "      <td>CM0081</td>\n",
       "      <td>999</td>\n",
       "      <td>599</td>\n",
       "      <td>40</td>\n",
       "      <td>Adidas CORE / NEO</td>\n",
       "      <td>These adidas Puka slippers for women's come wi...</td>\n",
       "      <td>2.6</td>\n",
       "      <td>37</td>\n",
       "      <td>2020-04-13T15:06:15</td>\n",
       "    </tr>\n",
       "    <tr>\n",
       "      <th>3</th>\n",
       "      <td>Women's adidas Sport Inspired Questar Ride Shoes</td>\n",
       "      <td>B44832</td>\n",
       "      <td>6999</td>\n",
       "      <td>3499</td>\n",
       "      <td>50</td>\n",
       "      <td>Adidas CORE / NEO</td>\n",
       "      <td>Inspired by modern tech runners, these women's...</td>\n",
       "      <td>4.1</td>\n",
       "      <td>35</td>\n",
       "      <td>2020-04-13T15:06:15</td>\n",
       "    </tr>\n",
       "    <tr>\n",
       "      <th>4</th>\n",
       "      <td>Women's adidas Originals Taekwondo Shoes</td>\n",
       "      <td>D98205</td>\n",
       "      <td>7999</td>\n",
       "      <td>3999</td>\n",
       "      <td>50</td>\n",
       "      <td>Adidas ORIGINALS</td>\n",
       "      <td>This design is inspired by vintage Taekwondo s...</td>\n",
       "      <td>3.5</td>\n",
       "      <td>72</td>\n",
       "      <td>2020-04-13T15:06:15</td>\n",
       "    </tr>\n",
       "  </tbody>\n",
       "</table>\n",
       "</div>"
      ],
      "text/plain": [
       "                                        Product Name Product ID  \\\n",
       "0  Women's adidas Originals NMD_Racer Primeknit S...     AH2430   \n",
       "1               Women's adidas Originals Sleek Shoes     G27341   \n",
       "2                  Women's adidas Swim Puka Slippers     CM0081   \n",
       "3   Women's adidas Sport Inspired Questar Ride Shoes     B44832   \n",
       "4           Women's adidas Originals Taekwondo Shoes     D98205   \n",
       "\n",
       "   Listing Price  Sale Price  Discount                    Brand  \\\n",
       "0          14999        7499        50  Adidas Adidas ORIGINALS   \n",
       "1           7599        3799        50         Adidas ORIGINALS   \n",
       "2            999         599        40        Adidas CORE / NEO   \n",
       "3           6999        3499        50        Adidas CORE / NEO   \n",
       "4           7999        3999        50         Adidas ORIGINALS   \n",
       "\n",
       "                                         Description  Rating  Reviews  \\\n",
       "0  Channeling the streamlined look of an '80s rac...     4.8       41   \n",
       "1  A modern take on adidas sport heritage, tailor...     3.3       24   \n",
       "2  These adidas Puka slippers for women's come wi...     2.6       37   \n",
       "3  Inspired by modern tech runners, these women's...     4.1       35   \n",
       "4  This design is inspired by vintage Taekwondo s...     3.5       72   \n",
       "\n",
       "          Last Visited  \n",
       "0  2020-04-13T15:06:14  \n",
       "1  2020-04-13T15:06:15  \n",
       "2  2020-04-13T15:06:15  \n",
       "3  2020-04-13T15:06:15  \n",
       "4  2020-04-13T15:06:15  "
      ]
     },
     "execution_count": 4,
     "metadata": {},
     "output_type": "execute_result"
    }
   ],
   "source": [
    "sale_data.head()"
   ]
  },
  {
   "cell_type": "markdown",
   "id": "84d62c41-3d95-4b2f-b14e-1c60552ecc76",
   "metadata": {},
   "source": [
    "### Dữ liệu có bao nhiêu dòng, bao nhiêu cột"
   ]
  },
  {
   "cell_type": "code",
   "execution_count": 5,
   "id": "06716516-c77e-4ba5-8181-d9219741bd35",
   "metadata": {},
   "outputs": [
    {
     "name": "stdout",
     "output_type": "stream",
     "text": [
      "Dữ liệu có dòng 3268 và 10 cột\n"
     ]
    }
   ],
   "source": [
    "data_rows = sale_data.shape[0]\n",
    "data_cols = sale_data.shape[1]\n",
    "print('Dữ liệu có dòng {} và {} cột'.format(data_rows, data_cols))"
   ]
  },
  {
   "cell_type": "markdown",
   "id": "6496229a-eade-4f14-a854-2af8ec048006",
   "metadata": {
    "tags": []
   },
   "source": [
    "### Mỗi dòng có ý nghĩa gì?"
   ]
  },
  {
   "cell_type": "markdown",
   "id": "e085aa01-7647-4333-bc6f-cbfcae2358ce",
   "metadata": {
    "tags": []
   },
   "source": [
    "Mỗi dòng ở đây là thông tin của một sản phẩm"
   ]
  },
  {
   "cell_type": "markdown",
   "id": "b68ae390-670b-42f5-89e9-c52e8df6eb04",
   "metadata": {},
   "source": [
    "### Kiểm tra xem các dòng có bị lặp không?"
   ]
  },
  {
   "cell_type": "code",
   "execution_count": 6,
   "id": "ebddc512-3029-46ed-b063-be1e6285393e",
   "metadata": {},
   "outputs": [
    {
     "name": "stdout",
     "output_type": "stream",
     "text": [
      "Không có dòng nào bị lặp\n"
     ]
    }
   ],
   "source": [
    "num_duplicated_rows = sale_data.duplicated().sum()\n",
    "if num_duplicated_rows == 0:\n",
    "    print('Không có dòng nào bị lặp')\n",
    "else:\n",
    "    print('Có {} dòng bị lặp'.format(num_duplicated_rows))"
   ]
  },
  {
   "cell_type": "markdown",
   "id": "9ca96317-ea30-471f-b582-fac51ecc1dca",
   "metadata": {},
   "source": [
    "### Mỗi cột có ý nghĩa gì?"
   ]
  },
  {
   "cell_type": "markdown",
   "id": "20b82817-5073-43ac-be19-471e52132abb",
   "metadata": {},
   "source": [
    "* Product Name: Tên sản phẩm.\n",
    "* Product ID: Id sản phẩm.\n",
    "* Listing Price: Giá niêm yết.\n",
    "* Sale Price: Giá bán.\n",
    "* Discount: Giảm giá.\n",
    "* Brand: Nhãn hiệu.\n",
    "* Description: Mô tả.\n",
    "* Rating: Đánh giá.\n",
    "* Reviews: Số lượt nhận xét\n",
    "* Last Visited: Thời điểm ghi nhận dữ liệu."
   ]
  },
  {
   "cell_type": "markdown",
   "id": "944bd077-4c6c-4e16-8d91-3eab460b31c7",
   "metadata": {},
   "source": [
    "### Mỗi cột hiện đang có kiểu dữ liệu gì? Có cột nào có kiểu dữ liệu chưa phù hợp để có thể xử lý tiếp không?"
   ]
  },
  {
   "cell_type": "code",
   "execution_count": 7,
   "id": "08bc34e2-76a4-4ef7-900e-9c02dcd8b6e9",
   "metadata": {},
   "outputs": [
    {
     "data": {
      "text/plain": [
       "Product Name      object\n",
       "Product ID        object\n",
       "Listing Price      int64\n",
       "Sale Price         int64\n",
       "Discount           int64\n",
       "Brand             object\n",
       "Description       object\n",
       "Rating           float64\n",
       "Reviews            int64\n",
       "Last Visited      object\n",
       "dtype: object"
      ]
     },
     "execution_count": 7,
     "metadata": {},
     "output_type": "execute_result"
    }
   ],
   "source": [
    "sale_data.dtypes"
   ]
  },
  {
   "cell_type": "markdown",
   "id": "905ca66b-6e07-4803-bb20-704f2b96f146",
   "metadata": {},
   "source": [
    "### Cột có dtype là object nghĩa là sao?"
   ]
  },
  {
   "cell_type": "code",
   "execution_count": 8,
   "id": "a52bdbaa-9093-4eae-ae87-c6b41f828195",
   "metadata": {
    "tags": []
   },
   "outputs": [
    {
     "data": {
      "text/html": [
       "<div>\n",
       "<style scoped>\n",
       "    .dataframe tbody tr th:only-of-type {\n",
       "        vertical-align: middle;\n",
       "    }\n",
       "\n",
       "    .dataframe tbody tr th {\n",
       "        vertical-align: top;\n",
       "    }\n",
       "\n",
       "    .dataframe thead th {\n",
       "        text-align: right;\n",
       "    }\n",
       "</style>\n",
       "<table border=\"1\" class=\"dataframe\">\n",
       "  <thead>\n",
       "    <tr style=\"text-align: right;\">\n",
       "      <th></th>\n",
       "      <th>Product Name</th>\n",
       "      <th>Product ID</th>\n",
       "      <th>Brand</th>\n",
       "      <th>Description</th>\n",
       "      <th>Last Visited</th>\n",
       "    </tr>\n",
       "  </thead>\n",
       "  <tbody>\n",
       "    <tr>\n",
       "      <th>0</th>\n",
       "      <td>Women's adidas Originals NMD_Racer Primeknit S...</td>\n",
       "      <td>AH2430</td>\n",
       "      <td>Adidas Adidas ORIGINALS</td>\n",
       "      <td>Channeling the streamlined look of an '80s rac...</td>\n",
       "      <td>2020-04-13T15:06:14</td>\n",
       "    </tr>\n",
       "    <tr>\n",
       "      <th>1</th>\n",
       "      <td>Women's adidas Originals Sleek Shoes</td>\n",
       "      <td>G27341</td>\n",
       "      <td>Adidas ORIGINALS</td>\n",
       "      <td>A modern take on adidas sport heritage, tailor...</td>\n",
       "      <td>2020-04-13T15:06:15</td>\n",
       "    </tr>\n",
       "    <tr>\n",
       "      <th>2</th>\n",
       "      <td>Women's adidas Swim Puka Slippers</td>\n",
       "      <td>CM0081</td>\n",
       "      <td>Adidas CORE / NEO</td>\n",
       "      <td>These adidas Puka slippers for women's come wi...</td>\n",
       "      <td>2020-04-13T15:06:15</td>\n",
       "    </tr>\n",
       "    <tr>\n",
       "      <th>3</th>\n",
       "      <td>Women's adidas Sport Inspired Questar Ride Shoes</td>\n",
       "      <td>B44832</td>\n",
       "      <td>Adidas CORE / NEO</td>\n",
       "      <td>Inspired by modern tech runners, these women's...</td>\n",
       "      <td>2020-04-13T15:06:15</td>\n",
       "    </tr>\n",
       "    <tr>\n",
       "      <th>4</th>\n",
       "      <td>Women's adidas Originals Taekwondo Shoes</td>\n",
       "      <td>D98205</td>\n",
       "      <td>Adidas ORIGINALS</td>\n",
       "      <td>This design is inspired by vintage Taekwondo s...</td>\n",
       "      <td>2020-04-13T15:06:15</td>\n",
       "    </tr>\n",
       "    <tr>\n",
       "      <th>...</th>\n",
       "      <td>...</td>\n",
       "      <td>...</td>\n",
       "      <td>...</td>\n",
       "      <td>...</td>\n",
       "      <td>...</td>\n",
       "    </tr>\n",
       "    <tr>\n",
       "      <th>3263</th>\n",
       "      <td>Air Jordan 8 Retro</td>\n",
       "      <td>CI1236-100</td>\n",
       "      <td>Nike</td>\n",
       "      <td>The Air Jordan 8 Retro recaptures the memorabl...</td>\n",
       "      <td>2020-04-13T15:41:01</td>\n",
       "    </tr>\n",
       "    <tr>\n",
       "      <th>3264</th>\n",
       "      <td>Nike Phantom Venom Club IC</td>\n",
       "      <td>AO0578-717</td>\n",
       "      <td>Nike</td>\n",
       "      <td>The Nike Phantom Venom Club IC is engineered f...</td>\n",
       "      <td>2020-04-13T15:41:03</td>\n",
       "    </tr>\n",
       "    <tr>\n",
       "      <th>3265</th>\n",
       "      <td>Nike Mercurial Superfly 7 Academy TF</td>\n",
       "      <td>AT7978-414</td>\n",
       "      <td>Nike</td>\n",
       "      <td>The soft upper of the Nike Mercurial Superfly ...</td>\n",
       "      <td>2020-04-13T15:41:07</td>\n",
       "    </tr>\n",
       "    <tr>\n",
       "      <th>3266</th>\n",
       "      <td>Nike Air Max 98</td>\n",
       "      <td>AH6799-300</td>\n",
       "      <td>Nike</td>\n",
       "      <td>The Nike Air Max 98 features the OG design lin...</td>\n",
       "      <td>2020-04-13T15:41:19</td>\n",
       "    </tr>\n",
       "    <tr>\n",
       "      <th>3267</th>\n",
       "      <td>Nike P-6000 SE</td>\n",
       "      <td>CJ9585-600</td>\n",
       "      <td>Nike</td>\n",
       "      <td>A mash-up of Pegasus' past, the Nike P-6000 SE...</td>\n",
       "      <td>2020-04-13T15:42:57</td>\n",
       "    </tr>\n",
       "  </tbody>\n",
       "</table>\n",
       "<p>3268 rows × 5 columns</p>\n",
       "</div>"
      ],
      "text/plain": [
       "                                           Product Name  Product ID  \\\n",
       "0     Women's adidas Originals NMD_Racer Primeknit S...      AH2430   \n",
       "1                  Women's adidas Originals Sleek Shoes      G27341   \n",
       "2                     Women's adidas Swim Puka Slippers      CM0081   \n",
       "3      Women's adidas Sport Inspired Questar Ride Shoes      B44832   \n",
       "4              Women's adidas Originals Taekwondo Shoes      D98205   \n",
       "...                                                 ...         ...   \n",
       "3263                                 Air Jordan 8 Retro  CI1236-100   \n",
       "3264                         Nike Phantom Venom Club IC  AO0578-717   \n",
       "3265               Nike Mercurial Superfly 7 Academy TF  AT7978-414   \n",
       "3266                                    Nike Air Max 98  AH6799-300   \n",
       "3267                                     Nike P-6000 SE  CJ9585-600   \n",
       "\n",
       "                        Brand  \\\n",
       "0     Adidas Adidas ORIGINALS   \n",
       "1            Adidas ORIGINALS   \n",
       "2           Adidas CORE / NEO   \n",
       "3           Adidas CORE / NEO   \n",
       "4            Adidas ORIGINALS   \n",
       "...                       ...   \n",
       "3263                     Nike   \n",
       "3264                     Nike   \n",
       "3265                     Nike   \n",
       "3266                     Nike   \n",
       "3267                     Nike   \n",
       "\n",
       "                                            Description         Last Visited  \n",
       "0     Channeling the streamlined look of an '80s rac...  2020-04-13T15:06:14  \n",
       "1     A modern take on adidas sport heritage, tailor...  2020-04-13T15:06:15  \n",
       "2     These adidas Puka slippers for women's come wi...  2020-04-13T15:06:15  \n",
       "3     Inspired by modern tech runners, these women's...  2020-04-13T15:06:15  \n",
       "4     This design is inspired by vintage Taekwondo s...  2020-04-13T15:06:15  \n",
       "...                                                 ...                  ...  \n",
       "3263  The Air Jordan 8 Retro recaptures the memorabl...  2020-04-13T15:41:01  \n",
       "3264  The Nike Phantom Venom Club IC is engineered f...  2020-04-13T15:41:03  \n",
       "3265  The soft upper of the Nike Mercurial Superfly ...  2020-04-13T15:41:07  \n",
       "3266  The Nike Air Max 98 features the OG design lin...  2020-04-13T15:41:19  \n",
       "3267  A mash-up of Pegasus' past, the Nike P-6000 SE...  2020-04-13T15:42:57  \n",
       "\n",
       "[3268 rows x 5 columns]"
      ]
     },
     "execution_count": 8,
     "metadata": {},
     "output_type": "execute_result"
    }
   ],
   "source": [
    "sale_data.select_dtypes('object')"
   ]
  },
  {
   "cell_type": "markdown",
   "id": "62a02a7d-ed34-4339-8b6a-f59021f4cff5",
   "metadata": {},
   "source": [
    "## Tiền xử lý"
   ]
  },
  {
   "cell_type": "markdown",
   "id": "26c11932-2633-4186-9c51-d242ebbe1c69",
   "metadata": {
    "tags": []
   },
   "source": [
    "### Vấn đề cần tiền xử lý:"
   ]
  },
  {
   "cell_type": "markdown",
   "id": "20fabc94-5f8e-4316-9ba5-a2df0855db66",
   "metadata": {},
   "source": [
    "#### Đầu tiên chúng ta xem thử có các kiểu dữ liệu nào trong mỗi cột có dtype là object"
   ]
  },
  {
   "cell_type": "code",
   "execution_count": 9,
   "id": "b0ec642c-d7aa-48b1-9c55-6b2b87126355",
   "metadata": {},
   "outputs": [],
   "source": [
    "def open_object_dtype(s):\n",
    "    dtype_list = s.apply(type)\n",
    "    dtypes = set(dtype_list)\n",
    "    return dtypes"
   ]
  },
  {
   "cell_type": "code",
   "execution_count": 10,
   "id": "e3001434-cb3d-4fe5-b619-01c0880ed262",
   "metadata": {},
   "outputs": [
    {
     "data": {
      "text/html": [
       "<div>\n",
       "<style scoped>\n",
       "    .dataframe tbody tr th:only-of-type {\n",
       "        vertical-align: middle;\n",
       "    }\n",
       "\n",
       "    .dataframe tbody tr th {\n",
       "        vertical-align: top;\n",
       "    }\n",
       "\n",
       "    .dataframe thead th {\n",
       "        text-align: right;\n",
       "    }\n",
       "</style>\n",
       "<table border=\"1\" class=\"dataframe\">\n",
       "  <thead>\n",
       "    <tr style=\"text-align: right;\">\n",
       "      <th></th>\n",
       "      <th>Column</th>\n",
       "      <th>Type</th>\n",
       "    </tr>\n",
       "  </thead>\n",
       "  <tbody>\n",
       "    <tr>\n",
       "      <th>0</th>\n",
       "      <td>Product Name</td>\n",
       "      <td>{&lt;class 'str'&gt;}</td>\n",
       "    </tr>\n",
       "    <tr>\n",
       "      <th>1</th>\n",
       "      <td>Product ID</td>\n",
       "      <td>{&lt;class 'str'&gt;}</td>\n",
       "    </tr>\n",
       "    <tr>\n",
       "      <th>2</th>\n",
       "      <td>Brand</td>\n",
       "      <td>{&lt;class 'str'&gt;}</td>\n",
       "    </tr>\n",
       "    <tr>\n",
       "      <th>3</th>\n",
       "      <td>Description</td>\n",
       "      <td>{&lt;class 'str'&gt;, &lt;class 'float'&gt;}</td>\n",
       "    </tr>\n",
       "    <tr>\n",
       "      <th>4</th>\n",
       "      <td>Last Visited</td>\n",
       "      <td>{&lt;class 'str'&gt;}</td>\n",
       "    </tr>\n",
       "  </tbody>\n",
       "</table>\n",
       "</div>"
      ],
      "text/plain": [
       "         Column                              Type\n",
       "0  Product Name                   {<class 'str'>}\n",
       "1    Product ID                   {<class 'str'>}\n",
       "2         Brand                   {<class 'str'>}\n",
       "3   Description  {<class 'str'>, <class 'float'>}\n",
       "4  Last Visited                   {<class 'str'>}"
      ]
     },
     "execution_count": 10,
     "metadata": {},
     "output_type": "execute_result"
    }
   ],
   "source": [
    "cate_col_df = sale_data.select_dtypes(include='object').columns\n",
    "type_col = []\n",
    "for col in cate_col_df:\n",
    "    type_col.append(open_object_dtype(sale_data[col]))\n",
    "pd.DataFrame({'Column':cate_col_df, 'Type':type_col})"
   ]
  },
  {
   "cell_type": "markdown",
   "id": "9afbe861-1339-4b11-ac99-6ad4a3d53f20",
   "metadata": {},
   "source": [
    "#### Nhận thấy có cột `Last Visited` cần được chuyển về dạng `datetime`, ta thực hiện chuyển"
   ]
  },
  {
   "cell_type": "code",
   "execution_count": 11,
   "id": "31baa315-d515-457d-98cd-7c781aac9d25",
   "metadata": {},
   "outputs": [],
   "source": [
    "sale_data['Last Visited'] = pd.to_datetime(sale_data['Last Visited'])"
   ]
  },
  {
   "cell_type": "markdown",
   "id": "f18cbf70-5b5d-4470-a5cf-334287c62a7c",
   "metadata": {},
   "source": [
    "#### Look again"
   ]
  },
  {
   "cell_type": "code",
   "execution_count": 12,
   "id": "280ef263-aef8-4368-b502-a410c368c6a8",
   "metadata": {},
   "outputs": [
    {
     "data": {
      "text/plain": [
       "Product Name             object\n",
       "Product ID               object\n",
       "Listing Price             int64\n",
       "Sale Price                int64\n",
       "Discount                  int64\n",
       "Brand                    object\n",
       "Description              object\n",
       "Rating                  float64\n",
       "Reviews                   int64\n",
       "Last Visited     datetime64[ns]\n",
       "dtype: object"
      ]
     },
     "execution_count": 12,
     "metadata": {},
     "output_type": "execute_result"
    }
   ],
   "source": [
    "sale_data.dtypes"
   ]
  },
  {
   "cell_type": "markdown",
   "id": "7d81efd5-95bc-43c9-90e2-9d2dc038f991",
   "metadata": {},
   "source": [
    "## Khám phá dữ liệu (tiếp tục)"
   ]
  },
  {
   "cell_type": "markdown",
   "id": "9d38b6ca-4d63-4978-b8e6-73a6221373f4",
   "metadata": {},
   "source": [
    "### Với mỗi cột có kiểu dữ liệu dạng numeric, các giá trị được phân bố như thế nào?"
   ]
  },
  {
   "cell_type": "markdown",
   "id": "2f724298-e1e4-4c63-b26a-5d602ca6472a",
   "metadata": {},
   "source": [
    "Ta xếp `datetime` là `numeric` luôn, như vậy các cột có kiểu dữ liệu dạng numeric sẽ bao gồm: \n",
    "* Listing Price\n",
    "* Sale Price\n",
    "* Discount\n",
    "* Rating\n",
    "* Reviews\n",
    "* Last Visited\n",
    "\n",
    "Chúng ta sẽ thực hiện các thống kê trên cột này như sau:\n",
    "* Với mỗi cột tính tỉ lệ giá trị thiếu, giá trị min, max\n",
    "* Thêm vào dataframe có 3 dòng là \"missing_ratio\", \"min\", \"max\" và có các cột tuơng ứng cần thống kê"
   ]
  },
  {
   "cell_type": "code",
   "execution_count": 13,
   "id": "dcbac10e-d11c-4992-88bb-bf9decffabd0",
   "metadata": {},
   "outputs": [],
   "source": [
    "def to_statis(col):\n",
    "    tmp = col.describe(datetime_is_numeric = True)\n",
    "    p_nan = np.sum(col.isnull())*100/len(col)\n",
    "    if(col.name == 'Last Visited'):\n",
    "        min = tmp[2]\n",
    "        max = tmp[6]\n",
    "    else:\n",
    "        min = round(tmp[3],3)\n",
    "        max = round(tmp[7],3)\n",
    "    iSeries = pd.Series({'missing_ratio':p_nan, 'min': min, 'max': max}, index = ['missing_ratio', 'min', 'max'])\n",
    "    if(col.name != 'Last Visited'):\n",
    "        iSeries = round(iSeries,3)\n",
    "    return iSeries"
   ]
  },
  {
   "cell_type": "code",
   "execution_count": 14,
   "id": "ddd4cf32-4845-4245-8bb6-bfd697c32ee7",
   "metadata": {},
   "outputs": [
    {
     "data": {
      "text/html": [
       "<div>\n",
       "<style scoped>\n",
       "    .dataframe tbody tr th:only-of-type {\n",
       "        vertical-align: middle;\n",
       "    }\n",
       "\n",
       "    .dataframe tbody tr th {\n",
       "        vertical-align: top;\n",
       "    }\n",
       "\n",
       "    .dataframe thead th {\n",
       "        text-align: right;\n",
       "    }\n",
       "</style>\n",
       "<table border=\"1\" class=\"dataframe\">\n",
       "  <thead>\n",
       "    <tr style=\"text-align: right;\">\n",
       "      <th></th>\n",
       "      <th>Listing Price</th>\n",
       "      <th>Sale Price</th>\n",
       "      <th>Discount</th>\n",
       "      <th>Rating</th>\n",
       "      <th>Reviews</th>\n",
       "      <th>Last Visited</th>\n",
       "    </tr>\n",
       "  </thead>\n",
       "  <tbody>\n",
       "    <tr>\n",
       "      <th>missing_ratio</th>\n",
       "      <td>0.0</td>\n",
       "      <td>0.0</td>\n",
       "      <td>0.0</td>\n",
       "      <td>0.0</td>\n",
       "      <td>0.0</td>\n",
       "      <td>0.0</td>\n",
       "    </tr>\n",
       "    <tr>\n",
       "      <th>min</th>\n",
       "      <td>0.0</td>\n",
       "      <td>449.0</td>\n",
       "      <td>0.0</td>\n",
       "      <td>0.0</td>\n",
       "      <td>0.0</td>\n",
       "      <td>2020-04-13 15:06:14</td>\n",
       "    </tr>\n",
       "    <tr>\n",
       "      <th>max</th>\n",
       "      <td>29999.0</td>\n",
       "      <td>36500.0</td>\n",
       "      <td>60.0</td>\n",
       "      <td>5.0</td>\n",
       "      <td>223.0</td>\n",
       "      <td>2020-04-13 15:42:57</td>\n",
       "    </tr>\n",
       "  </tbody>\n",
       "</table>\n",
       "</div>"
      ],
      "text/plain": [
       "               Listing Price  Sale Price  Discount  Rating  Reviews  \\\n",
       "missing_ratio            0.0         0.0       0.0     0.0      0.0   \n",
       "min                      0.0       449.0       0.0     0.0      0.0   \n",
       "max                  29999.0     36500.0      60.0     5.0    223.0   \n",
       "\n",
       "                      Last Visited  \n",
       "missing_ratio                  0.0  \n",
       "min            2020-04-13 15:06:14  \n",
       "max            2020-04-13 15:42:57  "
      ]
     },
     "execution_count": 14,
     "metadata": {},
     "output_type": "execute_result"
    }
   ],
   "source": [
    "# YOUR CODE HERE\n",
    "nume_col_profiles_df = pd.DataFrame()\n",
    "nume_col_profiles_df['Listing Price'] = to_statis(sale_data['Listing Price'])\n",
    "nume_col_profiles_df['Sale Price'] = to_statis(sale_data['Sale Price'])\n",
    "nume_col_profiles_df['Discount'] = to_statis(sale_data['Discount'])\n",
    "nume_col_profiles_df['Rating'] = to_statis(sale_data['Rating'])\n",
    "nume_col_profiles_df['Reviews'] = to_statis(sale_data['Reviews'])\n",
    "nume_col_profiles_df['Last Visited'] = to_statis(sale_data['Last Visited'])\n",
    "# raise NotImplementedError()\n",
    "nume_col_profiles_df"
   ]
  },
  {
   "cell_type": "markdown",
   "id": "56624bfb-e442-4bba-b150-0add19d0b95a",
   "metadata": {},
   "source": [
    "### Với mỗi cột có kiểu dữ liệu dạng categorical, các giá trị được phân bố như thế nào?"
   ]
  },
  {
   "cell_type": "markdown",
   "id": "be2923ca-37cf-43e7-8c3c-2b391b8c0fc2",
   "metadata": {},
   "source": [
    "Ta có các cột có kiểu dữ liệu là categorical như sau:\n",
    "* Product Name\n",
    "* Product ID\n",
    "* Brand\n",
    "* Description\n",
    "\n",
    "Với mỗi cột như vậy, ta tính tỉ lệ giá trị bị thiếu, số giá trị duy nhất và danh sách của các giá trị đó. Sau đó lưu vào dataframe với 3 dòng là:\n",
    "* missing_ratio\n",
    "* num_diff_vals\n",
    "* diff_vals\n",
    "Các cột trong dataframe này tuơng ứng với các cột có kiểu dữ liệu là categorical"
   ]
  },
  {
   "cell_type": "code",
   "execution_count": 15,
   "id": "fb0e889f-ed11-49ac-b52c-8c3fa9232d3c",
   "metadata": {},
   "outputs": [],
   "source": [
    "def cate_statis(col):\n",
    "    p_null = np.sum(col.isnull()) / len(col)*100\n",
    "    num_vals = col.nunique()\n",
    "    diff_vals = col.unique()\n",
    "    return pd.Series({'missing_ratio': p_null, 'num_diff_vals': num_vals, 'diff_vals': diff_vals})"
   ]
  },
  {
   "cell_type": "code",
   "execution_count": 16,
   "id": "405d60d1-0618-469f-916a-b16a75103404",
   "metadata": {},
   "outputs": [
    {
     "data": {
      "text/html": [
       "<div>\n",
       "<style scoped>\n",
       "    .dataframe tbody tr th:only-of-type {\n",
       "        vertical-align: middle;\n",
       "    }\n",
       "\n",
       "    .dataframe tbody tr th {\n",
       "        vertical-align: top;\n",
       "    }\n",
       "\n",
       "    .dataframe thead th {\n",
       "        text-align: right;\n",
       "    }\n",
       "</style>\n",
       "<table border=\"1\" class=\"dataframe\">\n",
       "  <thead>\n",
       "    <tr style=\"text-align: right;\">\n",
       "      <th></th>\n",
       "      <th>Product Name</th>\n",
       "      <th>Product ID</th>\n",
       "      <th>Brand</th>\n",
       "      <th>Description</th>\n",
       "    </tr>\n",
       "  </thead>\n",
       "  <tbody>\n",
       "    <tr>\n",
       "      <th>missing_ratio</th>\n",
       "      <td>0.0</td>\n",
       "      <td>0.0</td>\n",
       "      <td>0.0</td>\n",
       "      <td>0.091799</td>\n",
       "    </tr>\n",
       "    <tr>\n",
       "      <th>num_diff_vals</th>\n",
       "      <td>1531</td>\n",
       "      <td>3179</td>\n",
       "      <td>5</td>\n",
       "      <td>1762</td>\n",
       "    </tr>\n",
       "    <tr>\n",
       "      <th>diff_vals</th>\n",
       "      <td>[Women's adidas Originals NMD_Racer Primeknit ...</td>\n",
       "      <td>[AH2430, G27341, CM0081, B44832, D98205, B7558...</td>\n",
       "      <td>[Adidas Adidas ORIGINALS, Adidas ORIGINALS, Ad...</td>\n",
       "      <td>[Channeling the streamlined look of an '80s ra...</td>\n",
       "    </tr>\n",
       "  </tbody>\n",
       "</table>\n",
       "</div>"
      ],
      "text/plain": [
       "                                                    Product Name  \\\n",
       "missing_ratio                                                0.0   \n",
       "num_diff_vals                                               1531   \n",
       "diff_vals      [Women's adidas Originals NMD_Racer Primeknit ...   \n",
       "\n",
       "                                                      Product ID  \\\n",
       "missing_ratio                                                0.0   \n",
       "num_diff_vals                                               3179   \n",
       "diff_vals      [AH2430, G27341, CM0081, B44832, D98205, B7558...   \n",
       "\n",
       "                                                           Brand  \\\n",
       "missing_ratio                                                0.0   \n",
       "num_diff_vals                                                  5   \n",
       "diff_vals      [Adidas Adidas ORIGINALS, Adidas ORIGINALS, Ad...   \n",
       "\n",
       "                                                     Description  \n",
       "missing_ratio                                           0.091799  \n",
       "num_diff_vals                                               1762  \n",
       "diff_vals      [Channeling the streamlined look of an '80s ra...  "
      ]
     },
     "execution_count": 16,
     "metadata": {},
     "output_type": "execute_result"
    }
   ],
   "source": [
    "# Ap ham cate_statis vao tat ca cac cot cua dataframe\n",
    "cate_col_profiles_df = pd.DataFrame()\n",
    "cate_col_profiles_df['Product Name'] = cate_statis(sale_data['Product Name'])\n",
    "cate_col_profiles_df['Product ID'] = cate_statis(sale_data['Product ID'])\n",
    "cate_col_profiles_df['Brand'] = cate_statis(sale_data['Brand'])\n",
    "cate_col_profiles_df['Description'] = cate_statis(sale_data['Description'])\n",
    "# raise NotImplementedError()\n",
    "cate_col_profiles_df"
   ]
  },
  {
   "cell_type": "markdown",
   "id": "ed575ddf-05a8-48ba-a97e-b50183c31d45",
   "metadata": {},
   "source": [
    "### Đã đủ 10 cột"
   ]
  },
  {
   "cell_type": "markdown",
   "id": "c5bbd5d6-3125-48a9-88f8-3d7c4fd64a14",
   "metadata": {},
   "source": [
    "## Phân tích dữ liệu để trả lời cho các câu hỏi "
   ]
  },
  {
   "cell_type": "code",
   "execution_count": 21,
   "id": "3e721fac-5afb-408d-bde5-cb947a69fd0a",
   "metadata": {},
   "outputs": [],
   "source": [
    "iseri = sale_data.Rating * sale_data.Reviews"
   ]
  },
  {
   "cell_type": "code",
   "execution_count": 22,
   "id": "70f4e558-73af-44a0-b1c7-f4b14c562a53",
   "metadata": {},
   "outputs": [
    {
     "data": {
      "text/plain": [
       "0       196.8\n",
       "1        79.2\n",
       "2        96.2\n",
       "3       143.5\n",
       "4       252.0\n",
       "        ...  \n",
       "3263      5.0\n",
       "3264      0.0\n",
       "3265      5.0\n",
       "3266     16.0\n",
       "3267      0.0\n",
       "Length: 3268, dtype: float64"
      ]
     },
     "execution_count": 22,
     "metadata": {},
     "output_type": "execute_result"
    }
   ],
   "source": []
  },
  {
   "cell_type": "markdown",
   "id": "ea430fa4-13ac-4992-b6e0-2454572cb8e8",
   "metadata": {},
   "source": [
    "### Vấn đề cần tiền xử lý:\n",
    "* Xóa đi các dòng không có Rating"
   ]
  },
  {
   "cell_type": "markdown",
   "id": "1c914a5e-5195-4785-8548-cc0c05cbe0c5",
   "metadata": {},
   "source": [
    "### Câu hỏi dự định, với mỗi phân khúc sản phẩm thì Nike hay Adidas được đánh giá cao hơn?(so sánh Rating như Bảo đã đưa ra)"
   ]
  },
  {
   "cell_type": "markdown",
   "id": "7db0bb2d-6b52-4319-8575-c7dcde2e25aa",
   "metadata": {},
   "source": [
    "### Nike và Adidas đang tập trung vào segmentation nào?(Số sản phẩm)"
   ]
  },
  {
   "cell_type": "markdown",
   "id": "24d07357-f100-4a76-942f-d89f7cf02981",
   "metadata": {},
   "source": [
    "### Một hứong làm là: Visualize price segmentation của mỗi công ty"
   ]
  },
  {
   "cell_type": "code",
   "execution_count": 1,
   "id": "ec4bb568-020c-41a4-8297-c05b6ae8d0be",
   "metadata": {},
   "outputs": [
    {
     "ename": "NameError",
     "evalue": "name 'sale_data' is not defined",
     "output_type": "error",
     "traceback": [
      "\u001b[0;31m---------------------------------------------------------------------------\u001b[0m",
      "\u001b[0;31mNameError\u001b[0m                                 Traceback (most recent call last)",
      "\u001b[0;32m<ipython-input-1-52e6cc3225bd>\u001b[0m in \u001b[0;36m<module>\u001b[0;34m\u001b[0m\n\u001b[0;32m----> 1\u001b[0;31m \u001b[0mx\u001b[0m \u001b[0;34m=\u001b[0m \u001b[0msale_data\u001b[0m\u001b[0;34m\u001b[0m\u001b[0;34m\u001b[0m\u001b[0m\n\u001b[0m",
      "\u001b[0;31mNameError\u001b[0m: name 'sale_data' is not defined"
     ]
    }
   ],
   "source": [
    "x = sale_data"
   ]
  },
  {
   "cell_type": "code",
   "execution_count": 53,
   "id": "02d4abfa-253b-4b58-9ff6-9018b686cb74",
   "metadata": {},
   "outputs": [],
   "source": [
    "x = x[x['Reviews']>0]"
   ]
  },
  {
   "cell_type": "code",
   "execution_count": 2,
   "id": "9173ebf0-d49f-43e0-a383-86a5567975b3",
   "metadata": {},
   "outputs": [],
   "source": []
  },
  {
   "cell_type": "code",
   "execution_count": 28,
   "id": "4d7c4333-9740-462e-a1fd-eb90f71b8a79",
   "metadata": {},
   "outputs": [],
   "source": []
  },
  {
   "cell_type": "code",
   "execution_count": 54,
   "id": "2980ce71-7b62-445f-92cf-9568c414ba75",
   "metadata": {},
   "outputs": [
    {
     "data": {
      "text/plain": [
       "0       Adidas\n",
       "1       Adidas\n",
       "2       Adidas\n",
       "3       Adidas\n",
       "4       Adidas\n",
       "         ...  \n",
       "3261      Nike\n",
       "3262      Nike\n",
       "3263      Nike\n",
       "3265      Nike\n",
       "3266      Nike\n",
       "Name: Company, Length: 3011, dtype: object"
      ]
     },
     "execution_count": 54,
     "metadata": {},
     "output_type": "execute_result"
    }
   ],
   "source": [
    "x['Company']"
   ]
  },
  {
   "cell_type": "code",
   "execution_count": 52,
   "id": "e4c5ddb6-148b-402a-9356-419532d8632e",
   "metadata": {},
   "outputs": [
    {
     "data": {
      "text/plain": [
       "Company\n",
       "Adidas    3.367693\n",
       "Nike      4.247585\n",
       "Name: Rating, dtype: float64"
      ]
     },
     "execution_count": 52,
     "metadata": {},
     "output_type": "execute_result"
    }
   ],
   "source": [
    "x.groupby('Company').agg('mean')['Rating']"
   ]
  },
  {
   "cell_type": "code",
   "execution_count": 68,
   "id": "924c35c9-97f1-4741-9019-319ceac2fe7c",
   "metadata": {},
   "outputs": [
    {
     "data": {
      "text/plain": [
       "<AxesSubplot:>"
      ]
     },
     "execution_count": 68,
     "metadata": {},
     "output_type": "execute_result"
    },
    {
     "data": {
      "image/png": "[encoded data removed]",
      "text/plain": [
       "<Figure size 432x288 with 1 Axes>"
      ]
     },
     "metadata": {
      "needs_background": "light"
     },
     "output_type": "display_data"
    }
   ],
   "source": [
    "x['Reviews'].value_counts().plot.bar()"
   ]
  },
  {
   "cell_type": "code",
   "execution_count": null,
   "id": "5d2460f3-6c0a-41a0-ae00-8312cc1f0e9d",
   "metadata": {},
   "outputs": [],
   "source": []
  },
  {
   "cell_type": "code",
   "execution_count": 42,
   "id": "dc06bb1a-5010-4bfc-a9e6-b910437bd8d1",
   "metadata": {},
   "outputs": [
    {
     "data": {
      "text/plain": [
       "<bound method NDFrame._add_numeric_operations.<locals>.sum of 0       True\n",
       "1       True\n",
       "2       True\n",
       "3       True\n",
       "4       True\n",
       "        ... \n",
       "3263    True\n",
       "3264    True\n",
       "3265    True\n",
       "3266    True\n",
       "3267    True\n",
       "Name: Brand, Length: 3268, dtype: bool>"
      ]
     },
     "execution_count": 42,
     "metadata": {},
     "output_type": "execute_result"
    }
   ],
   "source": [
    "u.sum"
   ]
  },
  {
   "cell_type": "code",
   "execution_count": null,
   "id": "663cfedf-e193-4cbe-9856-c813d78d1adc",
   "metadata": {},
   "outputs": [],
   "source": []
  }
 ],
 "metadata": {
  "kernelspec": {
   "display_name": "Python 3",
   "language": "python",
   "name": "python3"
  },
  "language_info": {
   "codemirror_mode": {
    "name": "ipython",
    "version": 3
   },
   "file_extension": ".py",
   "mimetype": "text/x-python",
   "name": "python",
   "nbconvert_exporter": "python",
   "pygments_lexer": "ipython3",
   "version": "3.8.8"
  }
 },
 "nbformat": 4,
 "nbformat_minor": 5
}
